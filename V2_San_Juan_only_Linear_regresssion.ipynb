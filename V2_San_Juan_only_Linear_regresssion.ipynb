{
  "nbformat": 4,
  "nbformat_minor": 0,
  "metadata": {
    "colab": {
      "name": "V2_San Juan only_Linear regresssion.ipynb",
      "provenance": [],
      "collapsed_sections": [],
      "include_colab_link": true
    },
    "kernelspec": {
      "name": "python3",
      "display_name": "Python 3"
    },
    "accelerator": "TPU"
  },
  "cells": [
    {
      "cell_type": "markdown",
      "metadata": {
        "id": "view-in-github",
        "colab_type": "text"
      },
      "source": [
        "<a href=\"https://colab.research.google.com/github/bs3537/dengueAI/blob/master/V2_San_Juan_only_Linear_regresssion.ipynb\" target=\"_parent\"><img src=\"https://colab.research.google.com/assets/colab-badge.svg\" alt=\"Open In Colab\"/></a>"
      ]
    },
    {
      "cell_type": "code",
      "metadata": {
        "id": "5Ukh8Map-36v",
        "colab_type": "code",
        "colab": {}
      },
      "source": [
        "import numpy as np\n",
        "import matplotlib.pyplot as plt\n",
        "import pandas as pd"
      ],
      "execution_count": 0,
      "outputs": []
    },
    {
      "cell_type": "markdown",
      "metadata": {
        "id": "bLZYZusl_IHB",
        "colab_type": "text"
      },
      "source": [
        "####Purpose: Multiple regression using top 2 weather features from seaborn corr. heatmap"
      ]
    },
    {
      "cell_type": "code",
      "metadata": {
        "id": "bNfkOBCy_Jou",
        "colab_type": "code",
        "colab": {}
      },
      "source": [
        "#https://www.drivendata.org/competitions/44/dengai-predicting-disease-spread/page/80/"
      ],
      "execution_count": 0,
      "outputs": []
    },
    {
      "cell_type": "code",
      "metadata": {
        "id": "ffADrian_pCI",
        "colab_type": "code",
        "colab": {}
      },
      "source": [
        "#Your goal is to predict the total_cases label for each (city, year, weekofyear) in the test set. "
      ],
      "execution_count": 0,
      "outputs": []
    },
    {
      "cell_type": "code",
      "metadata": {
        "id": "NwxEGb6g_wbd",
        "colab_type": "code",
        "colab": {}
      },
      "source": [
        "#Performance metric = mean absolute error"
      ],
      "execution_count": 0,
      "outputs": []
    },
    {
      "cell_type": "markdown",
      "metadata": {
        "id": "-C1DncwC_72L",
        "colab_type": "text"
      },
      "source": [
        "##LIST OF FEATURES:\n",
        "You are provided the following set of information on a (year, weekofyear) timescale:\n",
        "\n",
        "(Where appropriate, units are provided as a _unit suffix on the feature name.)\n",
        "\n",
        "###City and date indicators\n",
        "1. city – City abbreviations: sj for San Juan and iq for Iquitos\n",
        "2. week_start_date – Date given in yyyy-mm-dd format\n",
        "###NOAA's GHCN daily climate data weather station measurements\n",
        "1. station_max_temp_c – Maximum temperature\n",
        "2. station_min_temp_c – Minimum temperature\n",
        "3. station_avg_temp_c – Average temperature\n",
        "4. station_precip_mm – Total precipitation\n",
        "5. station_diur_temp_rng_c – Diurnal temperature range\n",
        "\n",
        "###PERSIANN satellite precipitation measurements (0.25x0.25 degree scale)\n",
        "\n",
        "6. precipitation_amt_mm – Total precipitation\n",
        "\n",
        "###NOAA's NCEP Climate Forecast System Reanalysis measurements (0.5x0.5 degree scale)\n",
        "\n",
        "7. reanalysis_sat_precip_amt_mm – Total precipitation\n",
        "8. reanalysis_dew_point_temp_k – Mean dew point temperature\n",
        "9. reanalysis_air_temp_k – Mean air temperature\n",
        "10. reanalysis_relative_humidity_percent – Mean relative humidity\n",
        "11. reanalysis_specific_humidity_g_per_kg – Mean specific humidity\n",
        "12. reanalysis_precip_amt_kg_per_m2 – Total precipitation\n",
        "13. reanalysis_max_air_temp_k – Maximum air temperature\n",
        "14. reanalysis_min_air_temp_k – Minimum air temperature\n",
        "15. reanalysis_avg_temp_k – Average air temperature\n",
        "16. reanalysis_tdtr_k – Diurnal temperature range\n",
        "\n",
        "###Satellite vegetation - Normalized difference vegetation index (NDVI) - NOAA's CDR Normalized Difference Vegetation Index (0.5x0.5 degree scale) measurements\n",
        "17. ndvi_se – Pixel southeast of city centroid\n",
        "18. ndvi_sw – Pixel southwest of city centroid\n",
        "19. ndvi_ne – Pixel northeast of city centroid\n",
        "20. ndvi_nw – Pixel northwest of city centroid"
      ]
    },
    {
      "cell_type": "markdown",
      "metadata": {
        "id": "kcOv7N-DB8IY",
        "colab_type": "text"
      },
      "source": [
        "####TARGET VARIABLE = total_cases label for each (city, year, weekofyear)"
      ]
    },
    {
      "cell_type": "code",
      "metadata": {
        "id": "R812MHU9CGnV",
        "colab_type": "code",
        "colab": {}
      },
      "source": [
        "import sys"
      ],
      "execution_count": 0,
      "outputs": []
    },
    {
      "cell_type": "code",
      "metadata": {
        "id": "lbD6Iui1C4nV",
        "colab_type": "code",
        "colab": {}
      },
      "source": [
        "#Load train features and labels datasets\n",
        "train_features = pd.read_csv('https://s3.amazonaws.com/drivendata/data/44/public/dengue_features_train.csv')"
      ],
      "execution_count": 0,
      "outputs": []
    },
    {
      "cell_type": "code",
      "metadata": {
        "id": "s-_yx5mWDiXj",
        "colab_type": "code",
        "outputId": "0ddb282f-3a25-4a5a-969c-f17b140dac50",
        "colab": {
          "base_uri": "https://localhost:8080/",
          "height": 218
        }
      },
      "source": [
        "train_features.head()"
      ],
      "execution_count": 0,
      "outputs": [
        {
          "output_type": "execute_result",
          "data": {
            "text/html": [
              "<div>\n",
              "<style scoped>\n",
              "    .dataframe tbody tr th:only-of-type {\n",
              "        vertical-align: middle;\n",
              "    }\n",
              "\n",
              "    .dataframe tbody tr th {\n",
              "        vertical-align: top;\n",
              "    }\n",
              "\n",
              "    .dataframe thead th {\n",
              "        text-align: right;\n",
              "    }\n",
              "</style>\n",
              "<table border=\"1\" class=\"dataframe\">\n",
              "  <thead>\n",
              "    <tr style=\"text-align: right;\">\n",
              "      <th></th>\n",
              "      <th>city</th>\n",
              "      <th>year</th>\n",
              "      <th>weekofyear</th>\n",
              "      <th>week_start_date</th>\n",
              "      <th>ndvi_ne</th>\n",
              "      <th>ndvi_nw</th>\n",
              "      <th>ndvi_se</th>\n",
              "      <th>ndvi_sw</th>\n",
              "      <th>precipitation_amt_mm</th>\n",
              "      <th>reanalysis_air_temp_k</th>\n",
              "      <th>reanalysis_avg_temp_k</th>\n",
              "      <th>reanalysis_dew_point_temp_k</th>\n",
              "      <th>reanalysis_max_air_temp_k</th>\n",
              "      <th>reanalysis_min_air_temp_k</th>\n",
              "      <th>reanalysis_precip_amt_kg_per_m2</th>\n",
              "      <th>reanalysis_relative_humidity_percent</th>\n",
              "      <th>reanalysis_sat_precip_amt_mm</th>\n",
              "      <th>reanalysis_specific_humidity_g_per_kg</th>\n",
              "      <th>reanalysis_tdtr_k</th>\n",
              "      <th>station_avg_temp_c</th>\n",
              "      <th>station_diur_temp_rng_c</th>\n",
              "      <th>station_max_temp_c</th>\n",
              "      <th>station_min_temp_c</th>\n",
              "      <th>station_precip_mm</th>\n",
              "    </tr>\n",
              "  </thead>\n",
              "  <tbody>\n",
              "    <tr>\n",
              "      <th>0</th>\n",
              "      <td>sj</td>\n",
              "      <td>1990</td>\n",
              "      <td>18</td>\n",
              "      <td>1990-04-30</td>\n",
              "      <td>0.122600</td>\n",
              "      <td>0.103725</td>\n",
              "      <td>0.198483</td>\n",
              "      <td>0.177617</td>\n",
              "      <td>12.42</td>\n",
              "      <td>297.572857</td>\n",
              "      <td>297.742857</td>\n",
              "      <td>292.414286</td>\n",
              "      <td>299.8</td>\n",
              "      <td>295.9</td>\n",
              "      <td>32.00</td>\n",
              "      <td>73.365714</td>\n",
              "      <td>12.42</td>\n",
              "      <td>14.012857</td>\n",
              "      <td>2.628571</td>\n",
              "      <td>25.442857</td>\n",
              "      <td>6.900000</td>\n",
              "      <td>29.4</td>\n",
              "      <td>20.0</td>\n",
              "      <td>16.0</td>\n",
              "    </tr>\n",
              "    <tr>\n",
              "      <th>1</th>\n",
              "      <td>sj</td>\n",
              "      <td>1990</td>\n",
              "      <td>19</td>\n",
              "      <td>1990-05-07</td>\n",
              "      <td>0.169900</td>\n",
              "      <td>0.142175</td>\n",
              "      <td>0.162357</td>\n",
              "      <td>0.155486</td>\n",
              "      <td>22.82</td>\n",
              "      <td>298.211429</td>\n",
              "      <td>298.442857</td>\n",
              "      <td>293.951429</td>\n",
              "      <td>300.9</td>\n",
              "      <td>296.4</td>\n",
              "      <td>17.94</td>\n",
              "      <td>77.368571</td>\n",
              "      <td>22.82</td>\n",
              "      <td>15.372857</td>\n",
              "      <td>2.371429</td>\n",
              "      <td>26.714286</td>\n",
              "      <td>6.371429</td>\n",
              "      <td>31.7</td>\n",
              "      <td>22.2</td>\n",
              "      <td>8.6</td>\n",
              "    </tr>\n",
              "    <tr>\n",
              "      <th>2</th>\n",
              "      <td>sj</td>\n",
              "      <td>1990</td>\n",
              "      <td>20</td>\n",
              "      <td>1990-05-14</td>\n",
              "      <td>0.032250</td>\n",
              "      <td>0.172967</td>\n",
              "      <td>0.157200</td>\n",
              "      <td>0.170843</td>\n",
              "      <td>34.54</td>\n",
              "      <td>298.781429</td>\n",
              "      <td>298.878571</td>\n",
              "      <td>295.434286</td>\n",
              "      <td>300.5</td>\n",
              "      <td>297.3</td>\n",
              "      <td>26.10</td>\n",
              "      <td>82.052857</td>\n",
              "      <td>34.54</td>\n",
              "      <td>16.848571</td>\n",
              "      <td>2.300000</td>\n",
              "      <td>26.714286</td>\n",
              "      <td>6.485714</td>\n",
              "      <td>32.2</td>\n",
              "      <td>22.8</td>\n",
              "      <td>41.4</td>\n",
              "    </tr>\n",
              "    <tr>\n",
              "      <th>3</th>\n",
              "      <td>sj</td>\n",
              "      <td>1990</td>\n",
              "      <td>21</td>\n",
              "      <td>1990-05-21</td>\n",
              "      <td>0.128633</td>\n",
              "      <td>0.245067</td>\n",
              "      <td>0.227557</td>\n",
              "      <td>0.235886</td>\n",
              "      <td>15.36</td>\n",
              "      <td>298.987143</td>\n",
              "      <td>299.228571</td>\n",
              "      <td>295.310000</td>\n",
              "      <td>301.4</td>\n",
              "      <td>297.0</td>\n",
              "      <td>13.90</td>\n",
              "      <td>80.337143</td>\n",
              "      <td>15.36</td>\n",
              "      <td>16.672857</td>\n",
              "      <td>2.428571</td>\n",
              "      <td>27.471429</td>\n",
              "      <td>6.771429</td>\n",
              "      <td>33.3</td>\n",
              "      <td>23.3</td>\n",
              "      <td>4.0</td>\n",
              "    </tr>\n",
              "    <tr>\n",
              "      <th>4</th>\n",
              "      <td>sj</td>\n",
              "      <td>1990</td>\n",
              "      <td>22</td>\n",
              "      <td>1990-05-28</td>\n",
              "      <td>0.196200</td>\n",
              "      <td>0.262200</td>\n",
              "      <td>0.251200</td>\n",
              "      <td>0.247340</td>\n",
              "      <td>7.52</td>\n",
              "      <td>299.518571</td>\n",
              "      <td>299.664286</td>\n",
              "      <td>295.821429</td>\n",
              "      <td>301.9</td>\n",
              "      <td>297.5</td>\n",
              "      <td>12.20</td>\n",
              "      <td>80.460000</td>\n",
              "      <td>7.52</td>\n",
              "      <td>17.210000</td>\n",
              "      <td>3.014286</td>\n",
              "      <td>28.942857</td>\n",
              "      <td>9.371429</td>\n",
              "      <td>35.0</td>\n",
              "      <td>23.9</td>\n",
              "      <td>5.8</td>\n",
              "    </tr>\n",
              "  </tbody>\n",
              "</table>\n",
              "</div>"
            ],
            "text/plain": [
              "  city  year  ...  station_min_temp_c station_precip_mm\n",
              "0   sj  1990  ...                20.0              16.0\n",
              "1   sj  1990  ...                22.2               8.6\n",
              "2   sj  1990  ...                22.8              41.4\n",
              "3   sj  1990  ...                23.3               4.0\n",
              "4   sj  1990  ...                23.9               5.8\n",
              "\n",
              "[5 rows x 24 columns]"
            ]
          },
          "metadata": {
            "tags": []
          },
          "execution_count": 7
        }
      ]
    },
    {
      "cell_type": "code",
      "metadata": {
        "id": "Xdpbz7WuDm8b",
        "colab_type": "code",
        "outputId": "8113572f-4c0a-4eb2-c885-ad75c8814564",
        "colab": {
          "base_uri": "https://localhost:8080/",
          "height": 35
        }
      },
      "source": [
        "train_features.shape"
      ],
      "execution_count": 0,
      "outputs": [
        {
          "output_type": "execute_result",
          "data": {
            "text/plain": [
              "(1456, 24)"
            ]
          },
          "metadata": {
            "tags": []
          },
          "execution_count": 8
        }
      ]
    },
    {
      "cell_type": "code",
      "metadata": {
        "id": "rpDm9LmxDrY-",
        "colab_type": "code",
        "colab": {}
      },
      "source": [
        "train_labels = pd.read_csv('https://s3.amazonaws.com/drivendata/data/44/public/dengue_labels_train.csv')"
      ],
      "execution_count": 0,
      "outputs": []
    },
    {
      "cell_type": "code",
      "metadata": {
        "id": "KZ9UDAwsD1jJ",
        "colab_type": "code",
        "outputId": "2dadbe23-b6ee-4877-cb4f-a01b9811e88a",
        "colab": {
          "base_uri": "https://localhost:8080/",
          "height": 198
        }
      },
      "source": [
        "train_labels.head()"
      ],
      "execution_count": 0,
      "outputs": [
        {
          "output_type": "execute_result",
          "data": {
            "text/html": [
              "<div>\n",
              "<style scoped>\n",
              "    .dataframe tbody tr th:only-of-type {\n",
              "        vertical-align: middle;\n",
              "    }\n",
              "\n",
              "    .dataframe tbody tr th {\n",
              "        vertical-align: top;\n",
              "    }\n",
              "\n",
              "    .dataframe thead th {\n",
              "        text-align: right;\n",
              "    }\n",
              "</style>\n",
              "<table border=\"1\" class=\"dataframe\">\n",
              "  <thead>\n",
              "    <tr style=\"text-align: right;\">\n",
              "      <th></th>\n",
              "      <th>city</th>\n",
              "      <th>year</th>\n",
              "      <th>weekofyear</th>\n",
              "      <th>total_cases</th>\n",
              "    </tr>\n",
              "  </thead>\n",
              "  <tbody>\n",
              "    <tr>\n",
              "      <th>0</th>\n",
              "      <td>sj</td>\n",
              "      <td>1990</td>\n",
              "      <td>18</td>\n",
              "      <td>4</td>\n",
              "    </tr>\n",
              "    <tr>\n",
              "      <th>1</th>\n",
              "      <td>sj</td>\n",
              "      <td>1990</td>\n",
              "      <td>19</td>\n",
              "      <td>5</td>\n",
              "    </tr>\n",
              "    <tr>\n",
              "      <th>2</th>\n",
              "      <td>sj</td>\n",
              "      <td>1990</td>\n",
              "      <td>20</td>\n",
              "      <td>4</td>\n",
              "    </tr>\n",
              "    <tr>\n",
              "      <th>3</th>\n",
              "      <td>sj</td>\n",
              "      <td>1990</td>\n",
              "      <td>21</td>\n",
              "      <td>3</td>\n",
              "    </tr>\n",
              "    <tr>\n",
              "      <th>4</th>\n",
              "      <td>sj</td>\n",
              "      <td>1990</td>\n",
              "      <td>22</td>\n",
              "      <td>6</td>\n",
              "    </tr>\n",
              "  </tbody>\n",
              "</table>\n",
              "</div>"
            ],
            "text/plain": [
              "  city  year  weekofyear  total_cases\n",
              "0   sj  1990          18            4\n",
              "1   sj  1990          19            5\n",
              "2   sj  1990          20            4\n",
              "3   sj  1990          21            3\n",
              "4   sj  1990          22            6"
            ]
          },
          "metadata": {
            "tags": []
          },
          "execution_count": 10
        }
      ]
    },
    {
      "cell_type": "code",
      "metadata": {
        "id": "_2nI1SQjD6pQ",
        "colab_type": "code",
        "outputId": "c1c4a62c-2d2b-44e0-e95b-c109ae38dc93",
        "colab": {
          "base_uri": "https://localhost:8080/",
          "height": 35
        }
      },
      "source": [
        "train_labels.shape"
      ],
      "execution_count": 0,
      "outputs": [
        {
          "output_type": "execute_result",
          "data": {
            "text/plain": [
              "(1456, 4)"
            ]
          },
          "metadata": {
            "tags": []
          },
          "execution_count": 11
        }
      ]
    },
    {
      "cell_type": "code",
      "metadata": {
        "id": "FAYWnm4ID-W0",
        "colab_type": "code",
        "colab": {}
      },
      "source": [
        "#Merge train features and labels datasets"
      ],
      "execution_count": 0,
      "outputs": []
    },
    {
      "cell_type": "code",
      "metadata": {
        "id": "P_5iKLG0EVm4",
        "colab_type": "code",
        "colab": {}
      },
      "source": [
        "train = pd.merge(train_features, train_labels)"
      ],
      "execution_count": 0,
      "outputs": []
    },
    {
      "cell_type": "code",
      "metadata": {
        "id": "HLbpdKOvEjH7",
        "colab_type": "code",
        "outputId": "2e6107b8-2ee7-4bde-e4e1-286aa1547a2e",
        "colab": {
          "base_uri": "https://localhost:8080/",
          "height": 218
        }
      },
      "source": [
        "train.head()"
      ],
      "execution_count": 0,
      "outputs": [
        {
          "output_type": "execute_result",
          "data": {
            "text/html": [
              "<div>\n",
              "<style scoped>\n",
              "    .dataframe tbody tr th:only-of-type {\n",
              "        vertical-align: middle;\n",
              "    }\n",
              "\n",
              "    .dataframe tbody tr th {\n",
              "        vertical-align: top;\n",
              "    }\n",
              "\n",
              "    .dataframe thead th {\n",
              "        text-align: right;\n",
              "    }\n",
              "</style>\n",
              "<table border=\"1\" class=\"dataframe\">\n",
              "  <thead>\n",
              "    <tr style=\"text-align: right;\">\n",
              "      <th></th>\n",
              "      <th>city</th>\n",
              "      <th>year</th>\n",
              "      <th>weekofyear</th>\n",
              "      <th>week_start_date</th>\n",
              "      <th>ndvi_ne</th>\n",
              "      <th>ndvi_nw</th>\n",
              "      <th>ndvi_se</th>\n",
              "      <th>ndvi_sw</th>\n",
              "      <th>precipitation_amt_mm</th>\n",
              "      <th>reanalysis_air_temp_k</th>\n",
              "      <th>reanalysis_avg_temp_k</th>\n",
              "      <th>reanalysis_dew_point_temp_k</th>\n",
              "      <th>reanalysis_max_air_temp_k</th>\n",
              "      <th>reanalysis_min_air_temp_k</th>\n",
              "      <th>reanalysis_precip_amt_kg_per_m2</th>\n",
              "      <th>reanalysis_relative_humidity_percent</th>\n",
              "      <th>reanalysis_sat_precip_amt_mm</th>\n",
              "      <th>reanalysis_specific_humidity_g_per_kg</th>\n",
              "      <th>reanalysis_tdtr_k</th>\n",
              "      <th>station_avg_temp_c</th>\n",
              "      <th>station_diur_temp_rng_c</th>\n",
              "      <th>station_max_temp_c</th>\n",
              "      <th>station_min_temp_c</th>\n",
              "      <th>station_precip_mm</th>\n",
              "      <th>total_cases</th>\n",
              "    </tr>\n",
              "  </thead>\n",
              "  <tbody>\n",
              "    <tr>\n",
              "      <th>0</th>\n",
              "      <td>sj</td>\n",
              "      <td>1990</td>\n",
              "      <td>18</td>\n",
              "      <td>1990-04-30</td>\n",
              "      <td>0.122600</td>\n",
              "      <td>0.103725</td>\n",
              "      <td>0.198483</td>\n",
              "      <td>0.177617</td>\n",
              "      <td>12.42</td>\n",
              "      <td>297.572857</td>\n",
              "      <td>297.742857</td>\n",
              "      <td>292.414286</td>\n",
              "      <td>299.8</td>\n",
              "      <td>295.9</td>\n",
              "      <td>32.00</td>\n",
              "      <td>73.365714</td>\n",
              "      <td>12.42</td>\n",
              "      <td>14.012857</td>\n",
              "      <td>2.628571</td>\n",
              "      <td>25.442857</td>\n",
              "      <td>6.900000</td>\n",
              "      <td>29.4</td>\n",
              "      <td>20.0</td>\n",
              "      <td>16.0</td>\n",
              "      <td>4</td>\n",
              "    </tr>\n",
              "    <tr>\n",
              "      <th>1</th>\n",
              "      <td>sj</td>\n",
              "      <td>1990</td>\n",
              "      <td>19</td>\n",
              "      <td>1990-05-07</td>\n",
              "      <td>0.169900</td>\n",
              "      <td>0.142175</td>\n",
              "      <td>0.162357</td>\n",
              "      <td>0.155486</td>\n",
              "      <td>22.82</td>\n",
              "      <td>298.211429</td>\n",
              "      <td>298.442857</td>\n",
              "      <td>293.951429</td>\n",
              "      <td>300.9</td>\n",
              "      <td>296.4</td>\n",
              "      <td>17.94</td>\n",
              "      <td>77.368571</td>\n",
              "      <td>22.82</td>\n",
              "      <td>15.372857</td>\n",
              "      <td>2.371429</td>\n",
              "      <td>26.714286</td>\n",
              "      <td>6.371429</td>\n",
              "      <td>31.7</td>\n",
              "      <td>22.2</td>\n",
              "      <td>8.6</td>\n",
              "      <td>5</td>\n",
              "    </tr>\n",
              "    <tr>\n",
              "      <th>2</th>\n",
              "      <td>sj</td>\n",
              "      <td>1990</td>\n",
              "      <td>20</td>\n",
              "      <td>1990-05-14</td>\n",
              "      <td>0.032250</td>\n",
              "      <td>0.172967</td>\n",
              "      <td>0.157200</td>\n",
              "      <td>0.170843</td>\n",
              "      <td>34.54</td>\n",
              "      <td>298.781429</td>\n",
              "      <td>298.878571</td>\n",
              "      <td>295.434286</td>\n",
              "      <td>300.5</td>\n",
              "      <td>297.3</td>\n",
              "      <td>26.10</td>\n",
              "      <td>82.052857</td>\n",
              "      <td>34.54</td>\n",
              "      <td>16.848571</td>\n",
              "      <td>2.300000</td>\n",
              "      <td>26.714286</td>\n",
              "      <td>6.485714</td>\n",
              "      <td>32.2</td>\n",
              "      <td>22.8</td>\n",
              "      <td>41.4</td>\n",
              "      <td>4</td>\n",
              "    </tr>\n",
              "    <tr>\n",
              "      <th>3</th>\n",
              "      <td>sj</td>\n",
              "      <td>1990</td>\n",
              "      <td>21</td>\n",
              "      <td>1990-05-21</td>\n",
              "      <td>0.128633</td>\n",
              "      <td>0.245067</td>\n",
              "      <td>0.227557</td>\n",
              "      <td>0.235886</td>\n",
              "      <td>15.36</td>\n",
              "      <td>298.987143</td>\n",
              "      <td>299.228571</td>\n",
              "      <td>295.310000</td>\n",
              "      <td>301.4</td>\n",
              "      <td>297.0</td>\n",
              "      <td>13.90</td>\n",
              "      <td>80.337143</td>\n",
              "      <td>15.36</td>\n",
              "      <td>16.672857</td>\n",
              "      <td>2.428571</td>\n",
              "      <td>27.471429</td>\n",
              "      <td>6.771429</td>\n",
              "      <td>33.3</td>\n",
              "      <td>23.3</td>\n",
              "      <td>4.0</td>\n",
              "      <td>3</td>\n",
              "    </tr>\n",
              "    <tr>\n",
              "      <th>4</th>\n",
              "      <td>sj</td>\n",
              "      <td>1990</td>\n",
              "      <td>22</td>\n",
              "      <td>1990-05-28</td>\n",
              "      <td>0.196200</td>\n",
              "      <td>0.262200</td>\n",
              "      <td>0.251200</td>\n",
              "      <td>0.247340</td>\n",
              "      <td>7.52</td>\n",
              "      <td>299.518571</td>\n",
              "      <td>299.664286</td>\n",
              "      <td>295.821429</td>\n",
              "      <td>301.9</td>\n",
              "      <td>297.5</td>\n",
              "      <td>12.20</td>\n",
              "      <td>80.460000</td>\n",
              "      <td>7.52</td>\n",
              "      <td>17.210000</td>\n",
              "      <td>3.014286</td>\n",
              "      <td>28.942857</td>\n",
              "      <td>9.371429</td>\n",
              "      <td>35.0</td>\n",
              "      <td>23.9</td>\n",
              "      <td>5.8</td>\n",
              "      <td>6</td>\n",
              "    </tr>\n",
              "  </tbody>\n",
              "</table>\n",
              "</div>"
            ],
            "text/plain": [
              "  city  year  weekofyear  ... station_min_temp_c  station_precip_mm  total_cases\n",
              "0   sj  1990          18  ...               20.0               16.0            4\n",
              "1   sj  1990          19  ...               22.2                8.6            5\n",
              "2   sj  1990          20  ...               22.8               41.4            4\n",
              "3   sj  1990          21  ...               23.3                4.0            3\n",
              "4   sj  1990          22  ...               23.9                5.8            6\n",
              "\n",
              "[5 rows x 25 columns]"
            ]
          },
          "metadata": {
            "tags": []
          },
          "execution_count": 14
        }
      ]
    },
    {
      "cell_type": "code",
      "metadata": {
        "id": "QqBQWX8TEnV2",
        "colab_type": "code",
        "outputId": "c64b9102-eaf6-44dd-ced3-d2248f118307",
        "colab": {
          "base_uri": "https://localhost:8080/",
          "height": 35
        }
      },
      "source": [
        "train.shape\n",
        "#city, year and week of year columns are duplicate in train_features and train_labels datasets so the total_cases column is added to the features dataset"
      ],
      "execution_count": 0,
      "outputs": [
        {
          "output_type": "execute_result",
          "data": {
            "text/plain": [
              "(1456, 25)"
            ]
          },
          "metadata": {
            "tags": []
          },
          "execution_count": 15
        }
      ]
    },
    {
      "cell_type": "code",
      "metadata": {
        "id": "Y4noS_AIFUPN",
        "colab_type": "code",
        "outputId": "d8c3365b-9fbb-4877-8826-b2c5ef5baaa5",
        "colab": {
          "base_uri": "https://localhost:8080/",
          "height": 490
        }
      },
      "source": [
        "train.dtypes"
      ],
      "execution_count": 0,
      "outputs": [
        {
          "output_type": "execute_result",
          "data": {
            "text/plain": [
              "city                                      object\n",
              "year                                       int64\n",
              "weekofyear                                 int64\n",
              "week_start_date                           object\n",
              "ndvi_ne                                  float64\n",
              "ndvi_nw                                  float64\n",
              "ndvi_se                                  float64\n",
              "ndvi_sw                                  float64\n",
              "precipitation_amt_mm                     float64\n",
              "reanalysis_air_temp_k                    float64\n",
              "reanalysis_avg_temp_k                    float64\n",
              "reanalysis_dew_point_temp_k              float64\n",
              "reanalysis_max_air_temp_k                float64\n",
              "reanalysis_min_air_temp_k                float64\n",
              "reanalysis_precip_amt_kg_per_m2          float64\n",
              "reanalysis_relative_humidity_percent     float64\n",
              "reanalysis_sat_precip_amt_mm             float64\n",
              "reanalysis_specific_humidity_g_per_kg    float64\n",
              "reanalysis_tdtr_k                        float64\n",
              "station_avg_temp_c                       float64\n",
              "station_diur_temp_rng_c                  float64\n",
              "station_max_temp_c                       float64\n",
              "station_min_temp_c                       float64\n",
              "station_precip_mm                        float64\n",
              "total_cases                                int64\n",
              "dtype: object"
            ]
          },
          "metadata": {
            "tags": []
          },
          "execution_count": 16
        }
      ]
    },
    {
      "cell_type": "code",
      "metadata": {
        "id": "miKFaNZL2DUk",
        "colab_type": "code",
        "outputId": "ef0bb337-5209-4dd4-fe3a-bcc2fb725255",
        "colab": {
          "base_uri": "https://localhost:8080/",
          "height": 72
        }
      },
      "source": [
        "#Data rows for San Juan \n",
        "train.city.value_counts()"
      ],
      "execution_count": 0,
      "outputs": [
        {
          "output_type": "execute_result",
          "data": {
            "text/plain": [
              "sj    936\n",
              "iq    520\n",
              "Name: city, dtype: int64"
            ]
          },
          "metadata": {
            "tags": []
          },
          "execution_count": 17
        }
      ]
    },
    {
      "cell_type": "code",
      "metadata": {
        "id": "gy5CcmQO3Q5X",
        "colab_type": "code",
        "colab": {}
      },
      "source": [
        "#San Juan has 936 rows which we can isolate and analyze separately"
      ],
      "execution_count": 0,
      "outputs": []
    },
    {
      "cell_type": "code",
      "metadata": {
        "id": "0aOIMqhN3X37",
        "colab_type": "code",
        "colab": {}
      },
      "source": [
        "train = train[train['city'].str.match('sj')]"
      ],
      "execution_count": 0,
      "outputs": []
    },
    {
      "cell_type": "code",
      "metadata": {
        "id": "4oGUXkPV4ukp",
        "colab_type": "code",
        "outputId": "ad2afcc4-6af7-4ffd-da2a-874105adf2d9",
        "colab": {
          "base_uri": "https://localhost:8080/",
          "height": 218
        }
      },
      "source": [
        "train.head(5)"
      ],
      "execution_count": 0,
      "outputs": [
        {
          "output_type": "execute_result",
          "data": {
            "text/html": [
              "<div>\n",
              "<style scoped>\n",
              "    .dataframe tbody tr th:only-of-type {\n",
              "        vertical-align: middle;\n",
              "    }\n",
              "\n",
              "    .dataframe tbody tr th {\n",
              "        vertical-align: top;\n",
              "    }\n",
              "\n",
              "    .dataframe thead th {\n",
              "        text-align: right;\n",
              "    }\n",
              "</style>\n",
              "<table border=\"1\" class=\"dataframe\">\n",
              "  <thead>\n",
              "    <tr style=\"text-align: right;\">\n",
              "      <th></th>\n",
              "      <th>city</th>\n",
              "      <th>year</th>\n",
              "      <th>weekofyear</th>\n",
              "      <th>week_start_date</th>\n",
              "      <th>ndvi_ne</th>\n",
              "      <th>ndvi_nw</th>\n",
              "      <th>ndvi_se</th>\n",
              "      <th>ndvi_sw</th>\n",
              "      <th>precipitation_amt_mm</th>\n",
              "      <th>reanalysis_air_temp_k</th>\n",
              "      <th>reanalysis_avg_temp_k</th>\n",
              "      <th>reanalysis_dew_point_temp_k</th>\n",
              "      <th>reanalysis_max_air_temp_k</th>\n",
              "      <th>reanalysis_min_air_temp_k</th>\n",
              "      <th>reanalysis_precip_amt_kg_per_m2</th>\n",
              "      <th>reanalysis_relative_humidity_percent</th>\n",
              "      <th>reanalysis_sat_precip_amt_mm</th>\n",
              "      <th>reanalysis_specific_humidity_g_per_kg</th>\n",
              "      <th>reanalysis_tdtr_k</th>\n",
              "      <th>station_avg_temp_c</th>\n",
              "      <th>station_diur_temp_rng_c</th>\n",
              "      <th>station_max_temp_c</th>\n",
              "      <th>station_min_temp_c</th>\n",
              "      <th>station_precip_mm</th>\n",
              "      <th>total_cases</th>\n",
              "    </tr>\n",
              "  </thead>\n",
              "  <tbody>\n",
              "    <tr>\n",
              "      <th>0</th>\n",
              "      <td>sj</td>\n",
              "      <td>1990</td>\n",
              "      <td>18</td>\n",
              "      <td>1990-04-30</td>\n",
              "      <td>0.122600</td>\n",
              "      <td>0.103725</td>\n",
              "      <td>0.198483</td>\n",
              "      <td>0.177617</td>\n",
              "      <td>12.42</td>\n",
              "      <td>297.572857</td>\n",
              "      <td>297.742857</td>\n",
              "      <td>292.414286</td>\n",
              "      <td>299.8</td>\n",
              "      <td>295.9</td>\n",
              "      <td>32.00</td>\n",
              "      <td>73.365714</td>\n",
              "      <td>12.42</td>\n",
              "      <td>14.012857</td>\n",
              "      <td>2.628571</td>\n",
              "      <td>25.442857</td>\n",
              "      <td>6.900000</td>\n",
              "      <td>29.4</td>\n",
              "      <td>20.0</td>\n",
              "      <td>16.0</td>\n",
              "      <td>4</td>\n",
              "    </tr>\n",
              "    <tr>\n",
              "      <th>1</th>\n",
              "      <td>sj</td>\n",
              "      <td>1990</td>\n",
              "      <td>19</td>\n",
              "      <td>1990-05-07</td>\n",
              "      <td>0.169900</td>\n",
              "      <td>0.142175</td>\n",
              "      <td>0.162357</td>\n",
              "      <td>0.155486</td>\n",
              "      <td>22.82</td>\n",
              "      <td>298.211429</td>\n",
              "      <td>298.442857</td>\n",
              "      <td>293.951429</td>\n",
              "      <td>300.9</td>\n",
              "      <td>296.4</td>\n",
              "      <td>17.94</td>\n",
              "      <td>77.368571</td>\n",
              "      <td>22.82</td>\n",
              "      <td>15.372857</td>\n",
              "      <td>2.371429</td>\n",
              "      <td>26.714286</td>\n",
              "      <td>6.371429</td>\n",
              "      <td>31.7</td>\n",
              "      <td>22.2</td>\n",
              "      <td>8.6</td>\n",
              "      <td>5</td>\n",
              "    </tr>\n",
              "    <tr>\n",
              "      <th>2</th>\n",
              "      <td>sj</td>\n",
              "      <td>1990</td>\n",
              "      <td>20</td>\n",
              "      <td>1990-05-14</td>\n",
              "      <td>0.032250</td>\n",
              "      <td>0.172967</td>\n",
              "      <td>0.157200</td>\n",
              "      <td>0.170843</td>\n",
              "      <td>34.54</td>\n",
              "      <td>298.781429</td>\n",
              "      <td>298.878571</td>\n",
              "      <td>295.434286</td>\n",
              "      <td>300.5</td>\n",
              "      <td>297.3</td>\n",
              "      <td>26.10</td>\n",
              "      <td>82.052857</td>\n",
              "      <td>34.54</td>\n",
              "      <td>16.848571</td>\n",
              "      <td>2.300000</td>\n",
              "      <td>26.714286</td>\n",
              "      <td>6.485714</td>\n",
              "      <td>32.2</td>\n",
              "      <td>22.8</td>\n",
              "      <td>41.4</td>\n",
              "      <td>4</td>\n",
              "    </tr>\n",
              "    <tr>\n",
              "      <th>3</th>\n",
              "      <td>sj</td>\n",
              "      <td>1990</td>\n",
              "      <td>21</td>\n",
              "      <td>1990-05-21</td>\n",
              "      <td>0.128633</td>\n",
              "      <td>0.245067</td>\n",
              "      <td>0.227557</td>\n",
              "      <td>0.235886</td>\n",
              "      <td>15.36</td>\n",
              "      <td>298.987143</td>\n",
              "      <td>299.228571</td>\n",
              "      <td>295.310000</td>\n",
              "      <td>301.4</td>\n",
              "      <td>297.0</td>\n",
              "      <td>13.90</td>\n",
              "      <td>80.337143</td>\n",
              "      <td>15.36</td>\n",
              "      <td>16.672857</td>\n",
              "      <td>2.428571</td>\n",
              "      <td>27.471429</td>\n",
              "      <td>6.771429</td>\n",
              "      <td>33.3</td>\n",
              "      <td>23.3</td>\n",
              "      <td>4.0</td>\n",
              "      <td>3</td>\n",
              "    </tr>\n",
              "    <tr>\n",
              "      <th>4</th>\n",
              "      <td>sj</td>\n",
              "      <td>1990</td>\n",
              "      <td>22</td>\n",
              "      <td>1990-05-28</td>\n",
              "      <td>0.196200</td>\n",
              "      <td>0.262200</td>\n",
              "      <td>0.251200</td>\n",
              "      <td>0.247340</td>\n",
              "      <td>7.52</td>\n",
              "      <td>299.518571</td>\n",
              "      <td>299.664286</td>\n",
              "      <td>295.821429</td>\n",
              "      <td>301.9</td>\n",
              "      <td>297.5</td>\n",
              "      <td>12.20</td>\n",
              "      <td>80.460000</td>\n",
              "      <td>7.52</td>\n",
              "      <td>17.210000</td>\n",
              "      <td>3.014286</td>\n",
              "      <td>28.942857</td>\n",
              "      <td>9.371429</td>\n",
              "      <td>35.0</td>\n",
              "      <td>23.9</td>\n",
              "      <td>5.8</td>\n",
              "      <td>6</td>\n",
              "    </tr>\n",
              "  </tbody>\n",
              "</table>\n",
              "</div>"
            ],
            "text/plain": [
              "  city  year  weekofyear  ... station_min_temp_c  station_precip_mm  total_cases\n",
              "0   sj  1990          18  ...               20.0               16.0            4\n",
              "1   sj  1990          19  ...               22.2                8.6            5\n",
              "2   sj  1990          20  ...               22.8               41.4            4\n",
              "3   sj  1990          21  ...               23.3                4.0            3\n",
              "4   sj  1990          22  ...               23.9                5.8            6\n",
              "\n",
              "[5 rows x 25 columns]"
            ]
          },
          "metadata": {
            "tags": []
          },
          "execution_count": 20
        }
      ]
    },
    {
      "cell_type": "code",
      "metadata": {
        "id": "JqBT4dK24yaV",
        "colab_type": "code",
        "outputId": "b91f3536-5eea-419d-b29d-380724e70729",
        "colab": {
          "base_uri": "https://localhost:8080/",
          "height": 35
        }
      },
      "source": [
        "train.shape"
      ],
      "execution_count": 0,
      "outputs": [
        {
          "output_type": "execute_result",
          "data": {
            "text/plain": [
              "(936, 25)"
            ]
          },
          "metadata": {
            "tags": []
          },
          "execution_count": 21
        }
      ]
    },
    {
      "cell_type": "code",
      "metadata": {
        "id": "uyAsfyBc4Qc_",
        "colab_type": "code",
        "colab": {}
      },
      "source": [
        "#Thus, we have isolated the train dataset with only city data for San Juan"
      ],
      "execution_count": 0,
      "outputs": []
    },
    {
      "cell_type": "code",
      "metadata": {
        "id": "ekRvPi1mkdGT",
        "colab_type": "code",
        "outputId": "a52a7247-2758-495c-d9e2-eed4495e2da5",
        "colab": {
          "base_uri": "https://localhost:8080/",
          "height": 298
        }
      },
      "source": [
        "#Distribution of the target\n",
        "import seaborn as sns\n",
        "sns.distplot(train['total_cases'])"
      ],
      "execution_count": 0,
      "outputs": [
        {
          "output_type": "execute_result",
          "data": {
            "text/plain": [
              "<matplotlib.axes._subplots.AxesSubplot at 0x7ff4bad4b630>"
            ]
          },
          "metadata": {
            "tags": []
          },
          "execution_count": 23
        },
        {
          "output_type": "display_data",
          "data": {
            "image/png": "[encoded data removed]",
            "text/plain": [
              "<Figure size 432x288 with 1 Axes>"
            ]
          },
          "metadata": {
            "tags": []
          }
        }
      ]
    },
    {
      "cell_type": "code",
      "metadata": {
        "id": "Scxd4CFtk5Nj",
        "colab_type": "code",
        "colab": {}
      },
      "source": [
        "#The target distribution is skewed"
      ],
      "execution_count": 0,
      "outputs": []
    },
    {
      "cell_type": "code",
      "metadata": {
        "id": "PPrAhoIak8rs",
        "colab_type": "code",
        "outputId": "57434eed-3882-402c-babe-a69a32a0399e",
        "colab": {
          "base_uri": "https://localhost:8080/",
          "height": 181
        }
      },
      "source": [
        "#Find outliers\n",
        "train['total_cases'].describe()"
      ],
      "execution_count": 0,
      "outputs": [
        {
          "output_type": "execute_result",
          "data": {
            "text/plain": [
              "count    936.000000\n",
              "mean      34.180556\n",
              "std       51.381372\n",
              "min        0.000000\n",
              "25%        9.000000\n",
              "50%       19.000000\n",
              "75%       37.000000\n",
              "max      461.000000\n",
              "Name: total_cases, dtype: float64"
            ]
          },
          "metadata": {
            "tags": []
          },
          "execution_count": 25
        }
      ]
    },
    {
      "cell_type": "code",
      "metadata": {
        "id": "G8bgM655ld7g",
        "colab_type": "code",
        "colab": {}
      },
      "source": [
        "#Remove outliers\n",
        "train = train[(train['total_cases'] >= np.percentile(train['total_cases'], 0.5)) & \n",
        "        (train['total_cases'] <= np.percentile(train['total_cases'], 99.5))]  "
      ],
      "execution_count": 0,
      "outputs": []
    },
    {
      "cell_type": "code",
      "metadata": {
        "id": "d9UW_O4_mBYU",
        "colab_type": "code",
        "outputId": "5c990cc7-9afc-42c1-e9c8-eb01fd3c33f6",
        "colab": {
          "base_uri": "https://localhost:8080/",
          "height": 35
        }
      },
      "source": [
        "train.shape"
      ],
      "execution_count": 0,
      "outputs": [
        {
          "output_type": "execute_result",
          "data": {
            "text/plain": [
              "(927, 25)"
            ]
          },
          "metadata": {
            "tags": []
          },
          "execution_count": 27
        }
      ]
    },
    {
      "cell_type": "code",
      "metadata": {
        "id": "21f2kb2EmKIn",
        "colab_type": "code",
        "outputId": "569c0b0f-fe68-451f-91f9-d3986c95ede6",
        "colab": {
          "base_uri": "https://localhost:8080/",
          "height": 298
        }
      },
      "source": [
        "sns.distplot(train['total_cases'])"
      ],
      "execution_count": 0,
      "outputs": [
        {
          "output_type": "execute_result",
          "data": {
            "text/plain": [
              "<matplotlib.axes._subplots.AxesSubplot at 0x7ff4c8924860>"
            ]
          },
          "metadata": {
            "tags": []
          },
          "execution_count": 28
        },
        {
          "output_type": "display_data",
          "data": {
            "image/png": "[encoded data removed]",
            "text/plain": [
              "<Figure size 432x288 with 1 Axes>"
            ]
          },
          "metadata": {
            "tags": []
          }
        }
      ]
    },
    {
      "cell_type": "code",
      "metadata": {
        "id": "M6ywKhxjsfTV",
        "colab_type": "code",
        "outputId": "f87af2f4-8de7-4794-e199-55ce4b79b3b9",
        "colab": {
          "base_uri": "https://localhost:8080/",
          "height": 35
        }
      },
      "source": [
        "#Do train, val split\n",
        "from sklearn.model_selection import train_test_split\n",
        "train, val = train_test_split(train, train_size=0.80, test_size=0.20, \n",
        "                              random_state=42)\n",
        "train.shape, val.shape"
      ],
      "execution_count": 0,
      "outputs": [
        {
          "output_type": "execute_result",
          "data": {
            "text/plain": [
              "((741, 25), (186, 25))"
            ]
          },
          "metadata": {
            "tags": []
          },
          "execution_count": 29
        }
      ]
    },
    {
      "cell_type": "code",
      "metadata": {
        "id": "q3sjydJnG9j5",
        "colab_type": "code",
        "colab": {}
      },
      "source": [
        "#Load test features dataset (for the competition)\n",
        "test = pd.read_csv('https://s3.amazonaws.com/drivendata/data/44/public/dengue_features_test.csv')"
      ],
      "execution_count": 0,
      "outputs": []
    },
    {
      "cell_type": "code",
      "metadata": {
        "id": "RN8eYzOwHRDw",
        "colab_type": "code",
        "colab": {}
      },
      "source": [
        "#Pandas Profiling\n"
      ],
      "execution_count": 0,
      "outputs": []
    },
    {
      "cell_type": "markdown",
      "metadata": {
        "id": "37xwkbdv6BFi",
        "colab_type": "text"
      },
      "source": [
        "#####Baseline statistics (mean and MAE) for the target variable total_cases in train dataset and baseline validation MAE"
      ]
    },
    {
      "cell_type": "code",
      "metadata": {
        "id": "7A-XYkerJjjQ",
        "colab_type": "code",
        "outputId": "e3b087d4-6b5f-4f4c-bb18-fc812d316462",
        "colab": {
          "base_uri": "https://localhost:8080/",
          "height": 181
        }
      },
      "source": [
        "train['total_cases']. describe()"
      ],
      "execution_count": 0,
      "outputs": [
        {
          "output_type": "execute_result",
          "data": {
            "text/plain": [
              "count    741.000000\n",
              "mean      31.582996\n",
              "std       40.668870\n",
              "min        1.000000\n",
              "25%        9.000000\n",
              "50%       18.000000\n",
              "75%       38.000000\n",
              "max      364.000000\n",
              "Name: total_cases, dtype: float64"
            ]
          },
          "metadata": {
            "tags": []
          },
          "execution_count": 31
        }
      ]
    },
    {
      "cell_type": "code",
      "metadata": {
        "id": "n8G_Q4Alvq0G",
        "colab_type": "code",
        "colab": {}
      },
      "source": [
        "#Baseline mean and mean absolute error"
      ],
      "execution_count": 0,
      "outputs": []
    },
    {
      "cell_type": "code",
      "metadata": {
        "id": "WLnzDoy8lUc-",
        "colab_type": "code",
        "outputId": "be89a217-e505-4fcf-a916-6415fab6ba6c",
        "colab": {
          "base_uri": "https://localhost:8080/",
          "height": 35
        }
      },
      "source": [
        "guess = train['total_cases'].mean()\n",
        "print(f'At the baseline, the mean total number of dengue cases in a year is: {guess:.2f}')"
      ],
      "execution_count": 0,
      "outputs": [
        {
          "output_type": "stream",
          "text": [
            "At the baseline, the mean total number of dengue cases in a year is: 31.58\n"
          ],
          "name": "stdout"
        }
      ]
    },
    {
      "cell_type": "code",
      "metadata": {
        "id": "I87_FCk6bHrd",
        "colab_type": "code",
        "colab": {}
      },
      "source": [
        "#If we had just guessed that the total number of dengue cases was 31.58 for a city in a particular year, we would be off by how much?"
      ],
      "execution_count": 0,
      "outputs": []
    },
    {
      "cell_type": "code",
      "metadata": {
        "id": "7fgbMfSkmF8C",
        "colab_type": "code",
        "outputId": "78c23125-e636-4916-9235-12f0c1d97e2b",
        "colab": {
          "base_uri": "https://localhost:8080/",
          "height": 72
        }
      },
      "source": [
        "from sklearn.metrics import mean_absolute_error\n",
        "\n",
        "# Arrange y target vectors\n",
        "target = 'total_cases'\n",
        "y_train = train[target]\n",
        "y_val = val[target]\n",
        "\n",
        "# Get mean baseline\n",
        "print('Mean Baseline (using 0 features)')\n",
        "guess = y_train.mean()\n",
        "\n",
        "# Train Error\n",
        "y_pred = [guess] * len(y_train)\n",
        "mae = mean_absolute_error(y_train, y_pred)\n",
        "print(f'Train mean absolute error: {mae:.2f} dengue cases per year')\n",
        "\n",
        "# Test Error\n",
        "y_pred = [guess] * len(y_val)\n",
        "mae = mean_absolute_error(y_val, y_pred)\n",
        "print(f'Validation mean absolute error: {mae:.2f} dengue cases per year')"
      ],
      "execution_count": 0,
      "outputs": [
        {
          "output_type": "stream",
          "text": [
            "Mean Baseline (using 0 features)\n",
            "Train mean absolute error: 24.94 dengue cases per year\n",
            "Validation mean absolute error: 26.96 dengue cases per year\n"
          ],
          "name": "stdout"
        }
      ]
    },
    {
      "cell_type": "markdown",
      "metadata": {
        "id": "KijynMJM6N7H",
        "colab_type": "text"
      },
      "source": [
        "####Wrangle function, only leaving top 3 weather features from corr. heatmap"
      ]
    },
    {
      "cell_type": "code",
      "metadata": {
        "id": "1GvF83JA6Ysb",
        "colab_type": "code",
        "colab": {}
      },
      "source": [
        ""
      ],
      "execution_count": 0,
      "outputs": []
    },
    {
      "cell_type": "code",
      "metadata": {
        "id": "vyP7josIxith",
        "colab_type": "code",
        "colab": {}
      },
      "source": [
        "#we need to convert week_start_date to numeric form uisng pd.to_dateime function\n",
        "#wrangle function \n",
        "\n",
        "def wrangle(X):\n",
        "  X = X.copy()\n",
        "       \n",
        "    # Convert week_start_date to numeric form\n",
        "  X['week_start_date'] = pd.to_datetime(X['week_start_date'], infer_datetime_format=True)\n",
        "    \n",
        "    # Extract components from date_recorded, then drop the original column\n",
        "  X['year_recorded'] = X['week_start_date'].dt.year\n",
        "  X['month_recorded'] = X['week_start_date'].dt.month\n",
        "  #X['day_recorded'] = X['week_start_date'].dt.day\n",
        "  X = X.drop(columns='week_start_date')\n",
        "  X = X.drop(columns='year')\n",
        "  X = X.drop(columns='station_precip_mm')\n",
        "\n",
        "#I engineered few features which represent standing water, high risk feature for mosquitos\n",
        "\n",
        "  #1. X['standing water feature 1'] = X['station_precip_mm'] / X['station_max_temp_c']\n",
        "\n",
        "  #Standing water features\n",
        "  X['total satellite vegetation index of city'] = X['ndvi_se'] + X['ndvi_sw'] + X['ndvi_ne'] + X['ndvi_nw']\n",
        "\n",
        "  #Standing water features\n",
        "\n",
        "  #Standing water feature 1 = 'NOAA GCN precipitation amount in kg per m2 reanalyzed' * (total vegetation, sum of all 4 parts of the city)\n",
        "  X['standing water feature 1'] = X['reanalysis_precip_amt_kg_per_m2'] * X['total satellite vegetation index of city'] \n",
        "  #Standing water feature 2: 'NOAA GCN precipitation amount in kg per m2 reanalyzed'} * 'NOAA GCN mean relative humidity in pct reanalyzed'}\n",
        "  X['standing water feature 2'] = X['reanalysis_precip_amt_kg_per_m2'] * X['reanalysis_relative_humidity_percent']   \n",
        "  #Standing water feature 3: 'NOAA GCN precipitation amount in kg per m2 reanalyzed'} * 'NOAA GCN mean relative humidity in pct reanalyzed'} * (total vegetation)\n",
        "  X['standing water feature 3'] = X['reanalysis_precip_amt_kg_per_m2'] * X['reanalysis_relative_humidity_percent'] * X['total satellite vegetation index of city']  \n",
        "  #Standing water feature 4: 'NOAA GCN precipitation amount in kg per m2 reanalyzed'} / 'NOAA GCN max air temp reanalyzed'\n",
        "  X['standing water feature 4'] = X['reanalysis_precip_amt_kg_per_m2'] / X['reanalysis_max_air_temp_k']\n",
        "  #Standing water feature 5: ['NOAA GCN precipitation amount in kg per m2 reanalyzed'} * 'NOAA GCN mean relative humidity in pct reanalyzed'} * (total vegetation)]/['NOAA GCN max air temp reanalyzed']\n",
        "  X['standing water feature 5'] = X['reanalysis_precip_amt_kg_per_m2'] * X['reanalysis_relative_humidity_percent'] * X['total satellite vegetation index of city'] / X['reanalysis_max_air_temp_k']\n",
        "\n",
        "  \n",
        "  #Rename columns\n",
        "  X.rename(columns= {'reanalysis_air_temp_k':'Mean air temperature in K'}, inplace=True)\n",
        "  X.rename(columns= {'reanalysis_min_air_temp_k':'Minimum air temperature in K'}, inplace=True)\n",
        "  X.rename(columns= {'weekofyear':'Week of Year'}, inplace=True)\n",
        "  X.rename(columns= {'station_diur_temp_rng_c':'Diurnal temperature range in C'}, inplace=True)\n",
        "  X.rename(columns= {'reanalysis_precip_amt_kg_per_m2':'Total precipitation kg/m2'}, inplace=True)\n",
        "  X.rename(columns= {'reanalysis_tdtr_k':'Diurnal temperature range in K'}, inplace=True)\n",
        "  X.rename(columns= {'reanalysis_max_air_temp_k':'Maximum air temperature in K'}, inplace=True)\n",
        "  X.rename(columns= {'year_recorded':'Year recorded'}, inplace=True)\n",
        "  X.rename(columns= {'reanalysis_relative_humidity_percent':'Mean relative humidity'}, inplace=True)\n",
        "  X.rename(columns= {'month_recorded':'Month recorded'}, inplace=True)\n",
        "  X.rename(columns= {'reanalysis_dew_point_temp_k':'Mean dew point temp in K'}, inplace=True)\n",
        "  X.rename(columns= {'precipitation_amt_mm':'Total precipitation in mm'}, inplace=True)\n",
        "  X.rename(columns= {'station_min_temp_c':'Minimum temp in C'}, inplace=True)\n",
        "  X.rename(columns= {'ndvi_se':'Southeast vegetation index'}, inplace=True)\n",
        "  X.rename(columns= {'ndvi_ne':'Northeast vegetation index'}, inplace=True)\n",
        "  X.rename(columns= {'ndvi_nw':'Northwest vegetation index'}, inplace=True)\n",
        "  X.rename(columns= {'ndvi_sw':'Southwest vegetation index'}, inplace=True)\n",
        "  X.rename(columns= {'reanalysis_avg_temp_k':'Average air temperature in K'}, inplace=True)\n",
        "  X.rename(columns= {'reanalysis_sat_precip_amt_mm':'Total precipitation in mm (2)'}, inplace=True)\n",
        "  X.rename(columns= {'reanalysis_specific_humidity_g_per_kg':'Mean specific humidity'}, inplace=True)\n",
        "  X.rename(columns= {'station_avg_temp_c':'Average temp in C'}, inplace=True)\n",
        "  X.rename(columns= {'station_max_temp_c':'Maximum temp in C'}, inplace=True)\n",
        "  X.rename(columns= {'total_cases':'Total dengue cases in the week'}, inplace=True) \n",
        "\n",
        "  #Drop columns\n",
        "  X = X.drop(columns='Year recorded')\n",
        "  X = X.drop(columns='Week of Year')\n",
        "  X = X.drop(columns='Month recorded')\n",
        "  X = X.drop(columns='Total precipitation in mm (2)')\n",
        "  X = X.drop(columns='Average temp in C')\n",
        "  X = X.drop(columns='Maximum temp in C')\n",
        "  X = X.drop(columns='Minimum temp in C')\n",
        "  X = X.drop(columns='Diurnal temperature range in C')\n",
        "  X = X.drop(columns='Average air temperature in K')\n",
        "  X = X.drop(columns='city')\n",
        "  X = X.drop(columns='Northeast vegetation index')\n",
        "  X = X.drop(columns='Northwest vegetation index')\n",
        "  X = X.drop(columns='Southeast vegetation index')\n",
        "  X = X.drop(columns='Southwest vegetation index')\n",
        "  X = X.drop(columns='Total precipitation in mm')\n",
        "  X = X.drop(columns='Mean air temperature in K')\n",
        "  X = X.drop(columns='Maximum air temperature in K')\n",
        "  X = X.drop(columns='Minimum air temperature in K')\n",
        "  X = X.drop(columns='Total precipitation kg/m2')\n",
        "  X = X.drop(columns='Mean relative humidity')\n",
        "  X = X.drop(columns='Diurnal temperature range in K')\n",
        "  X = X.drop(columns='total satellite vegetation index of city')\n",
        "  X = X.drop(columns='standing water feature 1')\n",
        "  X = X.drop(columns='standing water feature 2')\n",
        "  X = X.drop(columns='standing water feature 3')\n",
        "  X = X.drop(columns='standing water feature 4')\n",
        "  X = X.drop(columns='standing water feature 5')\n",
        "\n",
        "\n",
        "\n",
        "    # return the wrangled dataframe\n",
        "  return X\n",
        "\n",
        "train = wrangle(train)\n",
        "val = wrangle(val)\n",
        "test = wrangle(test)"
      ],
      "execution_count": 0,
      "outputs": []
    },
    {
      "cell_type": "code",
      "metadata": {
        "id": "ryXvv6qWzT4q",
        "colab_type": "code",
        "outputId": "dce249e7-ce44-406b-8909-3f5ff53aefd9",
        "colab": {
          "base_uri": "https://localhost:8080/",
          "height": 138
        }
      },
      "source": [
        "train.head().T"
      ],
      "execution_count": 0,
      "outputs": [
        {
          "output_type": "execute_result",
          "data": {
            "text/html": [
              "<div>\n",
              "<style scoped>\n",
              "    .dataframe tbody tr th:only-of-type {\n",
              "        vertical-align: middle;\n",
              "    }\n",
              "\n",
              "    .dataframe tbody tr th {\n",
              "        vertical-align: top;\n",
              "    }\n",
              "\n",
              "    .dataframe thead th {\n",
              "        text-align: right;\n",
              "    }\n",
              "</style>\n",
              "<table border=\"1\" class=\"dataframe\">\n",
              "  <thead>\n",
              "    <tr style=\"text-align: right;\">\n",
              "      <th></th>\n",
              "      <th>853</th>\n",
              "      <th>97</th>\n",
              "      <th>552</th>\n",
              "      <th>675</th>\n",
              "      <th>597</th>\n",
              "    </tr>\n",
              "  </thead>\n",
              "  <tbody>\n",
              "    <tr>\n",
              "      <th>Mean dew point temp in K</th>\n",
              "      <td>296.721429</td>\n",
              "      <td>293.540000</td>\n",
              "      <td>295.402857</td>\n",
              "      <td>295.482857</td>\n",
              "      <td>296.530000</td>\n",
              "    </tr>\n",
              "    <tr>\n",
              "      <th>Mean specific humidity</th>\n",
              "      <td>18.210000</td>\n",
              "      <td>14.944286</td>\n",
              "      <td>16.771429</td>\n",
              "      <td>16.885714</td>\n",
              "      <td>18.011429</td>\n",
              "    </tr>\n",
              "    <tr>\n",
              "      <th>Total dengue cases in the week</th>\n",
              "      <td>33.000000</td>\n",
              "      <td>40.000000</td>\n",
              "      <td>23.000000</td>\n",
              "      <td>5.000000</td>\n",
              "      <td>65.000000</td>\n",
              "    </tr>\n",
              "  </tbody>\n",
              "</table>\n",
              "</div>"
            ],
            "text/plain": [
              "                                       853         97   ...         675         597\n",
              "Mean dew point temp in K        296.721429  293.540000  ...  295.482857  296.530000\n",
              "Mean specific humidity           18.210000   14.944286  ...   16.885714   18.011429\n",
              "Total dengue cases in the week   33.000000   40.000000  ...    5.000000   65.000000\n",
              "\n",
              "[3 rows x 5 columns]"
            ]
          },
          "metadata": {
            "tags": []
          },
          "execution_count": 37
        }
      ]
    },
    {
      "cell_type": "code",
      "metadata": {
        "id": "9iSdXibWvRI7",
        "colab_type": "code",
        "colab": {}
      },
      "source": [
        "#Seaborn correlation coefficient heat map"
      ],
      "execution_count": 0,
      "outputs": []
    },
    {
      "cell_type": "code",
      "metadata": {
        "id": "zTmRilakvUc0",
        "colab_type": "code",
        "outputId": "312d9faa-8dce-43f5-fe63-ad4835ebc55d",
        "colab": {
          "base_uri": "https://localhost:8080/",
          "height": 939
        }
      },
      "source": [
        "#Correlation coefficients heatmap on train dataset\n",
        "import seaborn as sns\n",
        "import matplotlib.pyplot as plt\n",
        "\n",
        "corr = train.corr()\n",
        "plt.figure(figsize = (15,15))\n",
        "ax = sns.heatmap(\n",
        "    corr, \n",
        "    vmin=-1, vmax=1, center=0,\n",
        "    cmap=sns.diverging_palette(20, 220, n=200),\n",
        "    square=True\n",
        ")\n",
        "\n",
        "\n",
        "ax.set_xticklabels(\n",
        "    ax.get_xticklabels(),\n",
        "    rotation=90,\n",
        "    horizontalalignment='right'\n",
        ");"
      ],
      "execution_count": 0,
      "outputs": [
        {
          "output_type": "display_data",
          "data": {
            "image/png": "[encoded data removed]",
            "text/plain": [
              "<Figure size 1080x1080 with 2 Axes>"
            ]
          },
          "metadata": {
            "tags": []
          }
        }
      ]
    },
    {
      "cell_type": "code",
      "metadata": {
        "id": "bQ09lRUSESmo",
        "colab_type": "code",
        "outputId": "dc1e83df-a9c4-4aae-b26f-4490faad8dd8",
        "colab": {
          "base_uri": "https://localhost:8080/",
          "height": 617
        }
      },
      "source": [
        "#3-D plot of the dengue cases and two environmental features\n",
        "import plotly.express as px\n",
        "px.scatter_3d(\n",
        "    train,\n",
        "    x='Total dengue cases in the week', \n",
        "    y='Mean specific humidity', \n",
        "    z='Mean dew point temp in K', \n",
        "     \n",
        "    title='Dengue cases in San Juan, PR and relation to environmental features'\n",
        ")\n"
      ],
      "execution_count": 0,
      "outputs": [
        {
          "output_type": "display_data",
          "data": {
            "text/html": [
              "<html>\n",
              "<head><meta charset=\"utf-8\" /></head>\n",
              "<body>\n",
              "    <div>\n",
              "            <script src=\"https://cdnjs.cloudflare.com/ajax/libs/mathjax/2.7.5/MathJax.js?config=TeX-AMS-MML_SVG\"></script><script type=\"text/javascript\">if (window.MathJax) {MathJax.Hub.Config({SVG: {font: \"STIX-Web\"}});}</script>\n",
              "                <script type=\"text/javascript\">window.PlotlyConfig = {MathJaxConfig: 'local'};</script>\n",
              "        <script src=\"https://cdn.plot.ly/plotly-latest.min.js\"></script>    \n",
              "            <div id=\"ab99ba87-7eed-42c9-994e-eab2dc28401e\" class=\"plotly-graph-div\" style=\"height:600px; width:100%;\"></div>\n",
              "            <script type=\"text/javascript\">\n",
              "                \n",
              "                    window.PLOTLYENV=window.PLOTLYENV || {};\n",
              "                    \n",
              "                if (document.getElementById(\"ab99ba87-7eed-42c9-994e-eab2dc28401e\")) {\n",
              "                    Plotly.newPlot(\n",
              "                        'ab99ba87-7eed-42c9-994e-eab2dc28401e',\n",
              "                        [{\"hoverlabel\": {\"namelength\": 0}, \"hovertemplate\": \"Total dengue cases in the week=%{x}<br>Mean specific humidity=%{y}<br>Mean dew point temp in K=%{z}\", \"legendgroup\": \"\", \"marker\": {\"color\": \"#636efa\", \"symbol\": \"circle\"}, \"mode\": \"markers\", \"name\": \"\", \"scene\": \"scene\", \"showlegend\": false, \"type\": \"scatter3d\", \"x\": [33, 40, 23, 5, 65, 42, 6, 26, 37, 108, 8, 13, 36, 11, 8, 11, 33, 4, 33, 56, 10, 67, 29, 30, 8, 39, 66, 129, 36, 14, 1, 7, 9, 23, 24, 19, 14, 4, 21, 10, 43, 17, 48, 9, 14, 55, 14, 8, 38, 18, 7, 6, 5, 5, 72, 7, 21, 4, 30, 37, 204, 2, 3, 6, 3, 11, 10, 3, 4, 45, 3, 48, 3, 9, 28, 12, 9, 102, 47, 34, 18, 13, 53, 31, 140, 21, 16, 150, 77, 15, 12, 47, 16, 11, 3, 42, 7, 9, 22, 17, 56, 13, 23, 55, 30, 8, 4, 85, 16, 38, 4, 5, 66, 14, 44, 15, 51, 1, 60, 12, 44, 6, 26, 27, 71, 22, 26, 32, 12, 4, 47, 7, 92, 7, 2, 17, 22, 288, 55, 34, 59, 34, 48, 33, 31, 19, 10, 20, 20, 15, 29, 3, 10, 43, 54, 7, 11, 22, 16, 68, 17, 3, 14, 11, 4, 67, 3, 24, 17, 4, 7, 141, 13, 17, 19, 8, 14, 191, 17, 6, 36, 35, 16, 72, 2, 8, 128, 80, 20, 16, 27, 2, 25, 12, 22, 11, 64, 2, 21, 140, 31, 5, 7, 24, 28, 64, 53, 6, 90, 31, 2, 19, 11, 72, 6, 32, 33, 2, 49, 9, 18, 25, 30, 16, 17, 20, 30, 30, 23, 14, 3, 6, 18, 40, 2, 10, 7, 56, 4, 5, 29, 5, 13, 3, 84, 5, 32, 9, 2, 67, 84, 23, 7, 75, 21, 28, 6, 7, 42, 11, 80, 2, 55, 15, 16, 24, 54, 1, 14, 18, 55, 68, 112, 65, 65, 34, 16, 6, 36, 46, 7, 127, 35, 6, 116, 47, 5, 8, 33, 76, 59, 41, 31, 24, 3, 18, 149, 104, 75, 35, 70, 15, 17, 154, 4, 8, 1, 8, 68, 14, 61, 29, 6, 32, 14, 272, 7, 10, 19, 6, 40, 11, 11, 35, 8, 14, 23, 9, 23, 17, 24, 36, 5, 15, 25, 10, 73, 10, 11, 26, 112, 17, 74, 11, 23, 9, 75, 33, 11, 75, 3, 9, 20, 76, 21, 20, 30, 20, 8, 34, 28, 17, 73, 14, 39, 82, 6, 23, 9, 28, 53, 13, 6, 5, 92, 30, 26, 12, 29, 4, 2, 6, 7, 5, 7, 2, 14, 17, 16, 17, 18, 25, 21, 1, 16, 135, 10, 3, 7, 25, 28, 16, 115, 57, 5, 64, 21, 14, 302, 26, 71, 10, 16, 106, 83, 20, 35, 119, 46, 9, 170, 4, 38, 101, 12, 3, 8, 5, 68, 34, 26, 179, 6, 23, 127, 102, 62, 30, 12, 8, 50, 4, 14, 26, 15, 10, 16, 21, 42, 5, 5, 28, 11, 1, 6, 2, 7, 6, 16, 48, 11, 13, 5, 1, 20, 18, 46, 13, 13, 7, 8, 25, 17, 10, 19, 25, 65, 126, 6, 33, 40, 25, 12, 30, 13, 63, 67, 43, 24, 55, 17, 44, 10, 3, 61, 4, 41, 3, 11, 17, 49, 5, 15, 39, 14, 1, 20, 3, 70, 106, 8, 11, 17, 85, 16, 29, 34, 364, 13, 18, 7, 12, 13, 82, 359, 12, 14, 6, 9, 30, 5, 14, 10, 3, 3, 6, 40, 26, 70, 89, 21, 12, 17, 20, 7, 9, 9, 13, 14, 1, 137, 6, 34, 18, 33, 18, 78, 46, 37, 10, 2, 21, 28, 17, 15, 12, 112, 45, 13, 7, 38, 6, 72, 13, 22, 41, 8, 13, 19, 18, 61, 50, 11, 56, 49, 6, 5, 10, 5, 3, 14, 22, 13, 21, 37, 13, 10, 38, 18, 16, 47, 21, 33, 60, 71, 9, 333, 61, 4, 42, 17, 71, 13, 56, 71, 17, 31, 14, 7, 5, 76, 26, 3, 23, 23, 12, 17, 43, 31, 40, 12, 38, 131, 17, 29, 4, 6, 12, 20, 15, 14, 10, 15, 37, 3, 7, 17, 25, 19, 9, 8, 62, 22, 30, 3, 1, 29, 13, 49, 5, 15, 4, 127, 13, 27, 3, 2, 220, 37, 9, 55, 27, 8, 24, 4, 56, 17, 6, 38, 47, 28, 18, 18, 1, 5, 3, 60, 12, 7, 6, 37, 8, 10, 6, 26, 38, 30, 29, 15, 18, 3, 21, 13, 11, 10, 17, 16, 27, 4, 22, 18, 31, 22, 112, 17, 46, 37, 22, 7, 6, 8, 57, 12, 3, 29, 14, 81, 15, 29, 31, 20, 59, 6, 40, 26, 68, 26, 19, 21, 73, 28], \"y\": [18.21, 14.944285714300001, 16.7714285714, 16.8857142857, 18.0114285714, 18.3514285714, 14.367142857100001, 16.571428571400002, 17.75, 15.8842857143, 17.4185714286, 13.9771428571, 17.231428571400002, 15.338571428599998, 14.4828571429, 17.744285714300002, 17.5471428571, 14.9385714286, 17.1442857143, 16.752857142899998, 16.5014285714, 16.5871428571, 14.7685714286, 18.4857142857, 17.2171428571, 14.6342857143, 17.0014285714, 15.46, 17.4671428571, 15.2571428571, 14.184285714300001, 13.951428571400001, 14.8971428571, 14.9457142857, 16.7671428571, 15.555714285699999, 14.941428571400001, 18.6514285714, 16.08, 14.408571428599998, 18.4985714286, 15.318571428599999, 17.502857142899998, 16.1442857143, 18.7742857143, 18.9585714286, 17.7042857143, 17.51, 14.9914285714, 14.7342857143, 17.5657142857, 15.1628571429, 15.7971428571, 17.9771428571, 16.9728571429, 15.488571428599998, 18.41, 14.7214285714, 15.6128571429, 14.1571428571, 19.0271428571, 14.65, 13.5871428571, 17.432857142899998, 14.271428571400001, 15.9671428571, 14.8728571429, 17.6585714286, 16.8485714286, 18.345714285699998, 17.2457142857, 17.8471428571, 18.1628571429, 14.1628571429, 13.931428571400001, 12.8071428571, 17.1171428571, 18.0614285714, 18.3085714286, 17.8285714286, 12.61, 16.8185714286, 18.9914285714, 17.4871428571, 16.9671428571, 13.4942857143, 15.238571428599998, 17.7157142857, 15.4928571429, 16.621428571400003, 18.2071428571, 16.067142857100002, 15.722857142899999, 18.2628571429, 17.948571428599998, 18.0142857143, 15.5871428571, 14.898571428599999, 14.7542857143, 15.8685714286, 15.5614285714, 18.0014285714, 17.9528571429, 18.12, 17.7014285714, 18.404285714300002, 17.9157142857, 14.4828571429, 15.697142857100001, 17.592857142899998, 13.67, 17.7342857143, 18.0914285714, 16.0157142857, 17.73, 14.9428571429, 17.7657142857, 16.3685714286, 16.678571428599998, 17.7128571429, 17.0857142857, 16.4542857143, 15.0971428571, 18.595714285699998, 18.1557142857, 18.0342857143, 16.4028571429, 15.52, 17.9171428571, 17.2342857143, 15.4142857143, 17.345714285699998, 18.0442857143, 18.3642857143, 15.48, 15.378571428599999, 14.385714285699999, 16.178571428599998, 16.8828571429, 16.0814285714, 18.9914285714, 16.481428571400002, 17.2957142857, 17.1871428571, 16.58, 14.46, 15.5957142857, 17.8328571429, 13.8814285714, 16.6457142857, 16.3771428571, 18.0457142857, 15.2028571429, 18.1157142857, 17.9014285714, 15.194285714300001, 17.6442857143, 14.458571428599999, 15.4614285714, 18.41, 18.46, 17.7671428571, 18.2071428571, 18.0857142857, 18.2014285714, 17.8685714286, 16.5214285714, 17.56, 15.6757142857, 17.3328571429, 16.66, 16.34, 17.3528571429, 18.404285714300002, 16.5414285714, 16.0785714286, 14.2271428571, 17.9457142857, 14.4371428571, 17.3414285714, 17.5557142857, 16.2214285714, 16.9228571429, 16.8314285714, 18.038571428599997, 15.7414285714, 18.2785714286, 18.5814285714, 17.994285714300002, 18.4028571429, 17.7042857143, 16.3085714286, 18.5571428571, 14.2442857143, 17.13, 15.191428571400001, 18.3971428571, 13.7, 18.0914285714, 17.85, 17.6671428571, 17.845714285699998, 18.6742857143, 14.9, 17.5685714286, null, 14.1228571429, 16.7057142857, 15.8328571429, 16.842857142899998, 13.225714285699999, 18.9471428571, 14.614285714300001, 18.407142857100002, 16.16, 18.571428571400002, 15.0128571429, 17.7371428571, 16.2085714286, 16.7957142857, 14.7942857143, 15.0357142857, 17.5214285714, 17.46, 14.5714285714, 14.0985714286, 18.37, 15.264285714300001, 18.12, 15.184285714300001, 15.281428571400001, 17.2657142857, 17.9528571429, 16.2071428571, 17.3985714286, null, 15.75, 17.9271428571, 16.8228571429, 13.9671428571, 16.6771428571, 16.9957142857, 18.5157142857, 16.6728571429, 17.6271428571, 15.617142857100001, 17.3042857143, 15.7, 17.2385714286, 16.7042857143, 16.7085714286, 18.1042857143, 15.94, 15.7685714286, 17.4228571429, 15.444285714300001, 18.071428571400002, 14.3042857143, 18.18, 13.4928571429, 16.58, 15.7885714286, 18.0357142857, 14.911428571400002, 15.2528571429, 14.3328571429, 18.8471428571, 16.3157142857, 18.4914285714, 14.617142857100001, 18.1757142857, 16.564285714300002, 15.5957142857, 16.06, 17.9028571429, 17.5128571429, 17.7714285714, 16.6728571429, 16.77, 16.6628571429, 14.091428571400002, 18.4185714286, 18.6357142857, 15.1628571429, 17.3442857143, 15.0728571429, 15.065714285699999, 16.73, 18.2542857143, 18.0114285714, null, 17.8242857143, 15.9328571429, 18.8571428571, 14.7557142857, 17.6357142857, 15.3271428571, 15.878571428599999, 19.1142857143, 17.1142857143, 17.7514285714, 14.261428571400002, 15.371428571400001, 17.067142857100002, 14.0128571429, 14.5385714286, 16.907142857100002, 15.5328571429, 16.3628571429, 15.078571428599998, 17.6042857143, 18.1457142857, 13.671428571400002, 17.2485714286, 17.2957142857, 17.3057142857, 15.591428571400002, 17.0228571429, 16.3242857143, 18.314285714300002, 18.5457142857, 17.538571428599997, 15.8457142857, 15.4528571429, 14.921428571400002, 17.474285714300002, 18.4014285714, 17.845714285699998, 18.7771428571, 14.7457142857, 14.614285714300001, 14.9385714286, 15.671428571400002, 18.6328571429, 17.724285714300002, 18.0528571429, 16.9657142857, 18.0071428571, 15.751428571400002, 13.1528571429, 17.72, 12.5828571429, 17.5414285714, 17.7928571429, 13.7328571429, 14.222857142899999, 18.411428571400002, 14.49, 17.9828571429, 15.361428571400001, 15.73, 17.39, 18.7771428571, 18.3057142857, 17.7285714286, 17.7642857143, 15.998571428599998, 17.7042857143, 13.77, 13.878571428599999, 17.5614285714, 15.2271428571, 18.7042857143, 17.8185714286, 17.47, 18.505714285699998, 15.5, 16.0657142857, 15.3871428571, 18.5157142857, 17.8971428571, 17.48, 13.69, 16.8328571429, 18.0, 15.65, 17.43, 17.25, 17.86, 15.235714285699999, 13.7214285714, 15.37, 16.5171428571, 17.9728571429, 16.2085714286, 16.2371428571, 14.98, 14.787142857100001, 18.3271428571, 16.6585714286, 17.5071428571, 17.9885714286, 18.1742857143, 12.6371428571, 13.9914285714, 18.3757142857, 19.2071428571, 15.6228571429, 18.0985714286, 18.36, 16.6042857143, 14.931428571400001, 17.338571428599998, 18.0342857143, 16.73, 18.3757142857, 17.2571428571, 17.3685714286, 17.3542857143, 14.798571428599999, 17.87, 17.9885714286, 17.8542857143, 18.0371428571, 18.8314285714, 17.4871428571, 14.7757142857, 18.1742857143, 18.34, 14.212857142899999, 18.1185714286, 14.668571428599998, 18.8928571429, 17.981428571400002, 18.4914285714, 15.918571428599998, 15.2, 18.4471428571, 17.275714285699998, 18.16, 17.4414285714, 17.7057142857, 18.1914285714, 15.4528571429, 18.391428571400002, 18.47, 18.4757142857, 17.4157142857, 16.185714285699998, 14.648571428599999, 14.9357142857, 15.854285714300001, 14.2942857143, 19.0414285714, null, 17.79, 17.6957142857, 14.671428571400002, 12.3657142857, 15.735714285699999, 14.7271428571, 18.2985714286, 16.5628571429, 17.801428571400002, 15.63, 15.9014285714, 17.2957142857, 14.628571428599999, 15.125714285699999, 18.6142857143, 15.0642857143, 17.7942857143, 17.95, 15.7942857143, 14.7328571429, 18.252857142899998, 18.3157142857, 13.8271428571, 14.7528571429, 16.3814285714, 15.1157142857, 18.2157142857, 15.0171428571, 15.5614285714, 18.4857142857, 16.661428571400002, 17.3528571429, 18.72, 13.781428571400001, 14.3071428571, 17.505714285699998, 14.2885714286, 14.53, 18.1385714286, 15.208571428599999, 17.088571428599998, 17.564285714300002, 17.4414285714, 14.3342857143, 18.4842857143, 14.53, 18.5114285714, 15.0614285714, 14.9371428571, 17.0442857143, 18.244285714300002, 15.4771428571, 15.8328571429, 15.0042857143, 18.3828571429, 16.502857142899998, 18.1042857143, 18.3985714286, 18.301428571400002, 18.3942857143, 17.3571428571, 17.6171428571, 14.985714285699999, 17.095714285699998, 17.845714285699998, 12.738571428599998, 18.3542857143, 15.042857142899999, 16.8671428571, 13.73, 17.8071428571, 17.8842857143, 17.6442857143, 14.5071428571, 13.5928571429, 16.5728571429, 18.18, 16.3442857143, 18.9385714286, 17.8485714286, 18.1657142857, 17.7542857143, 17.7642857143, 16.3271428571, 15.014285714300001, 17.4642857143, 14.874285714300001, 15.501428571400002, 16.788571428599997, 17.8085714286, 18.2457142857, 17.67, 18.182857142899998, 17.8185714286, 16.8642857143, 17.37, 14.708571428599999, 18.051428571400002, 14.058571428599999, 14.6185714286, 18.1914285714, 14.408571428599998, 15.9171428571, 18.0114285714, 16.6271428571, 18.8671428571, 17.338571428599998, 17.4885714286, 13.671428571400002, 17.5614285714, 17.7585714286, 14.3357142857, 14.947142857100001, 17.2271428571, 16.8571428571, 17.4628571429, 13.511428571400002, 15.2585714286, 18.3271428571, 15.6, 15.382857142899999, 19.44, 18.5085714286, 14.908571428599998, 18.3071428571, 14.3814285714, 15.63, 14.6985714286, 17.9642857143, 17.744285714300002, 18.8242857143, 14.7457142857, 14.7542857143, 15.7942857143, 15.1471428571, 16.1457142857, 15.8814285714, 14.2828571429, 18.481428571400002, 17.2285714286, 17.21, 15.7828571429, 17.6885714286, 17.29, 15.468571428599999, 17.8228571429, 15.462857142899999, 17.8814285714, 18.1457142857, 15.135714285699999, 17.9842857143, 17.7457142857, 15.48, 11.9642857143, 15.148571428599999, 13.6157142857, 18.0285714286, 14.558571428599999, 17.5285714286, 18.0742857143, 13.86, 17.641428571400002, 18.7428571429, 16.9642857143, 19.0442857143, 16.1057142857, 17.8542857143, 16.7585714286, 16.53, 17.3085714286, 15.2571428571, 14.3242857143, 17.1514285714, 17.8442857143, 16.5785714286, 17.3085714286, 17.0828571429, 17.288571428599997, 17.7342857143, 17.95, 16.5971428571, 14.541428571400001, 17.817142857100002, 18.8285714286, 16.4014285714, 13.2414285714, 16.8371428571, 18.157142857100002, 16.314285714300002, 17.128571428599997, 17.038571428599997, 14.6628571429, 16.74, 14.058571428599999, 16.39, 12.331428571400002, 17.4757142857, 13.9742857143, 14.73, 14.6628571429, 14.388571428599999, 18.6728571429, 15.2585714286, 17.9514285714, 14.2657142857, 17.9514285714, 13.5128571429, 16.3757142857, 17.9028571429, 15.565714285699999, 17.0557142857, 15.75, 16.7714285714, 17.7714285714, 15.3728571429, 15.091428571400002, 15.1528571429, 17.0614285714, 14.5471428571, 13.6828571429, 17.5328571429, 11.715714285699999, 19.01, 12.4928571429, 17.8471428571, 14.1857142857, 14.2457142857, 15.0614285714, 15.1742857143, 18.4857142857, 14.281428571400001, 17.5942857143, 17.4685714286, 16.178571428599998, 16.7642857143, 18.3971428571, 17.407142857100002, 18.5071428571, 14.4742857143, 17.51, 14.8228571429, 18.2142857143, 16.13, 14.6528571429, 18.0914285714, 15.274285714300001, 17.268571428599998, 16.817142857100002, 14.4171428571, 18.9685714286, 15.5714285714, 18.8857142857, 16.2042857143, 18.3228571429, 18.338571428599998, 12.93, 16.8828571429, 17.8042857143, 15.3357142857, 16.9871428571, 16.8185714286, 14.1228571429, 17.4685714286, 16.8, 15.7328571429, 18.185714285699998, 18.5285714286, 15.78, 17.551428571400002, 15.7214285714, 16.502857142899998, 17.2985714286, 14.9671428571, 16.3042857143, 14.361428571400001, 15.49, 17.247142857100002, 15.2214285714, 14.7728571429, 14.968571428599999, 17.6171428571, null, 14.671428571400002, 17.9414285714, 17.0157142857, 16.6514285714, 17.4585714286, 13.638571428599999, 17.8928571429, 16.4685714286, 17.8957142857, 15.6871428571, 18.0428571429, 15.3685714286, 18.0914285714, 16.3242857143], \"z\": [296.721428571, 293.54, 295.402857143, 295.482857143, 296.53, 296.872857143, 292.94142857099996, 295.124285714, 296.257142857, 294.51428571400004, 296.041428571, 292.495714286, 295.83428571400003, 293.961428571, 293.04571428599996, 296.362857143, 296.158571429, 293.538571429, 295.72, 295.375714286, 295.124285714, 295.172857143, 293.351428571, 296.94, 295.827142857, 293.23, 295.575714286, 294.03, 296.062857143, 293.895714286, 292.732857143, 292.461428571, 293.512857143, 293.532857143, 295.38428571400004, 294.167142857, 293.537142857, 297.124285714, 294.655714286, 292.981428571, 296.957142857, 293.928571429, 296.02, 294.798571429, 297.268571429, 297.327142857, 296.3, 296.095714286, 293.448571429, 293.344285714, 296.145714286, 293.74, 294.451428571, 296.531428571, 295.56, 294.07285714299996, 296.895714286, 293.281428571, 294.195714286, 292.672857143, 297.401428571, 293.187142857, 291.952857143, 296.065714286, 292.83, 294.57285714299996, 293.47571428599997, 296.215714286, 295.434285714, 296.82428571400004, 295.875714286, 296.337142857, 296.684285714, 292.697142857, 292.472857143, 291.037142857, 295.72571428599997, 296.538571429, 296.804285714, 296.385714286, 290.852857143, 295.447142857, 297.387142857, 296.064285714, 295.567142857, 291.911428571, 293.85, 296.288571429, 294.12, 295.25285714299997, 296.762857143, 294.652857143, 294.35571428599997, 296.76428571400004, 296.511428571, 296.531428571, 294.217142857, 293.457142857, 293.36571428599996, 294.52428571400003, 294.19, 296.547142857, 296.512857143, 296.657142857, 296.26, 296.891428571, 296.518571429, 293.021428571, 294.328571429, 296.168571429, 292.174285714, 296.29571428599996, 296.67, 294.661428571, 296.27, 293.56142857099996, 296.351428571, 295.01, 295.25285714299997, 296.294285714, 295.687142857, 295.135714286, 293.721428571, 297.092857143, 296.687142857, 296.592857143, 294.97, 294.15, 296.49, 295.86571428599996, 293.951428571, 295.91571428599997, 296.59, 296.897142857, 294.138571429, 294.052857143, 292.87142857099997, 294.812857143, 295.562857143, 294.697142857, 297.451428571, 295.07428571400004, 295.838571429, 295.75285714299997, 295.18857142900004, 292.972857143, 294.232857143, 296.33428571400003, 292.374285714, 295.27428571400003, 295.01428571400004, 296.602857143, 293.804285714, 296.544285714, 296.437142857, 293.854285714, 296.23571428599996, 292.94142857099996, 294.028571429, 296.9, 296.877142857, 296.338571429, 296.741428571, 296.597142857, 296.742857143, 296.42, 295.154285714, 296.11714285700003, 294.288571429, 295.961428571, 295.262857143, 294.974285714, 295.945714286, 296.887142857, 295.14, 294.727142857, 292.758571429, 296.50285714299997, 292.964285714, 295.96, 296.114285714, 294.827142857, 295.56857142900003, 295.465714286, 296.598571429, 294.375714286, 296.847142857, 297.06, 296.5, 296.864285714, 296.291428571, 294.95, 297.047142857, 292.76428571400004, 295.742857143, 293.81142857099996, 296.917142857, 292.13142857099996, 296.658571429, 296.397142857, 296.275714286, 296.411428571, 297.12857142900003, 293.4, 296.198571429, null, 292.61714285700003, 295.36714285700003, 294.467142857, 295.43857142900004, 291.537142857, 297.36571428599996, 293.214285714, 296.91571428599997, 294.805714286, 297.048571429, 293.62857142900003, 296.33428571400003, 294.852857143, 295.41571428599997, 293.407142857, 293.63142857099996, 296.09, 296.055714286, 293.108571429, 292.668571429, 296.831428571, 293.88428571400004, 296.651428571, 293.827142857, 293.908571429, 295.852857143, 296.461428571, 294.775714286, 296.062857143, null, 294.38, 296.435714286, 295.428571429, 292.50285714299997, 295.265714286, 295.641428571, 297.035714286, 295.31, 296.182857143, 294.202857143, 295.87142857099997, 294.337142857, 295.87142857099997, 295.351428571, 295.362857143, 296.63285714299997, 294.604285714, 294.408571429, 295.98571428599996, 294.034285714, 296.651428571, 292.821428571, 296.664285714, 291.842857143, 295.237142857, 294.44142857099996, 296.547142857, 293.51428571400004, 293.88142857099996, 292.787142857, 297.275714286, 294.947142857, 296.974285714, 293.17571428599996, 296.7, 295.215714286, 294.211428571, 294.65, 296.452857143, 296.155714286, 296.357142857, 295.3, 295.37, 295.298571429, 292.512857143, 296.921428571, 297.108571429, 293.75285714299997, 295.887142857, 293.701428571, 293.645714286, 295.345714286, 296.771428571, 296.581428571, null, 296.4, 294.52, 297.27, 293.32285714299996, 296.24857142900004, 293.93857142900004, 294.457142857, 297.58, 295.745714286, 296.281428571, 292.771428571, 293.971428571, 295.674285714, 292.414285714, 293.13428571400004, 295.491428571, 294.138571429, 295.03, 293.687142857, 296.13, 296.66, 292.185714286, 295.875714286, 295.92, 295.907142857, 294.25142857099996, 295.63142857099996, 294.92571428599996, 296.81142857099996, 296.994285714, 296.124285714, 294.38142857099996, 294.032857143, 293.455714286, 296.085714286, 296.88142857099996, 296.41571428599997, 297.244285714, 293.254285714, 293.221428571, 293.531428571, 294.28, 297.13, 296.315714286, 296.625714286, 295.54, 296.57, 294.36571428599996, 291.424285714, 296.288571429, 290.775714286, 296.111428571, 296.36571428599996, 292.17, 292.767142857, 296.922857143, 293.075714286, 296.54, 293.971428571, 294.331428571, 296.03, 297.19285714299997, 296.801428571, 296.33, 296.26, 294.62857142900003, 296.267142857, 292.2, 292.38285714299997, 296.12857142900003, 293.88285714299997, 297.12857142900003, 296.4, 296.0, 297.0, 294.065714286, 294.687142857, 294.027142857, 297.017142857, 296.424285714, 296.078571429, 292.1, 295.447142857, 296.532857143, 294.234285714, 296.052857143, 295.888571429, 296.42571428599996, 293.83428571400003, 292.197142857, 294.025714286, 295.18, 296.541428571, 294.831428571, 294.86571428599996, 293.595714286, 293.335714286, 296.84, 295.26, 296.107142857, 296.56142857099996, 296.728571429, 290.81, 292.48, 296.835714286, 297.598571429, 294.254285714, 296.604285714, 296.86, 295.22, 293.54571428599996, 295.93142857099997, 296.534285714, 295.37, 296.86714285700003, 295.85, 295.978571429, 295.961428571, 293.412857143, 296.445714286, 296.57285714299996, 296.43, 296.56142857099996, 297.291428571, 296.1, 293.37, 296.69285714299997, 296.831428571, 292.734285714, 296.642857143, 293.217142857, 297.38, 296.51, 296.978571429, 294.577142857, 293.812857143, 296.987142857, 295.874285714, 296.66571428599997, 296.042857143, 296.29571428599996, 296.722857143, 294.048571429, 296.924285714, 296.995714286, 296.957142857, 296.007142857, 294.812857143, 293.222857143, 293.5, 294.507142857, 292.852857143, 297.458571429, null, 296.37857142900003, 296.221428571, 293.282857143, 290.552857143, 294.338571429, 293.321428571, 296.775714286, 295.207142857, 296.397142857, 294.257142857, 294.542857143, 295.892857143, 293.217142857, 293.698571429, 297.062857143, 293.69285714299997, 296.41571428599997, 296.478571429, 294.418571429, 293.358571429, 296.797142857, 296.82, 292.301428571, 293.342857143, 295.007142857, 293.76, 296.79, 293.637142857, 294.201428571, 296.911428571, 295.255714286, 295.937142857, 297.18857142900004, 292.25285714299997, 292.841428571, 296.13285714299997, 292.852857143, 293.081428571, 296.63428571400004, 293.802857143, 295.62857142900003, 296.17571428599996, 296.007142857, 292.864285714, 296.94285714299997, 293.13285714299997, 297.02, 293.66571428599997, 293.527142857, 295.645714286, 296.732857143, 294.114285714, 294.43857142900004, 293.61857142900004, 296.861428571, 295.168571429, 296.635714286, 296.898571429, 296.79, 296.844285714, 295.99, 296.164285714, 293.515714286, 295.695714286, 296.354285714, 290.99857142900004, 296.848571429, 293.667142857, 295.492857143, 292.161428571, 296.38428571400004, 296.38428571400004, 296.174285714, 293.015714286, 292.0, 295.184285714, 296.73571428599996, 294.977142857, 297.36714285700003, 296.377142857, 296.68857142900004, 296.352857143, 296.341428571, 294.978571429, 293.542857143, 296.052857143, 293.518571429, 294.098571429, 295.398571429, 296.42, 296.8, 296.17, 296.70428571400004, 296.304285714, 295.487142857, 295.97571428599997, 293.27428571400003, 296.622857143, 292.575714286, 293.25, 296.694285714, 292.957142857, 294.551428571, 296.587142857, 295.27428571400003, 297.287142857, 295.94285714299997, 296.085714286, 292.055714286, 296.17714285700004, 296.364285714, 292.86571428599996, 293.532857143, 295.76, 295.32428571400004, 296.078571429, 291.907142857, 293.638571429, 296.857142857, 294.268571429, 294.02, 297.79571428599996, 297.0, 293.38428571400004, 296.82285714299996, 292.967142857, 294.281428571, 293.30857142900004, 296.478571429, 296.348571429, 297.267142857, 293.272857143, 293.377142857, 294.417142857, 293.734285714, 294.79571428599996, 294.51, 292.785714286, 296.981428571, 295.852857143, 295.821428571, 294.444285714, 296.24, 295.912857143, 294.054285714, 296.39, 294.13285714299997, 296.445714286, 296.69, 293.708571429, 296.588571429, 296.354285714, 294.098571429, 289.827142857, 293.74, 292.004285714, 296.544285714, 293.12857142900003, 296.041428571, 296.564285714, 292.347142857, 296.171428571, 297.13, 295.538571429, 297.414285714, 294.731428571, 296.435714286, 295.397142857, 295.152857143, 295.875714286, 293.887142857, 292.8, 295.791428571, 296.41571428599997, 295.205714286, 295.892857143, 295.638571429, 295.94, 296.332857143, 296.532857143, 295.194285714, 293.15, 296.33, 297.24714285700003, 294.965714286, 291.58428571400003, 295.462857143, 296.642857143, 294.97, 295.667142857, 295.598571429, 293.182857143, 295.347142857, 292.581428571, 294.992857143, 290.37857142900003, 296.101428571, 292.405714286, 293.31142857099996, 293.23571428599996, 292.971428571, 297.11, 293.887142857, 296.451428571, 292.815714286, 296.55714285700003, 291.901428571, 295.025714286, 296.474285714, 294.172857143, 295.648571429, 294.221428571, 295.36571428599996, 296.337142857, 293.951428571, 293.69, 293.785714286, 295.61571428599996, 293.151428571, 292.10571428599997, 296.075714286, 289.642857143, 297.467142857, 290.63428571400004, 296.411428571, 292.718571429, 292.662857143, 293.68, 293.787142857, 296.9, 292.83, 296.172857143, 296.044285714, 294.841428571, 295.345714286, 296.85, 296.03, 297.00142857099996, 293.052857143, 296.092857143, 293.405714286, 296.701428571, 294.77428571400003, 293.27, 296.642857143, 293.91, 295.85571428599997, 295.468571429, 292.982857143, 297.418571429, 294.16, 297.364285714, 294.80857142900004, 296.861428571, 296.89428571400003, 291.22571428599997, 295.492857143, 296.39428571400003, 293.982857143, 295.591428571, 295.375714286, 292.555714286, 296.028571429, 295.43857142900004, 294.377142857, 296.67571428599996, 296.964285714, 294.401428571, 296.101428571, 294.332857143, 295.11, 295.87142857099997, 293.55857142900004, 294.928571429, 292.91571428599997, 294.108571429, 295.805714286, 293.801428571, 293.27, 293.578571429, 296.215714286, null, 293.23, 296.46, 295.642857143, 295.268571429, 296.05714285700003, 292.06142857099996, 296.43142857099997, 295.031428571, 296.451428571, 294.275714286, 296.55857142900004, 294.015714286, 296.612857143, 294.94285714299997]}],\n",
              "                        {\"height\": 600, \"legend\": {\"tracegroupgap\": 0}, \"scene\": {\"domain\": {\"x\": [0.0, 0.98], \"y\": [0.0, 1.0]}, \"xaxis\": {\"title\": {\"text\": \"Total dengue cases in the week\"}}, \"yaxis\": {\"title\": {\"text\": \"Mean specific humidity\"}}, \"zaxis\": {\"title\": {\"text\": \"Mean dew point temp in K\"}}}, \"template\": {\"data\": {\"bar\": [{\"error_x\": {\"color\": \"#2a3f5f\"}, \"error_y\": {\"color\": \"#2a3f5f\"}, \"marker\": {\"line\": {\"color\": \"#E5ECF6\", \"width\": 0.5}}, \"type\": \"bar\"}], \"barpolar\": [{\"marker\": {\"line\": {\"color\": \"#E5ECF6\", \"width\": 0.5}}, \"type\": \"barpolar\"}], \"carpet\": [{\"aaxis\": {\"endlinecolor\": \"#2a3f5f\", \"gridcolor\": \"white\", \"linecolor\": \"white\", \"minorgridcolor\": \"white\", \"startlinecolor\": \"#2a3f5f\"}, \"baxis\": {\"endlinecolor\": \"#2a3f5f\", \"gridcolor\": \"white\", \"linecolor\": \"white\", \"minorgridcolor\": \"white\", \"startlinecolor\": \"#2a3f5f\"}, \"type\": \"carpet\"}], \"choropleth\": [{\"colorbar\": {\"outlinewidth\": 0, \"ticks\": \"\"}, \"type\": \"choropleth\"}], \"contour\": [{\"colorbar\": {\"outlinewidth\": 0, \"ticks\": \"\"}, \"colorscale\": [[0.0, \"#0d0887\"], [0.1111111111111111, \"#46039f\"], [0.2222222222222222, \"#7201a8\"], [0.3333333333333333, \"#9c179e\"], [0.4444444444444444, \"#bd3786\"], [0.5555555555555556, \"#d8576b\"], [0.6666666666666666, \"#ed7953\"], [0.7777777777777778, \"#fb9f3a\"], [0.8888888888888888, \"#fdca26\"], [1.0, \"#f0f921\"]], \"type\": \"contour\"}], \"contourcarpet\": [{\"colorbar\": {\"outlinewidth\": 0, \"ticks\": \"\"}, \"type\": \"contourcarpet\"}], \"heatmap\": [{\"colorbar\": {\"outlinewidth\": 0, \"ticks\": \"\"}, \"colorscale\": [[0.0, \"#0d0887\"], [0.1111111111111111, \"#46039f\"], [0.2222222222222222, \"#7201a8\"], [0.3333333333333333, \"#9c179e\"], [0.4444444444444444, \"#bd3786\"], [0.5555555555555556, \"#d8576b\"], [0.6666666666666666, \"#ed7953\"], [0.7777777777777778, \"#fb9f3a\"], [0.8888888888888888, \"#fdca26\"], [1.0, \"#f0f921\"]], \"type\": \"heatmap\"}], \"heatmapgl\": [{\"colorbar\": {\"outlinewidth\": 0, \"ticks\": \"\"}, \"colorscale\": [[0.0, \"#0d0887\"], [0.1111111111111111, \"#46039f\"], [0.2222222222222222, \"#7201a8\"], [0.3333333333333333, \"#9c179e\"], [0.4444444444444444, \"#bd3786\"], [0.5555555555555556, \"#d8576b\"], [0.6666666666666666, \"#ed7953\"], [0.7777777777777778, \"#fb9f3a\"], [0.8888888888888888, \"#fdca26\"], [1.0, \"#f0f921\"]], \"type\": \"heatmapgl\"}], \"histogram\": [{\"marker\": {\"colorbar\": {\"outlinewidth\": 0, \"ticks\": \"\"}}, \"type\": \"histogram\"}], \"histogram2d\": [{\"colorbar\": {\"outlinewidth\": 0, \"ticks\": \"\"}, \"colorscale\": [[0.0, \"#0d0887\"], [0.1111111111111111, \"#46039f\"], [0.2222222222222222, \"#7201a8\"], [0.3333333333333333, \"#9c179e\"], [0.4444444444444444, \"#bd3786\"], [0.5555555555555556, \"#d8576b\"], [0.6666666666666666, \"#ed7953\"], [0.7777777777777778, \"#fb9f3a\"], [0.8888888888888888, \"#fdca26\"], [1.0, \"#f0f921\"]], \"type\": \"histogram2d\"}], \"histogram2dcontour\": [{\"colorbar\": {\"outlinewidth\": 0, \"ticks\": \"\"}, \"colorscale\": [[0.0, \"#0d0887\"], [0.1111111111111111, \"#46039f\"], [0.2222222222222222, \"#7201a8\"], [0.3333333333333333, \"#9c179e\"], [0.4444444444444444, \"#bd3786\"], [0.5555555555555556, \"#d8576b\"], [0.6666666666666666, \"#ed7953\"], [0.7777777777777778, \"#fb9f3a\"], [0.8888888888888888, \"#fdca26\"], [1.0, \"#f0f921\"]], \"type\": \"histogram2dcontour\"}], \"mesh3d\": [{\"colorbar\": {\"outlinewidth\": 0, \"ticks\": \"\"}, \"type\": \"mesh3d\"}], \"parcoords\": [{\"line\": {\"colorbar\": {\"outlinewidth\": 0, \"ticks\": \"\"}}, \"type\": \"parcoords\"}], \"scatter\": [{\"marker\": {\"colorbar\": {\"outlinewidth\": 0, \"ticks\": \"\"}}, \"type\": \"scatter\"}], \"scatter3d\": [{\"line\": {\"colorbar\": {\"outlinewidth\": 0, \"ticks\": \"\"}}, \"marker\": {\"colorbar\": {\"outlinewidth\": 0, \"ticks\": \"\"}}, \"type\": \"scatter3d\"}], \"scattercarpet\": [{\"marker\": {\"colorbar\": {\"outlinewidth\": 0, \"ticks\": \"\"}}, \"type\": \"scattercarpet\"}], \"scattergeo\": [{\"marker\": {\"colorbar\": {\"outlinewidth\": 0, \"ticks\": \"\"}}, \"type\": \"scattergeo\"}], \"scattergl\": [{\"marker\": {\"colorbar\": {\"outlinewidth\": 0, \"ticks\": \"\"}}, \"type\": \"scattergl\"}], \"scattermapbox\": [{\"marker\": {\"colorbar\": {\"outlinewidth\": 0, \"ticks\": \"\"}}, \"type\": \"scattermapbox\"}], \"scatterpolar\": [{\"marker\": {\"colorbar\": {\"outlinewidth\": 0, \"ticks\": \"\"}}, \"type\": \"scatterpolar\"}], \"scatterpolargl\": [{\"marker\": {\"colorbar\": {\"outlinewidth\": 0, \"ticks\": \"\"}}, \"type\": \"scatterpolargl\"}], \"scatterternary\": [{\"marker\": {\"colorbar\": {\"outlinewidth\": 0, \"ticks\": \"\"}}, \"type\": \"scatterternary\"}], \"surface\": [{\"colorbar\": {\"outlinewidth\": 0, \"ticks\": \"\"}, \"colorscale\": [[0.0, \"#0d0887\"], [0.1111111111111111, \"#46039f\"], [0.2222222222222222, \"#7201a8\"], [0.3333333333333333, \"#9c179e\"], [0.4444444444444444, \"#bd3786\"], [0.5555555555555556, \"#d8576b\"], [0.6666666666666666, \"#ed7953\"], [0.7777777777777778, \"#fb9f3a\"], [0.8888888888888888, \"#fdca26\"], [1.0, \"#f0f921\"]], \"type\": \"surface\"}], \"table\": [{\"cells\": {\"fill\": {\"color\": \"#EBF0F8\"}, \"line\": {\"color\": \"white\"}}, \"header\": {\"fill\": {\"color\": \"#C8D4E3\"}, \"line\": {\"color\": \"white\"}}, \"type\": \"table\"}]}, \"layout\": {\"annotationdefaults\": {\"arrowcolor\": \"#2a3f5f\", \"arrowhead\": 0, \"arrowwidth\": 1}, \"colorscale\": {\"diverging\": [[0, \"#8e0152\"], [0.1, \"#c51b7d\"], [0.2, \"#de77ae\"], [0.3, \"#f1b6da\"], [0.4, \"#fde0ef\"], [0.5, \"#f7f7f7\"], [0.6, \"#e6f5d0\"], [0.7, \"#b8e186\"], [0.8, \"#7fbc41\"], [0.9, \"#4d9221\"], [1, \"#276419\"]], \"sequential\": [[0.0, \"#0d0887\"], [0.1111111111111111, \"#46039f\"], [0.2222222222222222, \"#7201a8\"], [0.3333333333333333, \"#9c179e\"], [0.4444444444444444, \"#bd3786\"], [0.5555555555555556, \"#d8576b\"], [0.6666666666666666, \"#ed7953\"], [0.7777777777777778, \"#fb9f3a\"], [0.8888888888888888, \"#fdca26\"], [1.0, \"#f0f921\"]], \"sequentialminus\": [[0.0, \"#0d0887\"], [0.1111111111111111, \"#46039f\"], [0.2222222222222222, \"#7201a8\"], [0.3333333333333333, \"#9c179e\"], [0.4444444444444444, \"#bd3786\"], [0.5555555555555556, \"#d8576b\"], [0.6666666666666666, \"#ed7953\"], [0.7777777777777778, \"#fb9f3a\"], [0.8888888888888888, \"#fdca26\"], [1.0, \"#f0f921\"]]}, \"colorway\": [\"#636efa\", \"#EF553B\", \"#00cc96\", \"#ab63fa\", \"#FFA15A\", \"#19d3f3\", \"#FF6692\", \"#B6E880\", \"#FF97FF\", \"#FECB52\"], \"font\": {\"color\": \"#2a3f5f\"}, \"geo\": {\"bgcolor\": \"white\", \"lakecolor\": \"white\", \"landcolor\": \"#E5ECF6\", \"showlakes\": true, \"showland\": true, \"subunitcolor\": \"white\"}, \"hoverlabel\": {\"align\": \"left\"}, \"hovermode\": \"closest\", \"mapbox\": {\"style\": \"light\"}, \"paper_bgcolor\": \"white\", \"plot_bgcolor\": \"#E5ECF6\", \"polar\": {\"angularaxis\": {\"gridcolor\": \"white\", \"linecolor\": \"white\", \"ticks\": \"\"}, \"bgcolor\": \"#E5ECF6\", \"radialaxis\": {\"gridcolor\": \"white\", \"linecolor\": \"white\", \"ticks\": \"\"}}, \"scene\": {\"xaxis\": {\"backgroundcolor\": \"#E5ECF6\", \"gridcolor\": \"white\", \"gridwidth\": 2, \"linecolor\": \"white\", \"showbackground\": true, \"ticks\": \"\", \"zerolinecolor\": \"white\"}, \"yaxis\": {\"backgroundcolor\": \"#E5ECF6\", \"gridcolor\": \"white\", \"gridwidth\": 2, \"linecolor\": \"white\", \"showbackground\": true, \"ticks\": \"\", \"zerolinecolor\": \"white\"}, \"zaxis\": {\"backgroundcolor\": \"#E5ECF6\", \"gridcolor\": \"white\", \"gridwidth\": 2, \"linecolor\": \"white\", \"showbackground\": true, \"ticks\": \"\", \"zerolinecolor\": \"white\"}}, \"shapedefaults\": {\"line\": {\"color\": \"#2a3f5f\"}}, \"ternary\": {\"aaxis\": {\"gridcolor\": \"white\", \"linecolor\": \"white\", \"ticks\": \"\"}, \"baxis\": {\"gridcolor\": \"white\", \"linecolor\": \"white\", \"ticks\": \"\"}, \"bgcolor\": \"#E5ECF6\", \"caxis\": {\"gridcolor\": \"white\", \"linecolor\": \"white\", \"ticks\": \"\"}}, \"title\": {\"x\": 0.05}, \"xaxis\": {\"automargin\": true, \"gridcolor\": \"white\", \"linecolor\": \"white\", \"ticks\": \"\", \"zerolinecolor\": \"white\", \"zerolinewidth\": 2}, \"yaxis\": {\"automargin\": true, \"gridcolor\": \"white\", \"linecolor\": \"white\", \"ticks\": \"\", \"zerolinecolor\": \"white\", \"zerolinewidth\": 2}}}, \"title\": {\"text\": \"Dengue cases in San Juan, PR and relation to environmental features\"}},\n",
              "                        {\"responsive\": true}\n",
              "                    ).then(function(){\n",
              "                            \n",
              "var gd = document.getElementById('ab99ba87-7eed-42c9-994e-eab2dc28401e');\n",
              "var x = new MutationObserver(function (mutations, observer) {{\n",
              "        var display = window.getComputedStyle(gd).display;\n",
              "        if (!display || display === 'none') {{\n",
              "            console.log([gd, 'removed!']);\n",
              "            Plotly.purge(gd);\n",
              "            observer.disconnect();\n",
              "        }}\n",
              "}});\n",
              "\n",
              "// Listen for the removal of the full notebook cells\n",
              "var notebookContainer = gd.closest('#notebook-container');\n",
              "if (notebookContainer) {{\n",
              "    x.observe(notebookContainer, {childList: true});\n",
              "}}\n",
              "\n",
              "// Listen for the clearing of the current output cell\n",
              "var outputEl = gd.closest('.output');\n",
              "if (outputEl) {{\n",
              "    x.observe(outputEl, {childList: true});\n",
              "}}\n",
              "\n",
              "                        })\n",
              "                };\n",
              "                \n",
              "            </script>\n",
              "        </div>\n",
              "</body>\n",
              "</html>"
            ]
          },
          "metadata": {
            "tags": []
          }
        }
      ]
    },
    {
      "cell_type": "code",
      "metadata": {
        "id": "IuYqqQmjE-yY",
        "colab_type": "code",
        "outputId": "2519aa13-c2c3-4efb-f967-f5c9f9f8e32e",
        "colab": {
          "base_uri": "https://localhost:8080/",
          "height": 321
        }
      },
      "source": [
        "#Linear regression Plots\n",
        "sns.regplot(x=\"Total dengue cases in the week\", y=\"Mean specific humidity\", data=train)\n",
        "import matplotlib.pyplot as plt\n",
        "plt.xlabel('Total dengue cases in the week', fontweight='bold')\n",
        "plt.ylabel('Mean specific humidity', fontweight='bold')\n",
        "plt.title('Relationship between dengue cases/week in San Juan, PR and Mean specific humidity',\n",
        "          fontsize=18,\n",
        "          loc='left',\n",
        "          x=-0.1,\n",
        "          y=1.1,\n",
        "          fontweight='bold')\n",
        "plt.show;"
      ],
      "execution_count": 0,
      "outputs": [
        {
          "output_type": "display_data",
          "data": {
            "image/png": "[encoded data removed]",
            "text/plain": [
              "<Figure size 432x288 with 1 Axes>"
            ]
          },
          "metadata": {
            "tags": []
          }
        }
      ]
    },
    {
      "cell_type": "code",
      "metadata": {
        "id": "_kgfg4c4H3b3",
        "colab_type": "code",
        "outputId": "b075aae3-38f0-47f8-8b5f-bf3b6d782f1d",
        "colab": {
          "base_uri": "https://localhost:8080/",
          "height": 321
        }
      },
      "source": [
        "#Linear regression Plots\n",
        "sns.regplot(x=\"Total dengue cases in the week\", y=\"Mean dew point temp in K\", data=train)\n",
        "import matplotlib.pyplot as plt\n",
        "plt.xlabel('Total dengue cases in the week', fontweight='bold')\n",
        "plt.ylabel('Mean dew point temp in K', fontweight='bold')\n",
        "plt.title('Relationship between dengue cases/week in San Juan, PR and Mean dew point temp in K',\n",
        "          fontsize=18,\n",
        "          loc='left',\n",
        "          x=-0.1,\n",
        "          y=1.1,\n",
        "          fontweight='bold')\n",
        "plt.show;"
      ],
      "execution_count": 0,
      "outputs": [
        {
          "output_type": "display_data",
          "data": {
            "image/png": "[encoded data removed]",
            "text/plain": [
              "<Figure size 432x288 with 1 Axes>"
            ]
          },
          "metadata": {
            "tags": []
          }
        }
      ]
    },
    {
      "cell_type": "code",
      "metadata": {
        "id": "GgH_WUVmvyiS",
        "colab_type": "code",
        "colab": {}
      },
      "source": [
        "#Before we build the model to train on train dataset, log transform target variable due to skew"
      ],
      "execution_count": 0,
      "outputs": []
    },
    {
      "cell_type": "code",
      "metadata": {
        "id": "9oh9fPgCv68F",
        "colab_type": "code",
        "colab": {}
      },
      "source": [
        "import numpy as np\n",
        "target_log = np.log1p(train['Total dengue cases in the week'])"
      ],
      "execution_count": 0,
      "outputs": []
    },
    {
      "cell_type": "code",
      "metadata": {
        "id": "v1e4UKoSwFbm",
        "colab_type": "code",
        "outputId": "cb3deadf-eb3d-4010-c7c6-ba2553c37ff9",
        "colab": {
          "base_uri": "https://localhost:8080/",
          "height": 295
        }
      },
      "source": [
        "sns.distplot(target_log)\n",
        "plt.title('Log-transformed target');"
      ],
      "execution_count": 0,
      "outputs": [
        {
          "output_type": "display_data",
          "data": {
            "image/png": "[encoded data removed]",
            "text/plain": [
              "<Figure size 432x288 with 1 Axes>"
            ]
          },
          "metadata": {
            "tags": []
          }
        }
      ]
    },
    {
      "cell_type": "code",
      "metadata": {
        "id": "k5G3nDn9wNyM",
        "colab_type": "code",
        "colab": {}
      },
      "source": [
        "target_log_series = pd.Series(target_log)"
      ],
      "execution_count": 0,
      "outputs": []
    },
    {
      "cell_type": "code",
      "metadata": {
        "id": "p6-0JRp-wUg-",
        "colab_type": "code",
        "colab": {}
      },
      "source": [
        "train = train.assign(log_total_cases = target_log_series)"
      ],
      "execution_count": 0,
      "outputs": []
    },
    {
      "cell_type": "code",
      "metadata": {
        "id": "Xur8Df_qwlyf",
        "colab_type": "code",
        "colab": {}
      },
      "source": [
        "#drop total_cases target column while training the model\n",
        "train = train.drop(columns='Total dengue cases in the week')"
      ],
      "execution_count": 0,
      "outputs": []
    },
    {
      "cell_type": "code",
      "metadata": {
        "id": "rx2BR80t16zQ",
        "colab_type": "code",
        "colab": {}
      },
      "source": [
        "#Do the same log transformation with validation dataset\n",
        "target_log_val = np.log1p(val['Total dengue cases in the week'])"
      ],
      "execution_count": 0,
      "outputs": []
    },
    {
      "cell_type": "code",
      "metadata": {
        "id": "H69oMJRb2D7v",
        "colab_type": "code",
        "colab": {}
      },
      "source": [
        "target_log_val_series = pd.Series(target_log_val)"
      ],
      "execution_count": 0,
      "outputs": []
    },
    {
      "cell_type": "code",
      "metadata": {
        "id": "o-s4-jNY2MSt",
        "colab_type": "code",
        "colab": {}
      },
      "source": [
        "val = val.assign(log_total_cases = target_log_val_series)"
      ],
      "execution_count": 0,
      "outputs": []
    },
    {
      "cell_type": "code",
      "metadata": {
        "id": "odYk58QB2VfH",
        "colab_type": "code",
        "colab": {}
      },
      "source": [
        "val = val.drop(columns='Total dengue cases in the week')"
      ],
      "execution_count": 0,
      "outputs": []
    },
    {
      "cell_type": "markdown",
      "metadata": {
        "id": "BdagFU-j8-Rp",
        "colab_type": "text"
      },
      "source": [
        "####Fitting a multiple regression model"
      ]
    },
    {
      "cell_type": "code",
      "metadata": {
        "id": "XsfjJ5nR1jvQ",
        "colab_type": "code",
        "colab": {}
      },
      "source": [
        "#Define target and features"
      ],
      "execution_count": 0,
      "outputs": []
    },
    {
      "cell_type": "code",
      "metadata": {
        "id": "OxXgtCPH-oUD",
        "colab_type": "code",
        "colab": {}
      },
      "source": [
        "# The status_group column is the target\n",
        "target = 'log_total_cases'\n",
        "\n",
        "# Get a dataframe with all train columns except the target\n",
        "train_features = train.drop(columns=[target])\n",
        "\n",
        "# Get a list of the numeric features\n",
        "numeric_features = train_features.select_dtypes(include='number').columns.tolist()\n",
        "\n",
        "\n",
        "# Combine the lists \n",
        "features = numeric_features\n",
        "\n"
      ],
      "execution_count": 0,
      "outputs": []
    },
    {
      "cell_type": "code",
      "metadata": {
        "id": "hYrFsR9k-0jI",
        "colab_type": "code",
        "colab": {}
      },
      "source": [
        "# Arrange data into X features matrix and y target vector \n",
        "X_train = train[features]\n",
        "y_train = train[target]\n",
        "X_val = val[features]\n",
        "y_val = val[target]\n"
      ],
      "execution_count": 0,
      "outputs": []
    },
    {
      "cell_type": "code",
      "metadata": {
        "id": "QdwVKn4iLGyS",
        "colab_type": "code",
        "colab": {}
      },
      "source": [
        "#Imputing missing values\n",
        "from sklearn.impute import SimpleImputer\n",
        "imputer = SimpleImputer()\n",
        "\n",
        "X_train_imputed = imputer.fit_transform(X_train)\n",
        "\n",
        "X_val_imputed = imputer.transform(X_val)"
      ],
      "execution_count": 0,
      "outputs": []
    },
    {
      "cell_type": "code",
      "metadata": {
        "id": "CVx9_7-uJSda",
        "colab_type": "code",
        "colab": {}
      },
      "source": [
        "#Standard Scaling \n",
        "from sklearn.preprocessing import StandardScaler\n",
        "\n",
        "scaler = StandardScaler()\n",
        "\n",
        "X_train_scaled = scaler.fit_transform(X_train_imputed)\n",
        "X_val_scaled = scaler.transform(X_val_imputed)\n",
        "\n"
      ],
      "execution_count": 0,
      "outputs": []
    },
    {
      "cell_type": "code",
      "metadata": {
        "id": "YxNcIAL7Jhap",
        "colab_type": "code",
        "outputId": "2fa1a3d9-65f4-49bd-9c97-d5337bc841a1",
        "colab": {
          "base_uri": "https://localhost:8080/",
          "height": 54
        }
      },
      "source": [
        "# Import the appropriate estimator class from Scikit-Learn\n",
        "from sklearn.linear_model import LinearRegression\n",
        "\n",
        "# Instantiate this class\n",
        "model = LinearRegression()\n",
        "\n",
        "# Fit the model\n",
        "model.fit(X_train_scaled, y_train)\n",
        "y_pred_train = model.predict(X_train_scaled)\n",
        "mae_train = mean_absolute_error(y_train, y_pred_train)\n",
        "print(f'Log transformed Train error: {mae_train:.2f} cases/week')\n",
        "\n",
        "# Apply the model to new data\n",
        "y_pred_val = model.predict(X_val_scaled)\n",
        "mae_val = mean_absolute_error(y_val, y_pred_val)\n",
        "print(f'Log transformed Validation error: {mae_val:.2f} cases/week')"
      ],
      "execution_count": 0,
      "outputs": [
        {
          "output_type": "stream",
          "text": [
            "Log transformed Train error: 0.76 cases/week\n",
            "Log transformed Validation error: 0.77 cases/week\n"
          ],
          "name": "stdout"
        }
      ]
    },
    {
      "cell_type": "code",
      "metadata": {
        "id": "ERHIo8fZM2Af",
        "colab_type": "code",
        "colab": {}
      },
      "source": [
        "#Transform y_pred back to original units from log transformed\n",
        "y_pred_original = np.expm1(y_pred_val)"
      ],
      "execution_count": 0,
      "outputs": []
    },
    {
      "cell_type": "code",
      "metadata": {
        "id": "BBgkh_d3M6mQ",
        "colab_type": "code",
        "colab": {}
      },
      "source": [
        "y_val_original = np.expm1(y_val)"
      ],
      "execution_count": 0,
      "outputs": []
    },
    {
      "cell_type": "code",
      "metadata": {
        "id": "OS-BkNSzOSXW",
        "colab_type": "code",
        "outputId": "ff41d12a-22bf-48cb-fcfc-3dcbf06476ba",
        "colab": {
          "base_uri": "https://localhost:8080/",
          "height": 35
        }
      },
      "source": [
        "mae_val = mean_absolute_error(y_val_original, y_pred_original)\n",
        "print(f'2-Features Linear Regression Validation error: {mae_val:.2f} cases/week')"
      ],
      "execution_count": 0,
      "outputs": [
        {
          "output_type": "stream",
          "text": [
            "2-Features Linear Regression Validation error: 24.34 cases/week\n"
          ],
          "name": "stdout"
        }
      ]
    },
    {
      "cell_type": "markdown",
      "metadata": {
        "id": "36hpH-TYOv_e",
        "colab_type": "text"
      },
      "source": [
        "####Using 2-Features Linear Regression, Val. MAE was reduced to 24.34 cases/week from baseline (no features) MAE =26.96 cases/week.\n",
        "####Linear Regression was not very effective in reducing MAE for the target, so the next step is to test tree-based or Gradient Boosting based regression models.\n"
      ]
    },
    {
      "cell_type": "code",
      "metadata": {
        "id": "tzA5VTf7OmFr",
        "colab_type": "code",
        "colab": {}
      },
      "source": [
        ""
      ],
      "execution_count": 0,
      "outputs": []
    }
  ]
}