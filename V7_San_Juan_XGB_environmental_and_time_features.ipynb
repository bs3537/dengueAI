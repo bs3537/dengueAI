{
  "nbformat": 4,
  "nbformat_minor": 0,
  "metadata": {
    "colab": {
      "name": "V7_San Juan_XGB_environmental and time features.ipynb",
      "provenance": [],
      "collapsed_sections": [],
      "include_colab_link": true
    },
    "kernelspec": {
      "name": "python3",
      "display_name": "Python 3"
    },
    "accelerator": "TPU"
  },
  "cells": [
    {
      "cell_type": "markdown",
      "metadata": {
        "id": "view-in-github",
        "colab_type": "text"
      },
      "source": [
        "<a href=\"https://colab.research.google.com/github/bs3537/dengueAI/blob/master/V7_San_Juan_XGB_environmental_and_time_features.ipynb\" target=\"_parent\"><img src=\"https://colab.research.google.com/assets/colab-badge.svg\" alt=\"Open In Colab\"/></a>"
      ]
    },
    {
      "cell_type": "code",
      "metadata": {
        "id": "5Ukh8Map-36v",
        "colab_type": "code",
        "colab": {}
      },
      "source": [
        "import numpy as np\n",
        "import matplotlib.pyplot as plt\n",
        "import pandas as pd"
      ],
      "execution_count": 0,
      "outputs": []
    },
    {
      "cell_type": "code",
      "metadata": {
        "id": "bNfkOBCy_Jou",
        "colab_type": "code",
        "colab": {}
      },
      "source": [
        "#https://www.drivendata.org/competitions/44/dengai-predicting-disease-spread/page/80/"
      ],
      "execution_count": 0,
      "outputs": []
    },
    {
      "cell_type": "code",
      "metadata": {
        "id": "ffADrian_pCI",
        "colab_type": "code",
        "colab": {}
      },
      "source": [
        "#Your goal is to predict the total_cases label for each (city, year, weekofyear) in the test set. "
      ],
      "execution_count": 0,
      "outputs": []
    },
    {
      "cell_type": "code",
      "metadata": {
        "id": "NwxEGb6g_wbd",
        "colab_type": "code",
        "colab": {}
      },
      "source": [
        "#Performance metric = mean absolute error"
      ],
      "execution_count": 0,
      "outputs": []
    },
    {
      "cell_type": "markdown",
      "metadata": {
        "id": "-C1DncwC_72L",
        "colab_type": "text"
      },
      "source": [
        "##LIST OF FEATURES:\n",
        "You are provided the following set of information on a (year, weekofyear) timescale:\n",
        "\n",
        "(Where appropriate, units are provided as a _unit suffix on the feature name.)\n",
        "\n",
        "###City and date indicators\n",
        "1. city – City abbreviations: sj for San Juan and iq for Iquitos\n",
        "2. week_start_date – Date given in yyyy-mm-dd format\n",
        "###NOAA's GHCN daily climate data weather station measurements\n",
        "1. station_max_temp_c – Maximum temperature\n",
        "2. station_min_temp_c – Minimum temperature\n",
        "3. station_avg_temp_c – Average temperature\n",
        "4. station_precip_mm – Total precipitation\n",
        "5. station_diur_temp_rng_c – Diurnal temperature range\n",
        "\n",
        "###PERSIANN satellite precipitation measurements (0.25x0.25 degree scale)\n",
        "\n",
        "6. precipitation_amt_mm – Total precipitation\n",
        "\n",
        "###NOAA's NCEP Climate Forecast System Reanalysis measurements (0.5x0.5 degree scale)\n",
        "\n",
        "7. reanalysis_sat_precip_amt_mm – Total precipitation\n",
        "8. reanalysis_dew_point_temp_k – Mean dew point temperature\n",
        "9. reanalysis_air_temp_k – Mean air temperature\n",
        "10. reanalysis_relative_humidity_percent – Mean relative humidity\n",
        "11. reanalysis_specific_humidity_g_per_kg – Mean specific humidity\n",
        "12. reanalysis_precip_amt_kg_per_m2 – Total precipitation\n",
        "13. reanalysis_max_air_temp_k – Maximum air temperature\n",
        "14. reanalysis_min_air_temp_k – Minimum air temperature\n",
        "15. reanalysis_avg_temp_k – Average air temperature\n",
        "16. reanalysis_tdtr_k – Diurnal temperature range\n",
        "\n",
        "###Satellite vegetation - Normalized difference vegetation index (NDVI) - NOAA's CDR Normalized Difference Vegetation Index (0.5x0.5 degree scale) measurements\n",
        "17. ndvi_se – Pixel southeast of city centroid\n",
        "18. ndvi_sw – Pixel southwest of city centroid\n",
        "19. ndvi_ne – Pixel northeast of city centroid\n",
        "20. ndvi_nw – Pixel northwest of city centroid"
      ]
    },
    {
      "cell_type": "markdown",
      "metadata": {
        "id": "kcOv7N-DB8IY",
        "colab_type": "text"
      },
      "source": [
        "####TARGET VARIABLE = total_cases label for each (city, year, weekofyear)"
      ]
    },
    {
      "cell_type": "code",
      "metadata": {
        "id": "R812MHU9CGnV",
        "colab_type": "code",
        "colab": {}
      },
      "source": [
        "import sys"
      ],
      "execution_count": 0,
      "outputs": []
    },
    {
      "cell_type": "code",
      "metadata": {
        "id": "lbD6Iui1C4nV",
        "colab_type": "code",
        "colab": {}
      },
      "source": [
        "#Load train features and labels datasets\n",
        "train_features = pd.read_csv('https://s3.amazonaws.com/drivendata/data/44/public/dengue_features_train.csv')"
      ],
      "execution_count": 0,
      "outputs": []
    },
    {
      "cell_type": "code",
      "metadata": {
        "id": "s-_yx5mWDiXj",
        "colab_type": "code",
        "outputId": "a7ca5424-3ec6-4c20-bc2e-5ea581653a19",
        "colab": {
          "base_uri": "https://localhost:8080/",
          "height": 218
        }
      },
      "source": [
        "train_features.head()"
      ],
      "execution_count": 0,
      "outputs": [
        {
          "output_type": "execute_result",
          "data": {
            "text/html": [
              "<div>\n",
              "<style scoped>\n",
              "    .dataframe tbody tr th:only-of-type {\n",
              "        vertical-align: middle;\n",
              "    }\n",
              "\n",
              "    .dataframe tbody tr th {\n",
              "        vertical-align: top;\n",
              "    }\n",
              "\n",
              "    .dataframe thead th {\n",
              "        text-align: right;\n",
              "    }\n",
              "</style>\n",
              "<table border=\"1\" class=\"dataframe\">\n",
              "  <thead>\n",
              "    <tr style=\"text-align: right;\">\n",
              "      <th></th>\n",
              "      <th>city</th>\n",
              "      <th>year</th>\n",
              "      <th>weekofyear</th>\n",
              "      <th>week_start_date</th>\n",
              "      <th>ndvi_ne</th>\n",
              "      <th>ndvi_nw</th>\n",
              "      <th>ndvi_se</th>\n",
              "      <th>ndvi_sw</th>\n",
              "      <th>precipitation_amt_mm</th>\n",
              "      <th>reanalysis_air_temp_k</th>\n",
              "      <th>reanalysis_avg_temp_k</th>\n",
              "      <th>reanalysis_dew_point_temp_k</th>\n",
              "      <th>reanalysis_max_air_temp_k</th>\n",
              "      <th>reanalysis_min_air_temp_k</th>\n",
              "      <th>reanalysis_precip_amt_kg_per_m2</th>\n",
              "      <th>reanalysis_relative_humidity_percent</th>\n",
              "      <th>reanalysis_sat_precip_amt_mm</th>\n",
              "      <th>reanalysis_specific_humidity_g_per_kg</th>\n",
              "      <th>reanalysis_tdtr_k</th>\n",
              "      <th>station_avg_temp_c</th>\n",
              "      <th>station_diur_temp_rng_c</th>\n",
              "      <th>station_max_temp_c</th>\n",
              "      <th>station_min_temp_c</th>\n",
              "      <th>station_precip_mm</th>\n",
              "    </tr>\n",
              "  </thead>\n",
              "  <tbody>\n",
              "    <tr>\n",
              "      <th>0</th>\n",
              "      <td>sj</td>\n",
              "      <td>1990</td>\n",
              "      <td>18</td>\n",
              "      <td>1990-04-30</td>\n",
              "      <td>0.122600</td>\n",
              "      <td>0.103725</td>\n",
              "      <td>0.198483</td>\n",
              "      <td>0.177617</td>\n",
              "      <td>12.42</td>\n",
              "      <td>297.572857</td>\n",
              "      <td>297.742857</td>\n",
              "      <td>292.414286</td>\n",
              "      <td>299.8</td>\n",
              "      <td>295.9</td>\n",
              "      <td>32.00</td>\n",
              "      <td>73.365714</td>\n",
              "      <td>12.42</td>\n",
              "      <td>14.012857</td>\n",
              "      <td>2.628571</td>\n",
              "      <td>25.442857</td>\n",
              "      <td>6.900000</td>\n",
              "      <td>29.4</td>\n",
              "      <td>20.0</td>\n",
              "      <td>16.0</td>\n",
              "    </tr>\n",
              "    <tr>\n",
              "      <th>1</th>\n",
              "      <td>sj</td>\n",
              "      <td>1990</td>\n",
              "      <td>19</td>\n",
              "      <td>1990-05-07</td>\n",
              "      <td>0.169900</td>\n",
              "      <td>0.142175</td>\n",
              "      <td>0.162357</td>\n",
              "      <td>0.155486</td>\n",
              "      <td>22.82</td>\n",
              "      <td>298.211429</td>\n",
              "      <td>298.442857</td>\n",
              "      <td>293.951429</td>\n",
              "      <td>300.9</td>\n",
              "      <td>296.4</td>\n",
              "      <td>17.94</td>\n",
              "      <td>77.368571</td>\n",
              "      <td>22.82</td>\n",
              "      <td>15.372857</td>\n",
              "      <td>2.371429</td>\n",
              "      <td>26.714286</td>\n",
              "      <td>6.371429</td>\n",
              "      <td>31.7</td>\n",
              "      <td>22.2</td>\n",
              "      <td>8.6</td>\n",
              "    </tr>\n",
              "    <tr>\n",
              "      <th>2</th>\n",
              "      <td>sj</td>\n",
              "      <td>1990</td>\n",
              "      <td>20</td>\n",
              "      <td>1990-05-14</td>\n",
              "      <td>0.032250</td>\n",
              "      <td>0.172967</td>\n",
              "      <td>0.157200</td>\n",
              "      <td>0.170843</td>\n",
              "      <td>34.54</td>\n",
              "      <td>298.781429</td>\n",
              "      <td>298.878571</td>\n",
              "      <td>295.434286</td>\n",
              "      <td>300.5</td>\n",
              "      <td>297.3</td>\n",
              "      <td>26.10</td>\n",
              "      <td>82.052857</td>\n",
              "      <td>34.54</td>\n",
              "      <td>16.848571</td>\n",
              "      <td>2.300000</td>\n",
              "      <td>26.714286</td>\n",
              "      <td>6.485714</td>\n",
              "      <td>32.2</td>\n",
              "      <td>22.8</td>\n",
              "      <td>41.4</td>\n",
              "    </tr>\n",
              "    <tr>\n",
              "      <th>3</th>\n",
              "      <td>sj</td>\n",
              "      <td>1990</td>\n",
              "      <td>21</td>\n",
              "      <td>1990-05-21</td>\n",
              "      <td>0.128633</td>\n",
              "      <td>0.245067</td>\n",
              "      <td>0.227557</td>\n",
              "      <td>0.235886</td>\n",
              "      <td>15.36</td>\n",
              "      <td>298.987143</td>\n",
              "      <td>299.228571</td>\n",
              "      <td>295.310000</td>\n",
              "      <td>301.4</td>\n",
              "      <td>297.0</td>\n",
              "      <td>13.90</td>\n",
              "      <td>80.337143</td>\n",
              "      <td>15.36</td>\n",
              "      <td>16.672857</td>\n",
              "      <td>2.428571</td>\n",
              "      <td>27.471429</td>\n",
              "      <td>6.771429</td>\n",
              "      <td>33.3</td>\n",
              "      <td>23.3</td>\n",
              "      <td>4.0</td>\n",
              "    </tr>\n",
              "    <tr>\n",
              "      <th>4</th>\n",
              "      <td>sj</td>\n",
              "      <td>1990</td>\n",
              "      <td>22</td>\n",
              "      <td>1990-05-28</td>\n",
              "      <td>0.196200</td>\n",
              "      <td>0.262200</td>\n",
              "      <td>0.251200</td>\n",
              "      <td>0.247340</td>\n",
              "      <td>7.52</td>\n",
              "      <td>299.518571</td>\n",
              "      <td>299.664286</td>\n",
              "      <td>295.821429</td>\n",
              "      <td>301.9</td>\n",
              "      <td>297.5</td>\n",
              "      <td>12.20</td>\n",
              "      <td>80.460000</td>\n",
              "      <td>7.52</td>\n",
              "      <td>17.210000</td>\n",
              "      <td>3.014286</td>\n",
              "      <td>28.942857</td>\n",
              "      <td>9.371429</td>\n",
              "      <td>35.0</td>\n",
              "      <td>23.9</td>\n",
              "      <td>5.8</td>\n",
              "    </tr>\n",
              "  </tbody>\n",
              "</table>\n",
              "</div>"
            ],
            "text/plain": [
              "  city  year  ...  station_min_temp_c station_precip_mm\n",
              "0   sj  1990  ...                20.0              16.0\n",
              "1   sj  1990  ...                22.2               8.6\n",
              "2   sj  1990  ...                22.8              41.4\n",
              "3   sj  1990  ...                23.3               4.0\n",
              "4   sj  1990  ...                23.9               5.8\n",
              "\n",
              "[5 rows x 24 columns]"
            ]
          },
          "metadata": {
            "tags": []
          },
          "execution_count": 7
        }
      ]
    },
    {
      "cell_type": "code",
      "metadata": {
        "id": "Xdpbz7WuDm8b",
        "colab_type": "code",
        "outputId": "2c8e9bff-342e-460f-927d-c4194218b581",
        "colab": {
          "base_uri": "https://localhost:8080/",
          "height": 35
        }
      },
      "source": [
        "train_features.shape"
      ],
      "execution_count": 0,
      "outputs": [
        {
          "output_type": "execute_result",
          "data": {
            "text/plain": [
              "(1456, 24)"
            ]
          },
          "metadata": {
            "tags": []
          },
          "execution_count": 8
        }
      ]
    },
    {
      "cell_type": "code",
      "metadata": {
        "id": "rpDm9LmxDrY-",
        "colab_type": "code",
        "colab": {}
      },
      "source": [
        "train_labels = pd.read_csv('https://s3.amazonaws.com/drivendata/data/44/public/dengue_labels_train.csv')"
      ],
      "execution_count": 0,
      "outputs": []
    },
    {
      "cell_type": "code",
      "metadata": {
        "id": "KZ9UDAwsD1jJ",
        "colab_type": "code",
        "outputId": "2469ebf2-f05e-44d4-9ef2-3e8495129a54",
        "colab": {
          "base_uri": "https://localhost:8080/",
          "height": 198
        }
      },
      "source": [
        "train_labels.head()"
      ],
      "execution_count": 0,
      "outputs": [
        {
          "output_type": "execute_result",
          "data": {
            "text/html": [
              "<div>\n",
              "<style scoped>\n",
              "    .dataframe tbody tr th:only-of-type {\n",
              "        vertical-align: middle;\n",
              "    }\n",
              "\n",
              "    .dataframe tbody tr th {\n",
              "        vertical-align: top;\n",
              "    }\n",
              "\n",
              "    .dataframe thead th {\n",
              "        text-align: right;\n",
              "    }\n",
              "</style>\n",
              "<table border=\"1\" class=\"dataframe\">\n",
              "  <thead>\n",
              "    <tr style=\"text-align: right;\">\n",
              "      <th></th>\n",
              "      <th>city</th>\n",
              "      <th>year</th>\n",
              "      <th>weekofyear</th>\n",
              "      <th>total_cases</th>\n",
              "    </tr>\n",
              "  </thead>\n",
              "  <tbody>\n",
              "    <tr>\n",
              "      <th>0</th>\n",
              "      <td>sj</td>\n",
              "      <td>1990</td>\n",
              "      <td>18</td>\n",
              "      <td>4</td>\n",
              "    </tr>\n",
              "    <tr>\n",
              "      <th>1</th>\n",
              "      <td>sj</td>\n",
              "      <td>1990</td>\n",
              "      <td>19</td>\n",
              "      <td>5</td>\n",
              "    </tr>\n",
              "    <tr>\n",
              "      <th>2</th>\n",
              "      <td>sj</td>\n",
              "      <td>1990</td>\n",
              "      <td>20</td>\n",
              "      <td>4</td>\n",
              "    </tr>\n",
              "    <tr>\n",
              "      <th>3</th>\n",
              "      <td>sj</td>\n",
              "      <td>1990</td>\n",
              "      <td>21</td>\n",
              "      <td>3</td>\n",
              "    </tr>\n",
              "    <tr>\n",
              "      <th>4</th>\n",
              "      <td>sj</td>\n",
              "      <td>1990</td>\n",
              "      <td>22</td>\n",
              "      <td>6</td>\n",
              "    </tr>\n",
              "  </tbody>\n",
              "</table>\n",
              "</div>"
            ],
            "text/plain": [
              "  city  year  weekofyear  total_cases\n",
              "0   sj  1990          18            4\n",
              "1   sj  1990          19            5\n",
              "2   sj  1990          20            4\n",
              "3   sj  1990          21            3\n",
              "4   sj  1990          22            6"
            ]
          },
          "metadata": {
            "tags": []
          },
          "execution_count": 10
        }
      ]
    },
    {
      "cell_type": "code",
      "metadata": {
        "id": "_2nI1SQjD6pQ",
        "colab_type": "code",
        "outputId": "4cc9d6a7-b4cd-4550-c38e-3078b3ee1383",
        "colab": {
          "base_uri": "https://localhost:8080/",
          "height": 35
        }
      },
      "source": [
        "train_labels.shape"
      ],
      "execution_count": 0,
      "outputs": [
        {
          "output_type": "execute_result",
          "data": {
            "text/plain": [
              "(1456, 4)"
            ]
          },
          "metadata": {
            "tags": []
          },
          "execution_count": 11
        }
      ]
    },
    {
      "cell_type": "code",
      "metadata": {
        "id": "FAYWnm4ID-W0",
        "colab_type": "code",
        "colab": {}
      },
      "source": [
        "#Merge train features and labels datasets"
      ],
      "execution_count": 0,
      "outputs": []
    },
    {
      "cell_type": "code",
      "metadata": {
        "id": "P_5iKLG0EVm4",
        "colab_type": "code",
        "colab": {}
      },
      "source": [
        "train = pd.merge(train_features, train_labels)"
      ],
      "execution_count": 0,
      "outputs": []
    },
    {
      "cell_type": "code",
      "metadata": {
        "id": "HLbpdKOvEjH7",
        "colab_type": "code",
        "outputId": "38420393-ed32-4309-d75b-a2a852b9c84b",
        "colab": {
          "base_uri": "https://localhost:8080/",
          "height": 218
        }
      },
      "source": [
        "train.head()"
      ],
      "execution_count": 0,
      "outputs": [
        {
          "output_type": "execute_result",
          "data": {
            "text/html": [
              "<div>\n",
              "<style scoped>\n",
              "    .dataframe tbody tr th:only-of-type {\n",
              "        vertical-align: middle;\n",
              "    }\n",
              "\n",
              "    .dataframe tbody tr th {\n",
              "        vertical-align: top;\n",
              "    }\n",
              "\n",
              "    .dataframe thead th {\n",
              "        text-align: right;\n",
              "    }\n",
              "</style>\n",
              "<table border=\"1\" class=\"dataframe\">\n",
              "  <thead>\n",
              "    <tr style=\"text-align: right;\">\n",
              "      <th></th>\n",
              "      <th>city</th>\n",
              "      <th>year</th>\n",
              "      <th>weekofyear</th>\n",
              "      <th>week_start_date</th>\n",
              "      <th>ndvi_ne</th>\n",
              "      <th>ndvi_nw</th>\n",
              "      <th>ndvi_se</th>\n",
              "      <th>ndvi_sw</th>\n",
              "      <th>precipitation_amt_mm</th>\n",
              "      <th>reanalysis_air_temp_k</th>\n",
              "      <th>reanalysis_avg_temp_k</th>\n",
              "      <th>reanalysis_dew_point_temp_k</th>\n",
              "      <th>reanalysis_max_air_temp_k</th>\n",
              "      <th>reanalysis_min_air_temp_k</th>\n",
              "      <th>reanalysis_precip_amt_kg_per_m2</th>\n",
              "      <th>reanalysis_relative_humidity_percent</th>\n",
              "      <th>reanalysis_sat_precip_amt_mm</th>\n",
              "      <th>reanalysis_specific_humidity_g_per_kg</th>\n",
              "      <th>reanalysis_tdtr_k</th>\n",
              "      <th>station_avg_temp_c</th>\n",
              "      <th>station_diur_temp_rng_c</th>\n",
              "      <th>station_max_temp_c</th>\n",
              "      <th>station_min_temp_c</th>\n",
              "      <th>station_precip_mm</th>\n",
              "      <th>total_cases</th>\n",
              "    </tr>\n",
              "  </thead>\n",
              "  <tbody>\n",
              "    <tr>\n",
              "      <th>0</th>\n",
              "      <td>sj</td>\n",
              "      <td>1990</td>\n",
              "      <td>18</td>\n",
              "      <td>1990-04-30</td>\n",
              "      <td>0.122600</td>\n",
              "      <td>0.103725</td>\n",
              "      <td>0.198483</td>\n",
              "      <td>0.177617</td>\n",
              "      <td>12.42</td>\n",
              "      <td>297.572857</td>\n",
              "      <td>297.742857</td>\n",
              "      <td>292.414286</td>\n",
              "      <td>299.8</td>\n",
              "      <td>295.9</td>\n",
              "      <td>32.00</td>\n",
              "      <td>73.365714</td>\n",
              "      <td>12.42</td>\n",
              "      <td>14.012857</td>\n",
              "      <td>2.628571</td>\n",
              "      <td>25.442857</td>\n",
              "      <td>6.900000</td>\n",
              "      <td>29.4</td>\n",
              "      <td>20.0</td>\n",
              "      <td>16.0</td>\n",
              "      <td>4</td>\n",
              "    </tr>\n",
              "    <tr>\n",
              "      <th>1</th>\n",
              "      <td>sj</td>\n",
              "      <td>1990</td>\n",
              "      <td>19</td>\n",
              "      <td>1990-05-07</td>\n",
              "      <td>0.169900</td>\n",
              "      <td>0.142175</td>\n",
              "      <td>0.162357</td>\n",
              "      <td>0.155486</td>\n",
              "      <td>22.82</td>\n",
              "      <td>298.211429</td>\n",
              "      <td>298.442857</td>\n",
              "      <td>293.951429</td>\n",
              "      <td>300.9</td>\n",
              "      <td>296.4</td>\n",
              "      <td>17.94</td>\n",
              "      <td>77.368571</td>\n",
              "      <td>22.82</td>\n",
              "      <td>15.372857</td>\n",
              "      <td>2.371429</td>\n",
              "      <td>26.714286</td>\n",
              "      <td>6.371429</td>\n",
              "      <td>31.7</td>\n",
              "      <td>22.2</td>\n",
              "      <td>8.6</td>\n",
              "      <td>5</td>\n",
              "    </tr>\n",
              "    <tr>\n",
              "      <th>2</th>\n",
              "      <td>sj</td>\n",
              "      <td>1990</td>\n",
              "      <td>20</td>\n",
              "      <td>1990-05-14</td>\n",
              "      <td>0.032250</td>\n",
              "      <td>0.172967</td>\n",
              "      <td>0.157200</td>\n",
              "      <td>0.170843</td>\n",
              "      <td>34.54</td>\n",
              "      <td>298.781429</td>\n",
              "      <td>298.878571</td>\n",
              "      <td>295.434286</td>\n",
              "      <td>300.5</td>\n",
              "      <td>297.3</td>\n",
              "      <td>26.10</td>\n",
              "      <td>82.052857</td>\n",
              "      <td>34.54</td>\n",
              "      <td>16.848571</td>\n",
              "      <td>2.300000</td>\n",
              "      <td>26.714286</td>\n",
              "      <td>6.485714</td>\n",
              "      <td>32.2</td>\n",
              "      <td>22.8</td>\n",
              "      <td>41.4</td>\n",
              "      <td>4</td>\n",
              "    </tr>\n",
              "    <tr>\n",
              "      <th>3</th>\n",
              "      <td>sj</td>\n",
              "      <td>1990</td>\n",
              "      <td>21</td>\n",
              "      <td>1990-05-21</td>\n",
              "      <td>0.128633</td>\n",
              "      <td>0.245067</td>\n",
              "      <td>0.227557</td>\n",
              "      <td>0.235886</td>\n",
              "      <td>15.36</td>\n",
              "      <td>298.987143</td>\n",
              "      <td>299.228571</td>\n",
              "      <td>295.310000</td>\n",
              "      <td>301.4</td>\n",
              "      <td>297.0</td>\n",
              "      <td>13.90</td>\n",
              "      <td>80.337143</td>\n",
              "      <td>15.36</td>\n",
              "      <td>16.672857</td>\n",
              "      <td>2.428571</td>\n",
              "      <td>27.471429</td>\n",
              "      <td>6.771429</td>\n",
              "      <td>33.3</td>\n",
              "      <td>23.3</td>\n",
              "      <td>4.0</td>\n",
              "      <td>3</td>\n",
              "    </tr>\n",
              "    <tr>\n",
              "      <th>4</th>\n",
              "      <td>sj</td>\n",
              "      <td>1990</td>\n",
              "      <td>22</td>\n",
              "      <td>1990-05-28</td>\n",
              "      <td>0.196200</td>\n",
              "      <td>0.262200</td>\n",
              "      <td>0.251200</td>\n",
              "      <td>0.247340</td>\n",
              "      <td>7.52</td>\n",
              "      <td>299.518571</td>\n",
              "      <td>299.664286</td>\n",
              "      <td>295.821429</td>\n",
              "      <td>301.9</td>\n",
              "      <td>297.5</td>\n",
              "      <td>12.20</td>\n",
              "      <td>80.460000</td>\n",
              "      <td>7.52</td>\n",
              "      <td>17.210000</td>\n",
              "      <td>3.014286</td>\n",
              "      <td>28.942857</td>\n",
              "      <td>9.371429</td>\n",
              "      <td>35.0</td>\n",
              "      <td>23.9</td>\n",
              "      <td>5.8</td>\n",
              "      <td>6</td>\n",
              "    </tr>\n",
              "  </tbody>\n",
              "</table>\n",
              "</div>"
            ],
            "text/plain": [
              "  city  year  weekofyear  ... station_min_temp_c  station_precip_mm  total_cases\n",
              "0   sj  1990          18  ...               20.0               16.0            4\n",
              "1   sj  1990          19  ...               22.2                8.6            5\n",
              "2   sj  1990          20  ...               22.8               41.4            4\n",
              "3   sj  1990          21  ...               23.3                4.0            3\n",
              "4   sj  1990          22  ...               23.9                5.8            6\n",
              "\n",
              "[5 rows x 25 columns]"
            ]
          },
          "metadata": {
            "tags": []
          },
          "execution_count": 14
        }
      ]
    },
    {
      "cell_type": "code",
      "metadata": {
        "id": "QqBQWX8TEnV2",
        "colab_type": "code",
        "outputId": "2b947f0b-ae6e-4fe6-a70a-ec11f112ddf4",
        "colab": {
          "base_uri": "https://localhost:8080/",
          "height": 35
        }
      },
      "source": [
        "train.shape\n",
        "#city, year and week of year columns are duplicate in train_features and train_labels datasets so the total_cases column is added to the features dataset"
      ],
      "execution_count": 0,
      "outputs": [
        {
          "output_type": "execute_result",
          "data": {
            "text/plain": [
              "(1456, 25)"
            ]
          },
          "metadata": {
            "tags": []
          },
          "execution_count": 15
        }
      ]
    },
    {
      "cell_type": "code",
      "metadata": {
        "id": "Y4noS_AIFUPN",
        "colab_type": "code",
        "outputId": "87ba2f93-56ea-48db-97d7-b19847934684",
        "colab": {
          "base_uri": "https://localhost:8080/",
          "height": 490
        }
      },
      "source": [
        "train.dtypes"
      ],
      "execution_count": 0,
      "outputs": [
        {
          "output_type": "execute_result",
          "data": {
            "text/plain": [
              "city                                      object\n",
              "year                                       int64\n",
              "weekofyear                                 int64\n",
              "week_start_date                           object\n",
              "ndvi_ne                                  float64\n",
              "ndvi_nw                                  float64\n",
              "ndvi_se                                  float64\n",
              "ndvi_sw                                  float64\n",
              "precipitation_amt_mm                     float64\n",
              "reanalysis_air_temp_k                    float64\n",
              "reanalysis_avg_temp_k                    float64\n",
              "reanalysis_dew_point_temp_k              float64\n",
              "reanalysis_max_air_temp_k                float64\n",
              "reanalysis_min_air_temp_k                float64\n",
              "reanalysis_precip_amt_kg_per_m2          float64\n",
              "reanalysis_relative_humidity_percent     float64\n",
              "reanalysis_sat_precip_amt_mm             float64\n",
              "reanalysis_specific_humidity_g_per_kg    float64\n",
              "reanalysis_tdtr_k                        float64\n",
              "station_avg_temp_c                       float64\n",
              "station_diur_temp_rng_c                  float64\n",
              "station_max_temp_c                       float64\n",
              "station_min_temp_c                       float64\n",
              "station_precip_mm                        float64\n",
              "total_cases                                int64\n",
              "dtype: object"
            ]
          },
          "metadata": {
            "tags": []
          },
          "execution_count": 16
        }
      ]
    },
    {
      "cell_type": "code",
      "metadata": {
        "id": "miKFaNZL2DUk",
        "colab_type": "code",
        "outputId": "c2d477d8-4b82-46da-aa79-efd155738b0c",
        "colab": {
          "base_uri": "https://localhost:8080/",
          "height": 72
        }
      },
      "source": [
        "#Data rows for San Juan \n",
        "train.city.value_counts()"
      ],
      "execution_count": 0,
      "outputs": [
        {
          "output_type": "execute_result",
          "data": {
            "text/plain": [
              "sj    936\n",
              "iq    520\n",
              "Name: city, dtype: int64"
            ]
          },
          "metadata": {
            "tags": []
          },
          "execution_count": 17
        }
      ]
    },
    {
      "cell_type": "code",
      "metadata": {
        "id": "gy5CcmQO3Q5X",
        "colab_type": "code",
        "colab": {}
      },
      "source": [
        "#San Juan has 936 rows which we can isolate and analyze separately"
      ],
      "execution_count": 0,
      "outputs": []
    },
    {
      "cell_type": "code",
      "metadata": {
        "id": "0aOIMqhN3X37",
        "colab_type": "code",
        "colab": {}
      },
      "source": [
        "train = train[train['city'].str.match('sj')]"
      ],
      "execution_count": 0,
      "outputs": []
    },
    {
      "cell_type": "code",
      "metadata": {
        "id": "4oGUXkPV4ukp",
        "colab_type": "code",
        "outputId": "061afc2f-3701-463c-8fbf-4ef7eafe447a",
        "colab": {
          "base_uri": "https://localhost:8080/",
          "height": 218
        }
      },
      "source": [
        "train.head(5)"
      ],
      "execution_count": 0,
      "outputs": [
        {
          "output_type": "execute_result",
          "data": {
            "text/html": [
              "<div>\n",
              "<style scoped>\n",
              "    .dataframe tbody tr th:only-of-type {\n",
              "        vertical-align: middle;\n",
              "    }\n",
              "\n",
              "    .dataframe tbody tr th {\n",
              "        vertical-align: top;\n",
              "    }\n",
              "\n",
              "    .dataframe thead th {\n",
              "        text-align: right;\n",
              "    }\n",
              "</style>\n",
              "<table border=\"1\" class=\"dataframe\">\n",
              "  <thead>\n",
              "    <tr style=\"text-align: right;\">\n",
              "      <th></th>\n",
              "      <th>city</th>\n",
              "      <th>year</th>\n",
              "      <th>weekofyear</th>\n",
              "      <th>week_start_date</th>\n",
              "      <th>ndvi_ne</th>\n",
              "      <th>ndvi_nw</th>\n",
              "      <th>ndvi_se</th>\n",
              "      <th>ndvi_sw</th>\n",
              "      <th>precipitation_amt_mm</th>\n",
              "      <th>reanalysis_air_temp_k</th>\n",
              "      <th>reanalysis_avg_temp_k</th>\n",
              "      <th>reanalysis_dew_point_temp_k</th>\n",
              "      <th>reanalysis_max_air_temp_k</th>\n",
              "      <th>reanalysis_min_air_temp_k</th>\n",
              "      <th>reanalysis_precip_amt_kg_per_m2</th>\n",
              "      <th>reanalysis_relative_humidity_percent</th>\n",
              "      <th>reanalysis_sat_precip_amt_mm</th>\n",
              "      <th>reanalysis_specific_humidity_g_per_kg</th>\n",
              "      <th>reanalysis_tdtr_k</th>\n",
              "      <th>station_avg_temp_c</th>\n",
              "      <th>station_diur_temp_rng_c</th>\n",
              "      <th>station_max_temp_c</th>\n",
              "      <th>station_min_temp_c</th>\n",
              "      <th>station_precip_mm</th>\n",
              "      <th>total_cases</th>\n",
              "    </tr>\n",
              "  </thead>\n",
              "  <tbody>\n",
              "    <tr>\n",
              "      <th>0</th>\n",
              "      <td>sj</td>\n",
              "      <td>1990</td>\n",
              "      <td>18</td>\n",
              "      <td>1990-04-30</td>\n",
              "      <td>0.122600</td>\n",
              "      <td>0.103725</td>\n",
              "      <td>0.198483</td>\n",
              "      <td>0.177617</td>\n",
              "      <td>12.42</td>\n",
              "      <td>297.572857</td>\n",
              "      <td>297.742857</td>\n",
              "      <td>292.414286</td>\n",
              "      <td>299.8</td>\n",
              "      <td>295.9</td>\n",
              "      <td>32.00</td>\n",
              "      <td>73.365714</td>\n",
              "      <td>12.42</td>\n",
              "      <td>14.012857</td>\n",
              "      <td>2.628571</td>\n",
              "      <td>25.442857</td>\n",
              "      <td>6.900000</td>\n",
              "      <td>29.4</td>\n",
              "      <td>20.0</td>\n",
              "      <td>16.0</td>\n",
              "      <td>4</td>\n",
              "    </tr>\n",
              "    <tr>\n",
              "      <th>1</th>\n",
              "      <td>sj</td>\n",
              "      <td>1990</td>\n",
              "      <td>19</td>\n",
              "      <td>1990-05-07</td>\n",
              "      <td>0.169900</td>\n",
              "      <td>0.142175</td>\n",
              "      <td>0.162357</td>\n",
              "      <td>0.155486</td>\n",
              "      <td>22.82</td>\n",
              "      <td>298.211429</td>\n",
              "      <td>298.442857</td>\n",
              "      <td>293.951429</td>\n",
              "      <td>300.9</td>\n",
              "      <td>296.4</td>\n",
              "      <td>17.94</td>\n",
              "      <td>77.368571</td>\n",
              "      <td>22.82</td>\n",
              "      <td>15.372857</td>\n",
              "      <td>2.371429</td>\n",
              "      <td>26.714286</td>\n",
              "      <td>6.371429</td>\n",
              "      <td>31.7</td>\n",
              "      <td>22.2</td>\n",
              "      <td>8.6</td>\n",
              "      <td>5</td>\n",
              "    </tr>\n",
              "    <tr>\n",
              "      <th>2</th>\n",
              "      <td>sj</td>\n",
              "      <td>1990</td>\n",
              "      <td>20</td>\n",
              "      <td>1990-05-14</td>\n",
              "      <td>0.032250</td>\n",
              "      <td>0.172967</td>\n",
              "      <td>0.157200</td>\n",
              "      <td>0.170843</td>\n",
              "      <td>34.54</td>\n",
              "      <td>298.781429</td>\n",
              "      <td>298.878571</td>\n",
              "      <td>295.434286</td>\n",
              "      <td>300.5</td>\n",
              "      <td>297.3</td>\n",
              "      <td>26.10</td>\n",
              "      <td>82.052857</td>\n",
              "      <td>34.54</td>\n",
              "      <td>16.848571</td>\n",
              "      <td>2.300000</td>\n",
              "      <td>26.714286</td>\n",
              "      <td>6.485714</td>\n",
              "      <td>32.2</td>\n",
              "      <td>22.8</td>\n",
              "      <td>41.4</td>\n",
              "      <td>4</td>\n",
              "    </tr>\n",
              "    <tr>\n",
              "      <th>3</th>\n",
              "      <td>sj</td>\n",
              "      <td>1990</td>\n",
              "      <td>21</td>\n",
              "      <td>1990-05-21</td>\n",
              "      <td>0.128633</td>\n",
              "      <td>0.245067</td>\n",
              "      <td>0.227557</td>\n",
              "      <td>0.235886</td>\n",
              "      <td>15.36</td>\n",
              "      <td>298.987143</td>\n",
              "      <td>299.228571</td>\n",
              "      <td>295.310000</td>\n",
              "      <td>301.4</td>\n",
              "      <td>297.0</td>\n",
              "      <td>13.90</td>\n",
              "      <td>80.337143</td>\n",
              "      <td>15.36</td>\n",
              "      <td>16.672857</td>\n",
              "      <td>2.428571</td>\n",
              "      <td>27.471429</td>\n",
              "      <td>6.771429</td>\n",
              "      <td>33.3</td>\n",
              "      <td>23.3</td>\n",
              "      <td>4.0</td>\n",
              "      <td>3</td>\n",
              "    </tr>\n",
              "    <tr>\n",
              "      <th>4</th>\n",
              "      <td>sj</td>\n",
              "      <td>1990</td>\n",
              "      <td>22</td>\n",
              "      <td>1990-05-28</td>\n",
              "      <td>0.196200</td>\n",
              "      <td>0.262200</td>\n",
              "      <td>0.251200</td>\n",
              "      <td>0.247340</td>\n",
              "      <td>7.52</td>\n",
              "      <td>299.518571</td>\n",
              "      <td>299.664286</td>\n",
              "      <td>295.821429</td>\n",
              "      <td>301.9</td>\n",
              "      <td>297.5</td>\n",
              "      <td>12.20</td>\n",
              "      <td>80.460000</td>\n",
              "      <td>7.52</td>\n",
              "      <td>17.210000</td>\n",
              "      <td>3.014286</td>\n",
              "      <td>28.942857</td>\n",
              "      <td>9.371429</td>\n",
              "      <td>35.0</td>\n",
              "      <td>23.9</td>\n",
              "      <td>5.8</td>\n",
              "      <td>6</td>\n",
              "    </tr>\n",
              "  </tbody>\n",
              "</table>\n",
              "</div>"
            ],
            "text/plain": [
              "  city  year  weekofyear  ... station_min_temp_c  station_precip_mm  total_cases\n",
              "0   sj  1990          18  ...               20.0               16.0            4\n",
              "1   sj  1990          19  ...               22.2                8.6            5\n",
              "2   sj  1990          20  ...               22.8               41.4            4\n",
              "3   sj  1990          21  ...               23.3                4.0            3\n",
              "4   sj  1990          22  ...               23.9                5.8            6\n",
              "\n",
              "[5 rows x 25 columns]"
            ]
          },
          "metadata": {
            "tags": []
          },
          "execution_count": 20
        }
      ]
    },
    {
      "cell_type": "code",
      "metadata": {
        "id": "JqBT4dK24yaV",
        "colab_type": "code",
        "outputId": "7198e755-8ca3-4cd8-fd37-a751f96a5a8f",
        "colab": {
          "base_uri": "https://localhost:8080/",
          "height": 35
        }
      },
      "source": [
        "train.shape"
      ],
      "execution_count": 0,
      "outputs": [
        {
          "output_type": "execute_result",
          "data": {
            "text/plain": [
              "(936, 25)"
            ]
          },
          "metadata": {
            "tags": []
          },
          "execution_count": 21
        }
      ]
    },
    {
      "cell_type": "code",
      "metadata": {
        "id": "uyAsfyBc4Qc_",
        "colab_type": "code",
        "colab": {}
      },
      "source": [
        "#Thus, we have isolated the train dataset with only city data for San Juan"
      ],
      "execution_count": 0,
      "outputs": []
    },
    {
      "cell_type": "code",
      "metadata": {
        "id": "ekRvPi1mkdGT",
        "colab_type": "code",
        "outputId": "7ef40a65-074a-47b6-93c0-ca8409adccc7",
        "colab": {
          "base_uri": "https://localhost:8080/",
          "height": 298
        }
      },
      "source": [
        "#Distribution of the target\n",
        "import seaborn as sns\n",
        "sns.distplot(train['total_cases'])"
      ],
      "execution_count": 0,
      "outputs": [
        {
          "output_type": "execute_result",
          "data": {
            "text/plain": [
              "<matplotlib.axes._subplots.AxesSubplot at 0x7f69af20c5c0>"
            ]
          },
          "metadata": {
            "tags": []
          },
          "execution_count": 23
        },
        {
          "output_type": "display_data",
          "data": {
            "image/png": "[encoded data removed]",
            "text/plain": [
              "<Figure size 432x288 with 1 Axes>"
            ]
          },
          "metadata": {
            "tags": []
          }
        }
      ]
    },
    {
      "cell_type": "code",
      "metadata": {
        "id": "Scxd4CFtk5Nj",
        "colab_type": "code",
        "colab": {}
      },
      "source": [
        "#The target distribution is skewed"
      ],
      "execution_count": 0,
      "outputs": []
    },
    {
      "cell_type": "code",
      "metadata": {
        "id": "PPrAhoIak8rs",
        "colab_type": "code",
        "outputId": "88c3d3b5-8845-400b-ae57-5bfe98601e97",
        "colab": {
          "base_uri": "https://localhost:8080/",
          "height": 181
        }
      },
      "source": [
        "#Find outliers\n",
        "train['total_cases'].describe()"
      ],
      "execution_count": 0,
      "outputs": [
        {
          "output_type": "execute_result",
          "data": {
            "text/plain": [
              "count    936.000000\n",
              "mean      34.180556\n",
              "std       51.381372\n",
              "min        0.000000\n",
              "25%        9.000000\n",
              "50%       19.000000\n",
              "75%       37.000000\n",
              "max      461.000000\n",
              "Name: total_cases, dtype: float64"
            ]
          },
          "metadata": {
            "tags": []
          },
          "execution_count": 25
        }
      ]
    },
    {
      "cell_type": "code",
      "metadata": {
        "id": "G8bgM655ld7g",
        "colab_type": "code",
        "colab": {}
      },
      "source": [
        "#Remove outliers\n",
        "train = train[(train['total_cases'] >= np.percentile(train['total_cases'], 0.5)) & \n",
        "        (train['total_cases'] <= np.percentile(train['total_cases'], 99.5))]  "
      ],
      "execution_count": 0,
      "outputs": []
    },
    {
      "cell_type": "code",
      "metadata": {
        "id": "d9UW_O4_mBYU",
        "colab_type": "code",
        "outputId": "e3c71407-e73f-4931-d2e4-5f6b85f5f5fd",
        "colab": {
          "base_uri": "https://localhost:8080/",
          "height": 35
        }
      },
      "source": [
        "train.shape"
      ],
      "execution_count": 0,
      "outputs": [
        {
          "output_type": "execute_result",
          "data": {
            "text/plain": [
              "(927, 25)"
            ]
          },
          "metadata": {
            "tags": []
          },
          "execution_count": 27
        }
      ]
    },
    {
      "cell_type": "code",
      "metadata": {
        "id": "21f2kb2EmKIn",
        "colab_type": "code",
        "outputId": "4e3aa0df-9101-43cf-b86a-394b1dce489d",
        "colab": {
          "base_uri": "https://localhost:8080/",
          "height": 298
        }
      },
      "source": [
        "sns.distplot(train['total_cases'])"
      ],
      "execution_count": 0,
      "outputs": [
        {
          "output_type": "execute_result",
          "data": {
            "text/plain": [
              "<matplotlib.axes._subplots.AxesSubplot at 0x7f69aea17da0>"
            ]
          },
          "metadata": {
            "tags": []
          },
          "execution_count": 28
        },
        {
          "output_type": "display_data",
          "data": {
            "image/png": "[encoded data removed]",
            "text/plain": [
              "<Figure size 432x288 with 1 Axes>"
            ]
          },
          "metadata": {
            "tags": []
          }
        }
      ]
    },
    {
      "cell_type": "code",
      "metadata": {
        "id": "M6ywKhxjsfTV",
        "colab_type": "code",
        "outputId": "07a1906f-47a1-46cb-80f1-87df0b495077",
        "colab": {
          "base_uri": "https://localhost:8080/",
          "height": 35
        }
      },
      "source": [
        "#Do train, val split\n",
        "from sklearn.model_selection import train_test_split\n",
        "train, val = train_test_split(train, train_size=0.80, test_size=0.20, \n",
        "                              random_state=42)\n",
        "train.shape, val.shape"
      ],
      "execution_count": 0,
      "outputs": [
        {
          "output_type": "execute_result",
          "data": {
            "text/plain": [
              "((741, 25), (186, 25))"
            ]
          },
          "metadata": {
            "tags": []
          },
          "execution_count": 29
        }
      ]
    },
    {
      "cell_type": "code",
      "metadata": {
        "id": "q3sjydJnG9j5",
        "colab_type": "code",
        "colab": {}
      },
      "source": [
        "#Load test features dataset (for the competition)\n",
        "test = pd.read_csv('https://s3.amazonaws.com/drivendata/data/44/public/dengue_features_test.csv')"
      ],
      "execution_count": 0,
      "outputs": []
    },
    {
      "cell_type": "code",
      "metadata": {
        "id": "RN8eYzOwHRDw",
        "colab_type": "code",
        "colab": {}
      },
      "source": [
        "#Pandas Profiling\n"
      ],
      "execution_count": 0,
      "outputs": []
    },
    {
      "cell_type": "markdown",
      "metadata": {
        "id": "37xwkbdv6BFi",
        "colab_type": "text"
      },
      "source": [
        "#####Baseline statistics (mean and MAE) for the target variable total_cases in train dataset and baseline validation MAE"
      ]
    },
    {
      "cell_type": "code",
      "metadata": {
        "id": "7A-XYkerJjjQ",
        "colab_type": "code",
        "outputId": "485b4665-8a6f-4960-bb98-fc9dd781ea5a",
        "colab": {
          "base_uri": "https://localhost:8080/",
          "height": 181
        }
      },
      "source": [
        "train['total_cases']. describe()"
      ],
      "execution_count": 0,
      "outputs": [
        {
          "output_type": "execute_result",
          "data": {
            "text/plain": [
              "count    741.000000\n",
              "mean      31.582996\n",
              "std       40.668870\n",
              "min        1.000000\n",
              "25%        9.000000\n",
              "50%       18.000000\n",
              "75%       38.000000\n",
              "max      364.000000\n",
              "Name: total_cases, dtype: float64"
            ]
          },
          "metadata": {
            "tags": []
          },
          "execution_count": 31
        }
      ]
    },
    {
      "cell_type": "code",
      "metadata": {
        "id": "n8G_Q4Alvq0G",
        "colab_type": "code",
        "colab": {}
      },
      "source": [
        "#Baseline mean and mean absolute error"
      ],
      "execution_count": 0,
      "outputs": []
    },
    {
      "cell_type": "code",
      "metadata": {
        "id": "WLnzDoy8lUc-",
        "colab_type": "code",
        "outputId": "434dedc8-df19-4d67-d217-b3f115b0d712",
        "colab": {
          "base_uri": "https://localhost:8080/",
          "height": 35
        }
      },
      "source": [
        "guess = train['total_cases'].mean()\n",
        "print(f'At the baseline, the mean total number of dengue cases in a year is: {guess:.2f}')"
      ],
      "execution_count": 0,
      "outputs": [
        {
          "output_type": "stream",
          "text": [
            "At the baseline, the mean total number of dengue cases in a year is: 31.58\n"
          ],
          "name": "stdout"
        }
      ]
    },
    {
      "cell_type": "code",
      "metadata": {
        "id": "I87_FCk6bHrd",
        "colab_type": "code",
        "colab": {}
      },
      "source": [
        "#If we had just guessed that the total number of dengue cases was 31.58 for a city in a particular year, we would be off by how much?"
      ],
      "execution_count": 0,
      "outputs": []
    },
    {
      "cell_type": "code",
      "metadata": {
        "id": "7fgbMfSkmF8C",
        "colab_type": "code",
        "outputId": "8cdd5527-b853-4b89-b898-6806e2b6da36",
        "colab": {
          "base_uri": "https://localhost:8080/",
          "height": 72
        }
      },
      "source": [
        "from sklearn.metrics import mean_absolute_error\n",
        "\n",
        "# Arrange y target vectors\n",
        "target = 'total_cases'\n",
        "y_train = train[target]\n",
        "y_val = val[target]\n",
        "\n",
        "# Get mean baseline\n",
        "print('Mean Baseline (using 0 features)')\n",
        "guess = y_train.mean()\n",
        "\n",
        "# Train Error\n",
        "y_pred = [guess] * len(y_train)\n",
        "mae = mean_absolute_error(y_train, y_pred)\n",
        "print(f'Train mean absolute error: {mae:.2f} dengue cases per year')\n",
        "\n",
        "# Test Error\n",
        "y_pred = [guess] * len(y_val)\n",
        "mae = mean_absolute_error(y_val, y_pred)\n",
        "print(f'Validation mean absolute error: {mae:.2f} dengue cases per year')"
      ],
      "execution_count": 0,
      "outputs": [
        {
          "output_type": "stream",
          "text": [
            "Mean Baseline (using 0 features)\n",
            "Train mean absolute error: 24.94 dengue cases per year\n",
            "Validation mean absolute error: 26.96 dengue cases per year\n"
          ],
          "name": "stdout"
        }
      ]
    },
    {
      "cell_type": "code",
      "metadata": {
        "id": "1GvF83JA6Ysb",
        "colab_type": "code",
        "colab": {}
      },
      "source": [
        ""
      ],
      "execution_count": 0,
      "outputs": []
    },
    {
      "cell_type": "code",
      "metadata": {
        "id": "vyP7josIxith",
        "colab_type": "code",
        "colab": {}
      },
      "source": [
        "#we need to convert week_start_date to numeric form uisng pd.to_dateime function\n",
        "#wrangle function \n",
        "\n",
        "def wrangle(X):\n",
        "  X = X.copy()\n",
        "       \n",
        "    # Convert week_start_date to numeric form\n",
        "  X['week_start_date'] = pd.to_datetime(X['week_start_date'], infer_datetime_format=True)\n",
        "    \n",
        "    # Extract components from date_recorded, then drop the original column\n",
        "  X['year_recorded'] = X['week_start_date'].dt.year\n",
        "  X['month_recorded'] = X['week_start_date'].dt.month\n",
        "  #X['day_recorded'] = X['week_start_date'].dt.day\n",
        "  X = X.drop(columns='week_start_date')\n",
        "  X = X.drop(columns='year')\n",
        "  X = X.drop(columns='station_precip_mm')\n",
        "\n",
        "#I engineered few features which represent standing water, high risk feature for mosquitos\n",
        "\n",
        "  #1. X['standing water feature 1'] = X['station_precip_mm'] / X['station_max_temp_c']\n",
        "\n",
        "  #Standing water features\n",
        "  X['total satellite vegetation index of city'] = X['ndvi_se'] + X['ndvi_sw'] + X['ndvi_ne'] + X['ndvi_nw']\n",
        "\n",
        "  #Standing water features\n",
        "\n",
        "  #Standing water feature 1 = 'NOAA GCN precipitation amount in kg per m2 reanalyzed' * (total vegetation, sum of all 4 parts of the city)\n",
        "  X['standing water feature 1'] = X['reanalysis_precip_amt_kg_per_m2'] * X['total satellite vegetation index of city'] \n",
        "  #Standing water feature 2: 'NOAA GCN precipitation amount in kg per m2 reanalyzed'} * 'NOAA GCN mean relative humidity in pct reanalyzed'}\n",
        "  X['standing water feature 2'] = X['reanalysis_precip_amt_kg_per_m2'] * X['reanalysis_relative_humidity_percent']   \n",
        "  #Standing water feature 3: 'NOAA GCN precipitation amount in kg per m2 reanalyzed'} * 'NOAA GCN mean relative humidity in pct reanalyzed'} * (total vegetation)\n",
        "  X['standing water feature 3'] = X['reanalysis_precip_amt_kg_per_m2'] * X['reanalysis_relative_humidity_percent'] * X['total satellite vegetation index of city']  \n",
        "  #Standing water feature 4: 'NOAA GCN precipitation amount in kg per m2 reanalyzed'} / 'NOAA GCN max air temp reanalyzed'\n",
        "  X['standing water feature 4'] = X['reanalysis_precip_amt_kg_per_m2'] / X['reanalysis_max_air_temp_k']\n",
        "  #Standing water feature 5: ['NOAA GCN precipitation amount in kg per m2 reanalyzed'} * 'NOAA GCN mean relative humidity in pct reanalyzed'} * (total vegetation)]/['NOAA GCN max air temp reanalyzed']\n",
        "  X['standing water feature 5'] = X['reanalysis_precip_amt_kg_per_m2'] * X['reanalysis_relative_humidity_percent'] * X['total satellite vegetation index of city'] / X['reanalysis_max_air_temp_k']\n",
        "\n",
        "  \n",
        "  #Rename columns\n",
        "  X.rename(columns= {'reanalysis_air_temp_k':'Mean air temperature in K'}, inplace=True)\n",
        "  X.rename(columns= {'reanalysis_min_air_temp_k':'Minimum air temperature in K'}, inplace=True)\n",
        "  X.rename(columns= {'weekofyear':'Week of Year'}, inplace=True)\n",
        "  X.rename(columns= {'station_diur_temp_rng_c':'Diurnal temperature range in C'}, inplace=True)\n",
        "  X.rename(columns= {'reanalysis_precip_amt_kg_per_m2':'Total precipitation kg/m2'}, inplace=True)\n",
        "  X.rename(columns= {'reanalysis_tdtr_k':'Diurnal temperature range in K'}, inplace=True)\n",
        "  X.rename(columns= {'reanalysis_max_air_temp_k':'Maximum air temperature in K'}, inplace=True)\n",
        "  X.rename(columns= {'year_recorded':'Year recorded'}, inplace=True)\n",
        "  X.rename(columns= {'reanalysis_relative_humidity_percent':'Mean relative humidity'}, inplace=True)\n",
        "  X.rename(columns= {'month_recorded':'Month recorded'}, inplace=True)\n",
        "  X.rename(columns= {'reanalysis_dew_point_temp_k':'Mean dew point temp in K'}, inplace=True)\n",
        "  X.rename(columns= {'precipitation_amt_mm':'Total precipitation in mm'}, inplace=True)\n",
        "  X.rename(columns= {'station_min_temp_c':'Minimum temp in C'}, inplace=True)\n",
        "  X.rename(columns= {'ndvi_se':'Southeast vegetation index'}, inplace=True)\n",
        "  X.rename(columns= {'ndvi_ne':'Northeast vegetation index'}, inplace=True)\n",
        "  X.rename(columns= {'ndvi_nw':'Northwest vegetation index'}, inplace=True)\n",
        "  X.rename(columns= {'ndvi_sw':'Southwest vegetation index'}, inplace=True)\n",
        "  X.rename(columns= {'reanalysis_avg_temp_k':'Average air temperature in K'}, inplace=True)\n",
        "  X.rename(columns= {'reanalysis_sat_precip_amt_mm':'Total precipitation in mm (2)'}, inplace=True)\n",
        "  X.rename(columns= {'reanalysis_specific_humidity_g_per_kg':'Mean specific humidity'}, inplace=True)\n",
        "  X.rename(columns= {'station_avg_temp_c':'Average temp in C'}, inplace=True)\n",
        "  X.rename(columns= {'station_max_temp_c':'Maximum temp in C'}, inplace=True)\n",
        "  X.rename(columns= {'total_cases':'Total dengue cases in the week'}, inplace=True) \n",
        "\n",
        "  #Drop columns\n",
        "  X = X.drop(columns='Total precipitation in mm (2)')\n",
        "  X = X.drop(columns='Average temp in C')\n",
        "  X = X.drop(columns='Maximum temp in C')\n",
        "  X = X.drop(columns='Minimum temp in C')\n",
        "  X = X.drop(columns='Diurnal temperature range in C')\n",
        "  X = X.drop(columns='Average air temperature in K')\n",
        "  X = X.drop(columns='city')\n",
        "\n",
        "\n",
        "\n",
        "\n",
        "\n",
        "    # return the wrangled dataframe\n",
        "  return X\n",
        "\n",
        "train = wrangle(train)\n",
        "val = wrangle(val)\n",
        "test = wrangle(test)"
      ],
      "execution_count": 0,
      "outputs": []
    },
    {
      "cell_type": "code",
      "metadata": {
        "id": "ryXvv6qWzT4q",
        "colab_type": "code",
        "outputId": "63f2a423-f5f6-4740-c578-bce753528e8d",
        "colab": {
          "base_uri": "https://localhost:8080/",
          "height": 738
        }
      },
      "source": [
        "train.head().T"
      ],
      "execution_count": 0,
      "outputs": [
        {
          "output_type": "execute_result",
          "data": {
            "text/html": [
              "<div>\n",
              "<style scoped>\n",
              "    .dataframe tbody tr th:only-of-type {\n",
              "        vertical-align: middle;\n",
              "    }\n",
              "\n",
              "    .dataframe tbody tr th {\n",
              "        vertical-align: top;\n",
              "    }\n",
              "\n",
              "    .dataframe thead th {\n",
              "        text-align: right;\n",
              "    }\n",
              "</style>\n",
              "<table border=\"1\" class=\"dataframe\">\n",
              "  <thead>\n",
              "    <tr style=\"text-align: right;\">\n",
              "      <th></th>\n",
              "      <th>853</th>\n",
              "      <th>97</th>\n",
              "      <th>552</th>\n",
              "      <th>675</th>\n",
              "      <th>597</th>\n",
              "    </tr>\n",
              "  </thead>\n",
              "  <tbody>\n",
              "    <tr>\n",
              "      <th>Week of Year</th>\n",
              "      <td>38.000000</td>\n",
              "      <td>11.000000</td>\n",
              "      <td>49.000000</td>\n",
              "      <td>17.000000</td>\n",
              "      <td>43.000000</td>\n",
              "    </tr>\n",
              "    <tr>\n",
              "      <th>Northeast vegetation index</th>\n",
              "      <td>-0.055600</td>\n",
              "      <td>0.086850</td>\n",
              "      <td>0.118750</td>\n",
              "      <td>-0.078000</td>\n",
              "      <td>-0.014100</td>\n",
              "    </tr>\n",
              "    <tr>\n",
              "      <th>Northwest vegetation index</th>\n",
              "      <td>-0.016200</td>\n",
              "      <td>0.090150</td>\n",
              "      <td>0.080600</td>\n",
              "      <td>-0.125200</td>\n",
              "      <td>0.212100</td>\n",
              "    </tr>\n",
              "    <tr>\n",
              "      <th>Southeast vegetation index</th>\n",
              "      <td>0.197700</td>\n",
              "      <td>0.128000</td>\n",
              "      <td>0.117633</td>\n",
              "      <td>0.148671</td>\n",
              "      <td>0.252900</td>\n",
              "    </tr>\n",
              "    <tr>\n",
              "      <th>Southwest vegetation index</th>\n",
              "      <td>0.171929</td>\n",
              "      <td>0.155100</td>\n",
              "      <td>0.046117</td>\n",
              "      <td>0.159471</td>\n",
              "      <td>0.222829</td>\n",
              "    </tr>\n",
              "    <tr>\n",
              "      <th>Total precipitation in mm</th>\n",
              "      <td>27.180000</td>\n",
              "      <td>23.220000</td>\n",
              "      <td>19.690000</td>\n",
              "      <td>389.600000</td>\n",
              "      <td>39.700000</td>\n",
              "    </tr>\n",
              "    <tr>\n",
              "      <th>Mean air temperature in K</th>\n",
              "      <td>301.418571</td>\n",
              "      <td>297.634286</td>\n",
              "      <td>299.702857</td>\n",
              "      <td>298.445714</td>\n",
              "      <td>300.258571</td>\n",
              "    </tr>\n",
              "    <tr>\n",
              "      <th>Mean dew point temp in K</th>\n",
              "      <td>296.721429</td>\n",
              "      <td>293.540000</td>\n",
              "      <td>295.402857</td>\n",
              "      <td>295.482857</td>\n",
              "      <td>296.530000</td>\n",
              "    </tr>\n",
              "    <tr>\n",
              "      <th>Maximum air temperature in K</th>\n",
              "      <td>303.600000</td>\n",
              "      <td>299.600000</td>\n",
              "      <td>301.500000</td>\n",
              "      <td>301.400000</td>\n",
              "      <td>302.200000</td>\n",
              "    </tr>\n",
              "    <tr>\n",
              "      <th>Minimum air temperature in K</th>\n",
              "      <td>299.200000</td>\n",
              "      <td>296.100000</td>\n",
              "      <td>297.900000</td>\n",
              "      <td>296.300000</td>\n",
              "      <td>298.400000</td>\n",
              "    </tr>\n",
              "    <tr>\n",
              "      <th>Total precipitation kg/m2</th>\n",
              "      <td>9.600000</td>\n",
              "      <td>12.600000</td>\n",
              "      <td>6.800000</td>\n",
              "      <td>111.700000</td>\n",
              "      <td>25.680000</td>\n",
              "    </tr>\n",
              "    <tr>\n",
              "      <th>Mean relative humidity</th>\n",
              "      <td>75.861429</td>\n",
              "      <td>78.057143</td>\n",
              "      <td>77.357143</td>\n",
              "      <td>83.751429</td>\n",
              "      <td>80.131429</td>\n",
              "    </tr>\n",
              "    <tr>\n",
              "      <th>Mean specific humidity</th>\n",
              "      <td>18.210000</td>\n",
              "      <td>14.944286</td>\n",
              "      <td>16.771429</td>\n",
              "      <td>16.885714</td>\n",
              "      <td>18.011429</td>\n",
              "    </tr>\n",
              "    <tr>\n",
              "      <th>Diurnal temperature range in K</th>\n",
              "      <td>3.414286</td>\n",
              "      <td>2.514286</td>\n",
              "      <td>2.057143</td>\n",
              "      <td>2.785714</td>\n",
              "      <td>2.742857</td>\n",
              "    </tr>\n",
              "    <tr>\n",
              "      <th>Total dengue cases in the week</th>\n",
              "      <td>33.000000</td>\n",
              "      <td>40.000000</td>\n",
              "      <td>23.000000</td>\n",
              "      <td>5.000000</td>\n",
              "      <td>65.000000</td>\n",
              "    </tr>\n",
              "    <tr>\n",
              "      <th>Year recorded</th>\n",
              "      <td>2006.000000</td>\n",
              "      <td>1992.000000</td>\n",
              "      <td>2000.000000</td>\n",
              "      <td>2003.000000</td>\n",
              "      <td>2001.000000</td>\n",
              "    </tr>\n",
              "    <tr>\n",
              "      <th>Month recorded</th>\n",
              "      <td>9.000000</td>\n",
              "      <td>3.000000</td>\n",
              "      <td>12.000000</td>\n",
              "      <td>4.000000</td>\n",
              "      <td>10.000000</td>\n",
              "    </tr>\n",
              "    <tr>\n",
              "      <th>total satellite vegetation index of city</th>\n",
              "      <td>0.297829</td>\n",
              "      <td>0.460100</td>\n",
              "      <td>0.363100</td>\n",
              "      <td>0.104943</td>\n",
              "      <td>0.673729</td>\n",
              "    </tr>\n",
              "    <tr>\n",
              "      <th>standing water feature 1</th>\n",
              "      <td>2.859155</td>\n",
              "      <td>5.797260</td>\n",
              "      <td>2.469080</td>\n",
              "      <td>11.722111</td>\n",
              "      <td>17.301350</td>\n",
              "    </tr>\n",
              "    <tr>\n",
              "      <th>standing water feature 2</th>\n",
              "      <td>728.269714</td>\n",
              "      <td>983.520000</td>\n",
              "      <td>526.028571</td>\n",
              "      <td>9355.034571</td>\n",
              "      <td>2057.775086</td>\n",
              "    </tr>\n",
              "    <tr>\n",
              "      <th>standing water feature 3</th>\n",
              "      <td>216.899549</td>\n",
              "      <td>452.517552</td>\n",
              "      <td>191.000959</td>\n",
              "      <td>981.743522</td>\n",
              "      <td>1386.381928</td>\n",
              "    </tr>\n",
              "    <tr>\n",
              "      <th>standing water feature 4</th>\n",
              "      <td>0.031621</td>\n",
              "      <td>0.042056</td>\n",
              "      <td>0.022554</td>\n",
              "      <td>0.370604</td>\n",
              "      <td>0.084977</td>\n",
              "    </tr>\n",
              "    <tr>\n",
              "      <th>standing water feature 5</th>\n",
              "      <td>0.714425</td>\n",
              "      <td>1.510406</td>\n",
              "      <td>0.633502</td>\n",
              "      <td>3.257278</td>\n",
              "      <td>4.587630</td>\n",
              "    </tr>\n",
              "  </tbody>\n",
              "</table>\n",
              "</div>"
            ],
            "text/plain": [
              "                                                  853  ...          597\n",
              "Week of Year                                38.000000  ...    43.000000\n",
              "Northeast vegetation index                  -0.055600  ...    -0.014100\n",
              "Northwest vegetation index                  -0.016200  ...     0.212100\n",
              "Southeast vegetation index                   0.197700  ...     0.252900\n",
              "Southwest vegetation index                   0.171929  ...     0.222829\n",
              "Total precipitation in mm                   27.180000  ...    39.700000\n",
              "Mean air temperature in K                  301.418571  ...   300.258571\n",
              "Mean dew point temp in K                   296.721429  ...   296.530000\n",
              "Maximum air temperature in K               303.600000  ...   302.200000\n",
              "Minimum air temperature in K               299.200000  ...   298.400000\n",
              "Total precipitation kg/m2                    9.600000  ...    25.680000\n",
              "Mean relative humidity                      75.861429  ...    80.131429\n",
              "Mean specific humidity                      18.210000  ...    18.011429\n",
              "Diurnal temperature range in K               3.414286  ...     2.742857\n",
              "Total dengue cases in the week              33.000000  ...    65.000000\n",
              "Year recorded                             2006.000000  ...  2001.000000\n",
              "Month recorded                               9.000000  ...    10.000000\n",
              "total satellite vegetation index of city     0.297829  ...     0.673729\n",
              "standing water feature 1                     2.859155  ...    17.301350\n",
              "standing water feature 2                   728.269714  ...  2057.775086\n",
              "standing water feature 3                   216.899549  ...  1386.381928\n",
              "standing water feature 4                     0.031621  ...     0.084977\n",
              "standing water feature 5                     0.714425  ...     4.587630\n",
              "\n",
              "[23 rows x 5 columns]"
            ]
          },
          "metadata": {
            "tags": []
          },
          "execution_count": 37
        }
      ]
    },
    {
      "cell_type": "code",
      "metadata": {
        "id": "vQryVu7n4qV5",
        "colab_type": "code",
        "outputId": "63b9cb5c-7448-4257-ce5b-890393560fc1",
        "colab": {
          "base_uri": "https://localhost:8080/",
          "height": 454
        }
      },
      "source": [
        "train.dtypes"
      ],
      "execution_count": 0,
      "outputs": [
        {
          "output_type": "execute_result",
          "data": {
            "text/plain": [
              "Week of Year                                  int64\n",
              "Northeast vegetation index                  float64\n",
              "Northwest vegetation index                  float64\n",
              "Southeast vegetation index                  float64\n",
              "Southwest vegetation index                  float64\n",
              "Total precipitation in mm                   float64\n",
              "Mean air temperature in K                   float64\n",
              "Mean dew point temp in K                    float64\n",
              "Maximum air temperature in K                float64\n",
              "Minimum air temperature in K                float64\n",
              "Total precipitation kg/m2                   float64\n",
              "Mean relative humidity                      float64\n",
              "Mean specific humidity                      float64\n",
              "Diurnal temperature range in K              float64\n",
              "Total dengue cases in the week                int64\n",
              "Year recorded                                 int64\n",
              "Month recorded                                int64\n",
              "total satellite vegetation index of city    float64\n",
              "standing water feature 1                    float64\n",
              "standing water feature 2                    float64\n",
              "standing water feature 3                    float64\n",
              "standing water feature 4                    float64\n",
              "standing water feature 5                    float64\n",
              "dtype: object"
            ]
          },
          "metadata": {
            "tags": []
          },
          "execution_count": 38
        }
      ]
    },
    {
      "cell_type": "code",
      "metadata": {
        "id": "GgH_WUVmvyiS",
        "colab_type": "code",
        "colab": {}
      },
      "source": [
        "#Before we build the model to train on train dataset, log transform target variable due to skew"
      ],
      "execution_count": 0,
      "outputs": []
    },
    {
      "cell_type": "code",
      "metadata": {
        "id": "9oh9fPgCv68F",
        "colab_type": "code",
        "colab": {}
      },
      "source": [
        "import numpy as np\n",
        "target_log = np.log1p(train['Total dengue cases in the week'])"
      ],
      "execution_count": 0,
      "outputs": []
    },
    {
      "cell_type": "code",
      "metadata": {
        "id": "v1e4UKoSwFbm",
        "colab_type": "code",
        "outputId": "6b5add42-b359-4b66-a050-bb071b38196b",
        "colab": {
          "base_uri": "https://localhost:8080/",
          "height": 295
        }
      },
      "source": [
        "sns.distplot(target_log)\n",
        "plt.title('Log-transformed target');"
      ],
      "execution_count": 0,
      "outputs": [
        {
          "output_type": "display_data",
          "data": {
            "image/png": "[encoded data removed]",
            "text/plain": [
              "<Figure size 432x288 with 1 Axes>"
            ]
          },
          "metadata": {
            "tags": []
          }
        }
      ]
    },
    {
      "cell_type": "code",
      "metadata": {
        "id": "k5G3nDn9wNyM",
        "colab_type": "code",
        "colab": {}
      },
      "source": [
        "target_log_series = pd.Series(target_log)"
      ],
      "execution_count": 0,
      "outputs": []
    },
    {
      "cell_type": "code",
      "metadata": {
        "id": "p6-0JRp-wUg-",
        "colab_type": "code",
        "colab": {}
      },
      "source": [
        "train = train.assign(log_total_cases = target_log_series)"
      ],
      "execution_count": 0,
      "outputs": []
    },
    {
      "cell_type": "code",
      "metadata": {
        "id": "Xur8Df_qwlyf",
        "colab_type": "code",
        "colab": {}
      },
      "source": [
        "#drop total_cases target column while training the model\n",
        "train = train.drop(columns='Total dengue cases in the week')"
      ],
      "execution_count": 0,
      "outputs": []
    },
    {
      "cell_type": "code",
      "metadata": {
        "id": "rx2BR80t16zQ",
        "colab_type": "code",
        "colab": {}
      },
      "source": [
        "#Do the same log transformation with validation dataset\n",
        "target_log_val = np.log1p(val['Total dengue cases in the week'])"
      ],
      "execution_count": 0,
      "outputs": []
    },
    {
      "cell_type": "code",
      "metadata": {
        "id": "H69oMJRb2D7v",
        "colab_type": "code",
        "colab": {}
      },
      "source": [
        "target_log_val_series = pd.Series(target_log_val)"
      ],
      "execution_count": 0,
      "outputs": []
    },
    {
      "cell_type": "code",
      "metadata": {
        "id": "o-s4-jNY2MSt",
        "colab_type": "code",
        "colab": {}
      },
      "source": [
        "val = val.assign(log_total_cases = target_log_val_series)"
      ],
      "execution_count": 0,
      "outputs": []
    },
    {
      "cell_type": "code",
      "metadata": {
        "id": "odYk58QB2VfH",
        "colab_type": "code",
        "colab": {}
      },
      "source": [
        "val = val.drop(columns='Total dengue cases in the week')"
      ],
      "execution_count": 0,
      "outputs": []
    },
    {
      "cell_type": "code",
      "metadata": {
        "id": "U2ZolSKqnTS8",
        "colab_type": "code",
        "colab": {}
      },
      "source": [
        "#Fitting XGBoost Regresser model"
      ],
      "execution_count": 0,
      "outputs": []
    },
    {
      "cell_type": "code",
      "metadata": {
        "id": "XsfjJ5nR1jvQ",
        "colab_type": "code",
        "colab": {}
      },
      "source": [
        "#Define target and features"
      ],
      "execution_count": 0,
      "outputs": []
    },
    {
      "cell_type": "code",
      "metadata": {
        "id": "OxXgtCPH-oUD",
        "colab_type": "code",
        "colab": {}
      },
      "source": [
        "# The status_group column is the target\n",
        "target = 'log_total_cases'\n",
        "\n",
        "# Get a dataframe with all train columns except the target\n",
        "train_features = train.drop(columns=[target])\n",
        "\n",
        "# Get a list of the numeric features\n",
        "numeric_features = train_features.select_dtypes(include='number').columns.tolist()\n",
        "\n",
        "\n",
        "# Combine the lists \n",
        "features = numeric_features\n",
        "\n"
      ],
      "execution_count": 0,
      "outputs": []
    },
    {
      "cell_type": "code",
      "metadata": {
        "id": "hYrFsR9k-0jI",
        "colab_type": "code",
        "colab": {}
      },
      "source": [
        "# Arrange data into X features matrix and y target vector \n",
        "X_train = train[features]\n",
        "y_train = train[target]\n",
        "X_val = val[features]\n",
        "y_val = val[target]\n"
      ],
      "execution_count": 0,
      "outputs": []
    },
    {
      "cell_type": "code",
      "metadata": {
        "id": "tzA5VTf7OmFr",
        "colab_type": "code",
        "outputId": "93adeaa1-2ffb-4442-cc45-d994085b8dca",
        "colab": {
          "base_uri": "https://localhost:8080/",
          "height": 217
        }
      },
      "source": [
        "pip install category_encoders"
      ],
      "execution_count": 0,
      "outputs": [
        {
          "output_type": "stream",
          "text": [
            "Requirement already satisfied: category_encoders in /usr/local/lib/python3.6/dist-packages (2.1.0)\n",
            "Requirement already satisfied: patsy>=0.4.1 in /usr/local/lib/python3.6/dist-packages (from category_encoders) (0.5.1)\n",
            "Requirement already satisfied: pandas>=0.21.1 in /usr/local/lib/python3.6/dist-packages (from category_encoders) (0.25.3)\n",
            "Requirement already satisfied: numpy>=1.11.3 in /usr/local/lib/python3.6/dist-packages (from category_encoders) (1.17.4)\n",
            "Requirement already satisfied: statsmodels>=0.6.1 in /usr/local/lib/python3.6/dist-packages (from category_encoders) (0.10.2)\n",
            "Requirement already satisfied: scikit-learn>=0.20.0 in /usr/local/lib/python3.6/dist-packages (from category_encoders) (0.21.3)\n",
            "Requirement already satisfied: scipy>=0.19.0 in /usr/local/lib/python3.6/dist-packages (from category_encoders) (1.3.3)\n",
            "Requirement already satisfied: six in /usr/local/lib/python3.6/dist-packages (from patsy>=0.4.1->category_encoders) (1.12.0)\n",
            "Requirement already satisfied: python-dateutil>=2.6.1 in /usr/local/lib/python3.6/dist-packages (from pandas>=0.21.1->category_encoders) (2.6.1)\n",
            "Requirement already satisfied: pytz>=2017.2 in /usr/local/lib/python3.6/dist-packages (from pandas>=0.21.1->category_encoders) (2018.9)\n",
            "Requirement already satisfied: joblib>=0.11 in /usr/local/lib/python3.6/dist-packages (from scikit-learn>=0.20.0->category_encoders) (0.14.1)\n"
          ],
          "name": "stdout"
        }
      ]
    },
    {
      "cell_type": "code",
      "metadata": {
        "id": "bCJ__QJJnrIr",
        "colab_type": "code",
        "colab": {}
      },
      "source": [
        "from sklearn.pipeline import make_pipeline\n",
        "import category_encoders as ce\n",
        "from sklearn.impute import SimpleImputer\n",
        "from sklearn.preprocessing import StandardScaler\n",
        "from sklearn.preprocessing import OneHotEncoder\n",
        "import xgboost as xgb\n",
        "from xgboost import XGBRegressor\n",
        "from sklearn import model_selection, preprocessing"
      ],
      "execution_count": 0,
      "outputs": []
    },
    {
      "cell_type": "code",
      "metadata": {
        "id": "4xFk77kVnt4P",
        "colab_type": "code",
        "colab": {}
      },
      "source": [
        "processor = make_pipeline(\n",
        "    SimpleImputer(strategy='mean')\n",
        ")"
      ],
      "execution_count": 0,
      "outputs": []
    },
    {
      "cell_type": "code",
      "metadata": {
        "id": "s34s_ZdRnxuF",
        "colab_type": "code",
        "colab": {}
      },
      "source": [
        "X_train_processed = processor.fit_transform(X_train)\n",
        "X_val_processed = processor.transform(X_val)"
      ],
      "execution_count": 0,
      "outputs": []
    },
    {
      "cell_type": "code",
      "metadata": {
        "id": "f1JxnXggn0oO",
        "colab_type": "code",
        "colab": {}
      },
      "source": [
        "model = XGBRegressor(n_estimators=200, objective='reg:squarederror', n_jobs=-1)"
      ],
      "execution_count": 0,
      "outputs": []
    },
    {
      "cell_type": "code",
      "metadata": {
        "id": "S8aTiQGAn4KO",
        "colab_type": "code",
        "colab": {}
      },
      "source": [
        "eval_set = [(X_train_processed, y_train),\n",
        "            (X_val_processed, y_val)]"
      ],
      "execution_count": 0,
      "outputs": []
    },
    {
      "cell_type": "code",
      "metadata": {
        "id": "3ndb-q8en7L5",
        "colab_type": "code",
        "outputId": "270d8ebd-2bba-445e-dc63-a5d82806d58d",
        "colab": {
          "base_uri": "https://localhost:8080/",
          "height": 1000
        }
      },
      "source": [
        "model.fit(X_train_processed, y_train, eval_set=eval_set, eval_metric='mae', \n",
        "          early_stopping_rounds=10)"
      ],
      "execution_count": 0,
      "outputs": [
        {
          "output_type": "stream",
          "text": [
            "[0]\tvalidation_0-mae:2.24449\tvalidation_1-mae:2.28246\n",
            "Multiple eval metrics have been passed: 'validation_1-mae' will be used for early stopping.\n",
            "\n",
            "Will train until validation_1-mae hasn't improved in 10 rounds.\n",
            "[1]\tvalidation_0-mae:2.02547\tvalidation_1-mae:2.06074\n",
            "[2]\tvalidation_0-mae:1.82901\tvalidation_1-mae:1.86175\n",
            "[3]\tvalidation_0-mae:1.65258\tvalidation_1-mae:1.68912\n",
            "[4]\tvalidation_0-mae:1.49641\tvalidation_1-mae:1.53933\n",
            "[5]\tvalidation_0-mae:1.35902\tvalidation_1-mae:1.40622\n",
            "[6]\tvalidation_0-mae:1.23774\tvalidation_1-mae:1.29277\n",
            "[7]\tvalidation_0-mae:1.1287\tvalidation_1-mae:1.18481\n",
            "[8]\tvalidation_0-mae:1.03538\tvalidation_1-mae:1.09358\n",
            "[9]\tvalidation_0-mae:0.955272\tvalidation_1-mae:1.01295\n",
            "[10]\tvalidation_0-mae:0.884608\tvalidation_1-mae:0.942411\n",
            "[11]\tvalidation_0-mae:0.822789\tvalidation_1-mae:0.878638\n",
            "[12]\tvalidation_0-mae:0.768533\tvalidation_1-mae:0.826584\n",
            "[13]\tvalidation_0-mae:0.721295\tvalidation_1-mae:0.77858\n",
            "[14]\tvalidation_0-mae:0.682829\tvalidation_1-mae:0.739681\n",
            "[15]\tvalidation_0-mae:0.648601\tvalidation_1-mae:0.705739\n",
            "[16]\tvalidation_0-mae:0.617972\tvalidation_1-mae:0.673234\n",
            "[17]\tvalidation_0-mae:0.593674\tvalidation_1-mae:0.64636\n",
            "[18]\tvalidation_0-mae:0.572139\tvalidation_1-mae:0.622737\n",
            "[19]\tvalidation_0-mae:0.552235\tvalidation_1-mae:0.602255\n",
            "[20]\tvalidation_0-mae:0.535565\tvalidation_1-mae:0.583522\n",
            "[21]\tvalidation_0-mae:0.521787\tvalidation_1-mae:0.569353\n",
            "[22]\tvalidation_0-mae:0.5093\tvalidation_1-mae:0.555209\n",
            "[23]\tvalidation_0-mae:0.498432\tvalidation_1-mae:0.542179\n",
            "[24]\tvalidation_0-mae:0.489574\tvalidation_1-mae:0.532254\n",
            "[25]\tvalidation_0-mae:0.479604\tvalidation_1-mae:0.522941\n",
            "[26]\tvalidation_0-mae:0.472039\tvalidation_1-mae:0.513024\n",
            "[27]\tvalidation_0-mae:0.46522\tvalidation_1-mae:0.5047\n",
            "[28]\tvalidation_0-mae:0.458556\tvalidation_1-mae:0.498911\n",
            "[29]\tvalidation_0-mae:0.454042\tvalidation_1-mae:0.494129\n"
          ],
          "name": "stdout"
        },
        {
          "output_type": "stream",
          "text": [
            "/usr/local/lib/python3.6/dist-packages/xgboost/core.py:587: FutureWarning: Series.base is deprecated and will be removed in a future version\n",
            "  if getattr(data, 'base', None) is not None and \\\n",
            "/usr/local/lib/python3.6/dist-packages/xgboost/core.py:588: FutureWarning: Series.base is deprecated and will be removed in a future version\n",
            "  data.base is not None and isinstance(data, np.ndarray) \\\n"
          ],
          "name": "stderr"
        },
        {
          "output_type": "stream",
          "text": [
            "[30]\tvalidation_0-mae:0.44902\tvalidation_1-mae:0.48946\n",
            "[31]\tvalidation_0-mae:0.444398\tvalidation_1-mae:0.484356\n",
            "[32]\tvalidation_0-mae:0.438233\tvalidation_1-mae:0.479458\n",
            "[33]\tvalidation_0-mae:0.435349\tvalidation_1-mae:0.477154\n",
            "[34]\tvalidation_0-mae:0.432246\tvalidation_1-mae:0.475891\n",
            "[35]\tvalidation_0-mae:0.428454\tvalidation_1-mae:0.472785\n",
            "[36]\tvalidation_0-mae:0.42311\tvalidation_1-mae:0.469222\n",
            "[37]\tvalidation_0-mae:0.421025\tvalidation_1-mae:0.467872\n",
            "[38]\tvalidation_0-mae:0.417904\tvalidation_1-mae:0.467604\n",
            "[39]\tvalidation_0-mae:0.415773\tvalidation_1-mae:0.466121\n",
            "[40]\tvalidation_0-mae:0.412215\tvalidation_1-mae:0.465796\n",
            "[41]\tvalidation_0-mae:0.409222\tvalidation_1-mae:0.463159\n",
            "[42]\tvalidation_0-mae:0.406101\tvalidation_1-mae:0.46065\n",
            "[43]\tvalidation_0-mae:0.400198\tvalidation_1-mae:0.454594\n",
            "[44]\tvalidation_0-mae:0.397263\tvalidation_1-mae:0.453352\n",
            "[45]\tvalidation_0-mae:0.394477\tvalidation_1-mae:0.451574\n",
            "[46]\tvalidation_0-mae:0.391663\tvalidation_1-mae:0.449476\n",
            "[47]\tvalidation_0-mae:0.389581\tvalidation_1-mae:0.448696\n",
            "[48]\tvalidation_0-mae:0.388215\tvalidation_1-mae:0.447901\n",
            "[49]\tvalidation_0-mae:0.385813\tvalidation_1-mae:0.446141\n",
            "[50]\tvalidation_0-mae:0.383133\tvalidation_1-mae:0.444571\n",
            "[51]\tvalidation_0-mae:0.380653\tvalidation_1-mae:0.442815\n",
            "[52]\tvalidation_0-mae:0.378254\tvalidation_1-mae:0.443043\n",
            "[53]\tvalidation_0-mae:0.372229\tvalidation_1-mae:0.437341\n",
            "[54]\tvalidation_0-mae:0.370064\tvalidation_1-mae:0.435592\n",
            "[55]\tvalidation_0-mae:0.368179\tvalidation_1-mae:0.433903\n",
            "[56]\tvalidation_0-mae:0.365737\tvalidation_1-mae:0.43302\n",
            "[57]\tvalidation_0-mae:0.364166\tvalidation_1-mae:0.432493\n",
            "[58]\tvalidation_0-mae:0.361858\tvalidation_1-mae:0.431593\n",
            "[59]\tvalidation_0-mae:0.359698\tvalidation_1-mae:0.430453\n",
            "[60]\tvalidation_0-mae:0.355386\tvalidation_1-mae:0.426439\n",
            "[61]\tvalidation_0-mae:0.353628\tvalidation_1-mae:0.425614\n",
            "[62]\tvalidation_0-mae:0.35217\tvalidation_1-mae:0.424542\n",
            "[63]\tvalidation_0-mae:0.350676\tvalidation_1-mae:0.423742\n",
            "[64]\tvalidation_0-mae:0.349491\tvalidation_1-mae:0.422671\n",
            "[65]\tvalidation_0-mae:0.34806\tvalidation_1-mae:0.422343\n",
            "[66]\tvalidation_0-mae:0.347177\tvalidation_1-mae:0.421775\n",
            "[67]\tvalidation_0-mae:0.343665\tvalidation_1-mae:0.42025\n",
            "[68]\tvalidation_0-mae:0.342428\tvalidation_1-mae:0.420006\n",
            "[69]\tvalidation_0-mae:0.340786\tvalidation_1-mae:0.419412\n",
            "[70]\tvalidation_0-mae:0.339769\tvalidation_1-mae:0.419739\n",
            "[71]\tvalidation_0-mae:0.336422\tvalidation_1-mae:0.415795\n",
            "[72]\tvalidation_0-mae:0.335398\tvalidation_1-mae:0.415328\n",
            "[73]\tvalidation_0-mae:0.334696\tvalidation_1-mae:0.415188\n",
            "[74]\tvalidation_0-mae:0.333102\tvalidation_1-mae:0.41473\n",
            "[75]\tvalidation_0-mae:0.331493\tvalidation_1-mae:0.414339\n",
            "[76]\tvalidation_0-mae:0.330546\tvalidation_1-mae:0.414514\n",
            "[77]\tvalidation_0-mae:0.329272\tvalidation_1-mae:0.413647\n",
            "[78]\tvalidation_0-mae:0.328251\tvalidation_1-mae:0.413533\n",
            "[79]\tvalidation_0-mae:0.327022\tvalidation_1-mae:0.413011\n",
            "[80]\tvalidation_0-mae:0.325405\tvalidation_1-mae:0.412587\n",
            "[81]\tvalidation_0-mae:0.323743\tvalidation_1-mae:0.412162\n",
            "[82]\tvalidation_0-mae:0.322371\tvalidation_1-mae:0.412159\n",
            "[83]\tvalidation_0-mae:0.321398\tvalidation_1-mae:0.411622\n",
            "[84]\tvalidation_0-mae:0.319896\tvalidation_1-mae:0.410221\n",
            "[85]\tvalidation_0-mae:0.318935\tvalidation_1-mae:0.409806\n",
            "[86]\tvalidation_0-mae:0.317978\tvalidation_1-mae:0.409583\n",
            "[87]\tvalidation_0-mae:0.316787\tvalidation_1-mae:0.409672\n",
            "[88]\tvalidation_0-mae:0.316485\tvalidation_1-mae:0.409661\n",
            "[89]\tvalidation_0-mae:0.314903\tvalidation_1-mae:0.408141\n",
            "[90]\tvalidation_0-mae:0.313887\tvalidation_1-mae:0.407718\n",
            "[91]\tvalidation_0-mae:0.312933\tvalidation_1-mae:0.407601\n",
            "[92]\tvalidation_0-mae:0.311416\tvalidation_1-mae:0.407184\n",
            "[93]\tvalidation_0-mae:0.311099\tvalidation_1-mae:0.407382\n",
            "[94]\tvalidation_0-mae:0.310136\tvalidation_1-mae:0.407382\n",
            "[95]\tvalidation_0-mae:0.308816\tvalidation_1-mae:0.406916\n",
            "[96]\tvalidation_0-mae:0.307239\tvalidation_1-mae:0.406953\n",
            "[97]\tvalidation_0-mae:0.306115\tvalidation_1-mae:0.406074\n",
            "[98]\tvalidation_0-mae:0.305146\tvalidation_1-mae:0.405599\n",
            "[99]\tvalidation_0-mae:0.304335\tvalidation_1-mae:0.405502\n",
            "[100]\tvalidation_0-mae:0.30354\tvalidation_1-mae:0.405252\n",
            "[101]\tvalidation_0-mae:0.302182\tvalidation_1-mae:0.404919\n",
            "[102]\tvalidation_0-mae:0.301051\tvalidation_1-mae:0.404281\n",
            "[103]\tvalidation_0-mae:0.298903\tvalidation_1-mae:0.400977\n",
            "[104]\tvalidation_0-mae:0.297816\tvalidation_1-mae:0.400567\n",
            "[105]\tvalidation_0-mae:0.297154\tvalidation_1-mae:0.400853\n",
            "[106]\tvalidation_0-mae:0.296422\tvalidation_1-mae:0.401093\n",
            "[107]\tvalidation_0-mae:0.295565\tvalidation_1-mae:0.401028\n",
            "[108]\tvalidation_0-mae:0.29473\tvalidation_1-mae:0.400126\n",
            "[109]\tvalidation_0-mae:0.292982\tvalidation_1-mae:0.400487\n",
            "[110]\tvalidation_0-mae:0.291988\tvalidation_1-mae:0.400865\n",
            "[111]\tvalidation_0-mae:0.291074\tvalidation_1-mae:0.400739\n",
            "[112]\tvalidation_0-mae:0.289097\tvalidation_1-mae:0.400618\n",
            "[113]\tvalidation_0-mae:0.287954\tvalidation_1-mae:0.40031\n",
            "[114]\tvalidation_0-mae:0.286422\tvalidation_1-mae:0.399439\n",
            "[115]\tvalidation_0-mae:0.285702\tvalidation_1-mae:0.39968\n",
            "[116]\tvalidation_0-mae:0.284716\tvalidation_1-mae:0.399143\n",
            "[117]\tvalidation_0-mae:0.283892\tvalidation_1-mae:0.398901\n",
            "[118]\tvalidation_0-mae:0.282873\tvalidation_1-mae:0.399018\n",
            "[119]\tvalidation_0-mae:0.280719\tvalidation_1-mae:0.396933\n",
            "[120]\tvalidation_0-mae:0.279866\tvalidation_1-mae:0.396967\n",
            "[121]\tvalidation_0-mae:0.279042\tvalidation_1-mae:0.397104\n",
            "[122]\tvalidation_0-mae:0.278431\tvalidation_1-mae:0.396644\n",
            "[123]\tvalidation_0-mae:0.277092\tvalidation_1-mae:0.396631\n",
            "[124]\tvalidation_0-mae:0.275804\tvalidation_1-mae:0.395912\n",
            "[125]\tvalidation_0-mae:0.274433\tvalidation_1-mae:0.396089\n",
            "[126]\tvalidation_0-mae:0.27382\tvalidation_1-mae:0.395785\n",
            "[127]\tvalidation_0-mae:0.273051\tvalidation_1-mae:0.396149\n",
            "[128]\tvalidation_0-mae:0.271946\tvalidation_1-mae:0.395913\n",
            "[129]\tvalidation_0-mae:0.270202\tvalidation_1-mae:0.395622\n",
            "[130]\tvalidation_0-mae:0.269002\tvalidation_1-mae:0.395151\n",
            "[131]\tvalidation_0-mae:0.268301\tvalidation_1-mae:0.395287\n",
            "[132]\tvalidation_0-mae:0.267435\tvalidation_1-mae:0.394667\n",
            "[133]\tvalidation_0-mae:0.266672\tvalidation_1-mae:0.394653\n",
            "[134]\tvalidation_0-mae:0.266158\tvalidation_1-mae:0.394921\n",
            "[135]\tvalidation_0-mae:0.26532\tvalidation_1-mae:0.39451\n",
            "[136]\tvalidation_0-mae:0.264097\tvalidation_1-mae:0.394577\n",
            "[137]\tvalidation_0-mae:0.262994\tvalidation_1-mae:0.392677\n",
            "[138]\tvalidation_0-mae:0.262418\tvalidation_1-mae:0.393105\n",
            "[139]\tvalidation_0-mae:0.261813\tvalidation_1-mae:0.39285\n",
            "[140]\tvalidation_0-mae:0.26101\tvalidation_1-mae:0.39314\n",
            "[141]\tvalidation_0-mae:0.260314\tvalidation_1-mae:0.392967\n",
            "[142]\tvalidation_0-mae:0.259243\tvalidation_1-mae:0.392767\n",
            "[143]\tvalidation_0-mae:0.25844\tvalidation_1-mae:0.393652\n",
            "[144]\tvalidation_0-mae:0.257598\tvalidation_1-mae:0.39342\n",
            "[145]\tvalidation_0-mae:0.256959\tvalidation_1-mae:0.393879\n",
            "[146]\tvalidation_0-mae:0.256222\tvalidation_1-mae:0.393628\n",
            "[147]\tvalidation_0-mae:0.255625\tvalidation_1-mae:0.394062\n",
            "Stopping. Best iteration:\n",
            "[137]\tvalidation_0-mae:0.262994\tvalidation_1-mae:0.392677\n",
            "\n"
          ],
          "name": "stdout"
        },
        {
          "output_type": "execute_result",
          "data": {
            "text/plain": [
              "XGBRegressor(base_score=0.5, booster='gbtree', colsample_bylevel=1,\n",
              "             colsample_bynode=1, colsample_bytree=1, gamma=0,\n",
              "             importance_type='gain', learning_rate=0.1, max_delta_step=0,\n",
              "             max_depth=3, min_child_weight=1, missing=None, n_estimators=200,\n",
              "             n_jobs=-1, nthread=None, objective='reg:squarederror',\n",
              "             random_state=0, reg_alpha=0, reg_lambda=1, scale_pos_weight=1,\n",
              "             seed=None, silent=None, subsample=1, verbosity=1)"
            ]
          },
          "metadata": {
            "tags": []
          },
          "execution_count": 59
        }
      ]
    },
    {
      "cell_type": "code",
      "metadata": {
        "id": "kbUgqJv1oG6k",
        "colab_type": "code",
        "outputId": "62140612-b97e-4962-eacc-f8ee86615990",
        "colab": {
          "base_uri": "https://localhost:8080/",
          "height": 459
        }
      },
      "source": [
        "results = model.evals_result()\n",
        "train_error = results['validation_0']['mae']\n",
        "val_error = results['validation_1']['mae']\n",
        "\n",
        "iterations = range(1, len(train_error) + 1)\n",
        "\n",
        "plt.figure(figsize=(10,7))\n",
        "plt.plot(iterations, train_error, label='Train')\n",
        "plt.plot(iterations, val_error, label='Validation')\n",
        "plt.title('XGBoost Validation Curve')\n",
        "plt.ylabel('Mean Absolute Error (log transformed)')\n",
        "plt.xlabel('Model Complexity (n_estimators)')\n",
        "plt.legend();"
      ],
      "execution_count": 0,
      "outputs": [
        {
          "output_type": "display_data",
          "data": {
            "image/png": "[encoded data removed]",
            "text/plain": [
              "<Figure size 720x504 with 1 Axes>"
            ]
          },
          "metadata": {
            "tags": []
          }
        }
      ]
    },
    {
      "cell_type": "code",
      "metadata": {
        "id": "wIUEQSD4oIhJ",
        "colab_type": "code",
        "colab": {}
      },
      "source": [
        "#predict on X_val\n",
        "y_pred = model.predict(X_val_processed)"
      ],
      "execution_count": 0,
      "outputs": []
    },
    {
      "cell_type": "code",
      "metadata": {
        "id": "Oj_pLZNmoMEk",
        "colab_type": "code",
        "outputId": "d648e8d1-6930-4456-e998-73438bbefec7",
        "colab": {
          "base_uri": "https://localhost:8080/",
          "height": 35
        }
      },
      "source": [
        "print('XGBoost Validation Mean Absolute Error, log transformed)', mean_absolute_error(y_val, y_pred))"
      ],
      "execution_count": 0,
      "outputs": [
        {
          "output_type": "stream",
          "text": [
            "XGBoost Validation Mean Absolute Error, log transformed) 0.3926767604073872\n"
          ],
          "name": "stdout"
        }
      ]
    },
    {
      "cell_type": "code",
      "metadata": {
        "id": "Bps-Txc3oXmE",
        "colab_type": "code",
        "colab": {}
      },
      "source": [
        "#Transform y_pred back to original units from log transformed\n",
        "y_pred_original = np.expm1(y_pred)"
      ],
      "execution_count": 0,
      "outputs": []
    },
    {
      "cell_type": "code",
      "metadata": {
        "id": "IaS_w4KXoby7",
        "colab_type": "code",
        "colab": {}
      },
      "source": [
        "y_val_original = np.expm1(y_val)"
      ],
      "execution_count": 0,
      "outputs": []
    },
    {
      "cell_type": "code",
      "metadata": {
        "id": "VH-LeIMfoeRb",
        "colab_type": "code",
        "outputId": "a48e7110-5e4d-4034-a4df-1643d18c4169",
        "colab": {
          "base_uri": "https://localhost:8080/",
          "height": 35
        }
      },
      "source": [
        "print('XGBoost Validation Mean Absolute Error (non-log transformed)', mean_absolute_error(y_val_original, y_pred_original))"
      ],
      "execution_count": 0,
      "outputs": [
        {
          "output_type": "stream",
          "text": [
            "XGBoost Validation Mean Absolute Error (non-log transformed) 14.935947114421474\n"
          ],
          "name": "stdout"
        }
      ]
    }
  ]
}